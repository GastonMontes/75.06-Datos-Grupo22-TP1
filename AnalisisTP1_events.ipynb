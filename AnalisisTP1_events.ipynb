{
 "cells": [
  {
   "cell_type": "code",
   "execution_count": 1,
   "metadata": {},
   "outputs": [],
   "source": [
    "import pandas as pd\n",
    "import numpy as np\n",
    "import matplotlib.pyplot as plt\n",
    "import seaborn as sns\n",
    "import datetime\n",
    "\n",
    "%matplotlib inline\n",
    "\n",
    "plt.style.use('default')\n",
    "sns.set(style=\"whitegrid\") # tipo de grid seaborn"
   ]
  },
  {
   "cell_type": "code",
   "execution_count": 2,
   "metadata": {},
   "outputs": [],
   "source": [
    "path_eventos = 'events.csv.gzip'\n",
    "#path_auctions = 'auctions.csv.gzip'\n",
    "#path_clicks = 'clicks.csv.gzip'\n",
    "#path_installs = 'installs.csv.gzip'\n",
    "\n",
    "events = pd.read_csv(path_eventos, compression='gzip', dtype={'date': 'object', 'event_id': 'Int64',\\\n",
    "                                                              'ref_type': 'Int64', 'ref_hash': 'Int64',\\\n",
    "                                                             'application_id': 'Int64', 'attributed': 'bool',\\\n",
    "                                                             'device_countrycode': 'Int64', 'device_os_version': 'Float64',\\\n",
    "                                                             'device_brand': 'Float64', 'device_model': 'Float64', 'device_city': 'Float64',\\\n",
    "                                                             'session_user_agent': 'Float64', 'trans_id': 'object', 'user_agent': 'Float64',\\\n",
    "                                                             'event_uuid': 'object', 'carrier': 'Float64', 'kind': 'Float64', 'device_os': 'Float64',\\\n",
    "                                                             'wifi': 'object', 'connection_type': 'object', 'ip_address': 'Int64', 'device_language': 'Float64'})\n",
    "#auctions = pd.read_csv(path_auctions, compression='gzip')\n",
    "#clicks = pd.read_csv(path_clicks, compression='gzip')\n",
    "#installs = pd.read_csv(path_installs, compression='gzip')"
   ]
  },
  {
   "cell_type": "markdown",
   "metadata": {},
   "source": [
    "# Analisis Previo Events"
   ]
  },
  {
   "cell_type": "code",
   "execution_count": 3,
   "metadata": {},
   "outputs": [
    {
     "data": {
      "text/plain": [
       "(2494423, 22)"
      ]
     },
     "execution_count": 3,
     "metadata": {},
     "output_type": "execute_result"
    }
   ],
   "source": [
    "events.shape"
   ]
  },
  {
   "cell_type": "code",
   "execution_count": 4,
   "metadata": {},
   "outputs": [
    {
     "name": "stdout",
     "output_type": "stream",
     "text": [
      "<class 'pandas.core.frame.DataFrame'>\n",
      "RangeIndex: 2494423 entries, 0 to 2494422\n",
      "Data columns (total 22 columns):\n",
      "date                  object\n",
      "event_id              int64\n",
      "ref_type              int64\n",
      "ref_hash              int64\n",
      "application_id        int64\n",
      "attributed            bool\n",
      "device_countrycode    int64\n",
      "device_os_version     float64\n",
      "device_brand          float64\n",
      "device_model          float64\n",
      "device_city           float64\n",
      "session_user_agent    float64\n",
      "trans_id              object\n",
      "user_agent            float64\n",
      "event_uuid            object\n",
      "carrier               float64\n",
      "kind                  float64\n",
      "device_os             float64\n",
      "wifi                  object\n",
      "connection_type       object\n",
      "ip_address            int64\n",
      "device_language       float64\n",
      "dtypes: bool(1), float64(10), int64(6), object(5)\n",
      "memory usage: 402.0+ MB\n"
     ]
    }
   ],
   "source": [
    "events.info()"
   ]
  },
  {
   "cell_type": "code",
   "execution_count": 5,
   "metadata": {},
   "outputs": [
    {
     "data": {
      "text/html": [
       "<div>\n",
       "<style scoped>\n",
       "    .dataframe tbody tr th:only-of-type {\n",
       "        vertical-align: middle;\n",
       "    }\n",
       "\n",
       "    .dataframe tbody tr th {\n",
       "        vertical-align: top;\n",
       "    }\n",
       "\n",
       "    .dataframe thead th {\n",
       "        text-align: right;\n",
       "    }\n",
       "</style>\n",
       "<table border=\"1\" class=\"dataframe\">\n",
       "  <thead>\n",
       "    <tr style=\"text-align: right;\">\n",
       "      <th></th>\n",
       "      <th>date</th>\n",
       "      <th>event_id</th>\n",
       "      <th>ref_type</th>\n",
       "      <th>ref_hash</th>\n",
       "      <th>application_id</th>\n",
       "      <th>attributed</th>\n",
       "      <th>device_countrycode</th>\n",
       "      <th>device_os_version</th>\n",
       "      <th>device_brand</th>\n",
       "      <th>device_model</th>\n",
       "      <th>...</th>\n",
       "      <th>trans_id</th>\n",
       "      <th>user_agent</th>\n",
       "      <th>event_uuid</th>\n",
       "      <th>carrier</th>\n",
       "      <th>kind</th>\n",
       "      <th>device_os</th>\n",
       "      <th>wifi</th>\n",
       "      <th>connection_type</th>\n",
       "      <th>ip_address</th>\n",
       "      <th>device_language</th>\n",
       "    </tr>\n",
       "  </thead>\n",
       "  <tbody>\n",
       "    <tr>\n",
       "      <th>0</th>\n",
       "      <td>2019-03-05 00:09:36.966</td>\n",
       "      <td>0</td>\n",
       "      <td>1891515180541284343</td>\n",
       "      <td>2688759737656491380</td>\n",
       "      <td>38</td>\n",
       "      <td>False</td>\n",
       "      <td>6333597102633388268</td>\n",
       "      <td>5.908703e+17</td>\n",
       "      <td>NaN</td>\n",
       "      <td>5.990117e+18</td>\n",
       "      <td>...</td>\n",
       "      <td>NaN</td>\n",
       "      <td>NaN</td>\n",
       "      <td>a9c0b263-acb2-4577-92c5-cbde5d7a5db1</td>\n",
       "      <td>2.248157e+17</td>\n",
       "      <td>5.516623e+18</td>\n",
       "      <td>7.531669e+18</td>\n",
       "      <td>NaN</td>\n",
       "      <td>Cable/DSL</td>\n",
       "      <td>7858558567428669000</td>\n",
       "      <td>4.077062e+17</td>\n",
       "    </tr>\n",
       "    <tr>\n",
       "      <th>1</th>\n",
       "      <td>2019-03-05 00:09:38.920</td>\n",
       "      <td>1</td>\n",
       "      <td>1891515180541284343</td>\n",
       "      <td>2688759737656491380</td>\n",
       "      <td>38</td>\n",
       "      <td>False</td>\n",
       "      <td>6333597102633388268</td>\n",
       "      <td>5.908703e+17</td>\n",
       "      <td>NaN</td>\n",
       "      <td>5.990117e+18</td>\n",
       "      <td>...</td>\n",
       "      <td>NaN</td>\n",
       "      <td>NaN</td>\n",
       "      <td>1cd98205-0d97-4ec2-a019-667997dbfe7a</td>\n",
       "      <td>2.248157e+17</td>\n",
       "      <td>9.977660e+17</td>\n",
       "      <td>7.531669e+18</td>\n",
       "      <td>NaN</td>\n",
       "      <td>Cable/DSL</td>\n",
       "      <td>7858558567428669000</td>\n",
       "      <td>4.077062e+17</td>\n",
       "    </tr>\n",
       "    <tr>\n",
       "      <th>2</th>\n",
       "      <td>2019-03-05 00:09:26.195</td>\n",
       "      <td>0</td>\n",
       "      <td>1891515180541284343</td>\n",
       "      <td>2688759737656491380</td>\n",
       "      <td>38</td>\n",
       "      <td>False</td>\n",
       "      <td>6333597102633388268</td>\n",
       "      <td>5.908703e+17</td>\n",
       "      <td>NaN</td>\n",
       "      <td>5.990117e+18</td>\n",
       "      <td>...</td>\n",
       "      <td>NaN</td>\n",
       "      <td>NaN</td>\n",
       "      <td>f02e2924-21ae-492b-b625-9021ae0a4eca</td>\n",
       "      <td>2.248157e+17</td>\n",
       "      <td>5.516623e+18</td>\n",
       "      <td>7.531669e+18</td>\n",
       "      <td>NaN</td>\n",
       "      <td>Cable/DSL</td>\n",
       "      <td>7858558567428669000</td>\n",
       "      <td>4.077062e+17</td>\n",
       "    </tr>\n",
       "    <tr>\n",
       "      <th>3</th>\n",
       "      <td>2019-03-05 00:09:31.107</td>\n",
       "      <td>2</td>\n",
       "      <td>1891515180541284343</td>\n",
       "      <td>2688759737656491380</td>\n",
       "      <td>38</td>\n",
       "      <td>False</td>\n",
       "      <td>6333597102633388268</td>\n",
       "      <td>5.908703e+17</td>\n",
       "      <td>NaN</td>\n",
       "      <td>5.990117e+18</td>\n",
       "      <td>...</td>\n",
       "      <td>NaN</td>\n",
       "      <td>NaN</td>\n",
       "      <td>a813cf45-a36e-4668-85e2-5395f1564e98</td>\n",
       "      <td>2.248157e+17</td>\n",
       "      <td>8.561153e+18</td>\n",
       "      <td>7.531669e+18</td>\n",
       "      <td>NaN</td>\n",
       "      <td>Cable/DSL</td>\n",
       "      <td>6324037615828123965</td>\n",
       "      <td>4.077062e+17</td>\n",
       "    </tr>\n",
       "    <tr>\n",
       "      <th>4</th>\n",
       "      <td>2019-03-09 21:00:36.585</td>\n",
       "      <td>3</td>\n",
       "      <td>1891515180541284343</td>\n",
       "      <td>2635154697734164782</td>\n",
       "      <td>38</td>\n",
       "      <td>False</td>\n",
       "      <td>6333597102633388268</td>\n",
       "      <td>7.391844e+18</td>\n",
       "      <td>NaN</td>\n",
       "      <td>5.960896e+18</td>\n",
       "      <td>...</td>\n",
       "      <td>NaN</td>\n",
       "      <td>NaN</td>\n",
       "      <td>63a4f0aa-e147-469f-8c55-4ca4f8d0e310</td>\n",
       "      <td>2.248157e+17</td>\n",
       "      <td>8.731902e+17</td>\n",
       "      <td>7.531669e+18</td>\n",
       "      <td>NaN</td>\n",
       "      <td>Cable/DSL</td>\n",
       "      <td>2894495631302821483</td>\n",
       "      <td>3.301378e+18</td>\n",
       "    </tr>\n",
       "  </tbody>\n",
       "</table>\n",
       "<p>5 rows × 22 columns</p>\n",
       "</div>"
      ],
      "text/plain": [
       "                      date  event_id             ref_type  \\\n",
       "0  2019-03-05 00:09:36.966         0  1891515180541284343   \n",
       "1  2019-03-05 00:09:38.920         1  1891515180541284343   \n",
       "2  2019-03-05 00:09:26.195         0  1891515180541284343   \n",
       "3  2019-03-05 00:09:31.107         2  1891515180541284343   \n",
       "4  2019-03-09 21:00:36.585         3  1891515180541284343   \n",
       "\n",
       "              ref_hash  application_id  attributed   device_countrycode  \\\n",
       "0  2688759737656491380              38       False  6333597102633388268   \n",
       "1  2688759737656491380              38       False  6333597102633388268   \n",
       "2  2688759737656491380              38       False  6333597102633388268   \n",
       "3  2688759737656491380              38       False  6333597102633388268   \n",
       "4  2635154697734164782              38       False  6333597102633388268   \n",
       "\n",
       "   device_os_version  device_brand  device_model       ...        trans_id  \\\n",
       "0       5.908703e+17           NaN  5.990117e+18       ...             NaN   \n",
       "1       5.908703e+17           NaN  5.990117e+18       ...             NaN   \n",
       "2       5.908703e+17           NaN  5.990117e+18       ...             NaN   \n",
       "3       5.908703e+17           NaN  5.990117e+18       ...             NaN   \n",
       "4       7.391844e+18           NaN  5.960896e+18       ...             NaN   \n",
       "\n",
       "   user_agent                            event_uuid       carrier  \\\n",
       "0         NaN  a9c0b263-acb2-4577-92c5-cbde5d7a5db1  2.248157e+17   \n",
       "1         NaN  1cd98205-0d97-4ec2-a019-667997dbfe7a  2.248157e+17   \n",
       "2         NaN  f02e2924-21ae-492b-b625-9021ae0a4eca  2.248157e+17   \n",
       "3         NaN  a813cf45-a36e-4668-85e2-5395f1564e98  2.248157e+17   \n",
       "4         NaN  63a4f0aa-e147-469f-8c55-4ca4f8d0e310  2.248157e+17   \n",
       "\n",
       "           kind     device_os  wifi  connection_type           ip_address  \\\n",
       "0  5.516623e+18  7.531669e+18   NaN        Cable/DSL  7858558567428669000   \n",
       "1  9.977660e+17  7.531669e+18   NaN        Cable/DSL  7858558567428669000   \n",
       "2  5.516623e+18  7.531669e+18   NaN        Cable/DSL  7858558567428669000   \n",
       "3  8.561153e+18  7.531669e+18   NaN        Cable/DSL  6324037615828123965   \n",
       "4  8.731902e+17  7.531669e+18   NaN        Cable/DSL  2894495631302821483   \n",
       "\n",
       "  device_language  \n",
       "0    4.077062e+17  \n",
       "1    4.077062e+17  \n",
       "2    4.077062e+17  \n",
       "3    4.077062e+17  \n",
       "4    3.301378e+18  \n",
       "\n",
       "[5 rows x 22 columns]"
      ]
     },
     "execution_count": 5,
     "metadata": {},
     "output_type": "execute_result"
    }
   ],
   "source": [
    "events.head()"
   ]
  },
  {
   "cell_type": "code",
   "execution_count": 6,
   "metadata": {},
   "outputs": [
    {
     "data": {
      "text/html": [
       "<div>\n",
       "<style scoped>\n",
       "    .dataframe tbody tr th:only-of-type {\n",
       "        vertical-align: middle;\n",
       "    }\n",
       "\n",
       "    .dataframe tbody tr th {\n",
       "        vertical-align: top;\n",
       "    }\n",
       "\n",
       "    .dataframe thead th {\n",
       "        text-align: right;\n",
       "    }\n",
       "</style>\n",
       "<table border=\"1\" class=\"dataframe\">\n",
       "  <thead>\n",
       "    <tr style=\"text-align: right;\">\n",
       "      <th></th>\n",
       "      <th>event_id</th>\n",
       "      <th>ref_type</th>\n",
       "      <th>ref_hash</th>\n",
       "      <th>application_id</th>\n",
       "      <th>device_countrycode</th>\n",
       "      <th>device_os_version</th>\n",
       "      <th>device_brand</th>\n",
       "      <th>device_model</th>\n",
       "      <th>device_city</th>\n",
       "      <th>session_user_agent</th>\n",
       "      <th>user_agent</th>\n",
       "      <th>carrier</th>\n",
       "      <th>kind</th>\n",
       "      <th>device_os</th>\n",
       "      <th>ip_address</th>\n",
       "      <th>device_language</th>\n",
       "    </tr>\n",
       "  </thead>\n",
       "  <tbody>\n",
       "    <tr>\n",
       "      <th>count</th>\n",
       "      <td>2.494423e+06</td>\n",
       "      <td>2.494423e+06</td>\n",
       "      <td>2.494423e+06</td>\n",
       "      <td>2.494423e+06</td>\n",
       "      <td>2.494423e+06</td>\n",
       "      <td>1.022066e+06</td>\n",
       "      <td>1.164963e+06</td>\n",
       "      <td>2.406456e+06</td>\n",
       "      <td>6.146980e+05</td>\n",
       "      <td>2.482637e+06</td>\n",
       "      <td>1.391527e+06</td>\n",
       "      <td>6.164340e+05</td>\n",
       "      <td>2.489324e+06</td>\n",
       "      <td>6.576670e+05</td>\n",
       "      <td>2.494423e+06</td>\n",
       "      <td>2.406604e+06</td>\n",
       "    </tr>\n",
       "    <tr>\n",
       "      <th>mean</th>\n",
       "      <td>9.970445e+01</td>\n",
       "      <td>1.794164e+18</td>\n",
       "      <td>4.641486e+18</td>\n",
       "      <td>9.910934e+01</td>\n",
       "      <td>6.333597e+18</td>\n",
       "      <td>4.986001e+18</td>\n",
       "      <td>1.633891e+18</td>\n",
       "      <td>4.478847e+18</td>\n",
       "      <td>3.832628e+18</td>\n",
       "      <td>4.719312e+18</td>\n",
       "      <td>4.856492e+18</td>\n",
       "      <td>1.470186e+18</td>\n",
       "      <td>5.364362e+18</td>\n",
       "      <td>7.251101e+18</td>\n",
       "      <td>4.620786e+18</td>\n",
       "      <td>5.865447e+18</td>\n",
       "    </tr>\n",
       "    <tr>\n",
       "      <th>std</th>\n",
       "      <td>1.070903e+02</td>\n",
       "      <td>1.707944e+17</td>\n",
       "      <td>2.660724e+18</td>\n",
       "      <td>5.780986e+01</td>\n",
       "      <td>1.778596e+08</td>\n",
       "      <td>2.394834e+18</td>\n",
       "      <td>1.626674e+18</td>\n",
       "      <td>2.718014e+18</td>\n",
       "      <td>8.166911e+17</td>\n",
       "      <td>1.769561e+18</td>\n",
       "      <td>2.487552e+18</td>\n",
       "      <td>2.575962e+18</td>\n",
       "      <td>2.242979e+18</td>\n",
       "      <td>5.247066e+17</td>\n",
       "      <td>2.672746e+18</td>\n",
       "      <td>2.281192e+18</td>\n",
       "    </tr>\n",
       "    <tr>\n",
       "      <th>min</th>\n",
       "      <td>0.000000e+00</td>\n",
       "      <td>1.494519e+18</td>\n",
       "      <td>1.633675e+14</td>\n",
       "      <td>0.000000e+00</td>\n",
       "      <td>6.333597e+18</td>\n",
       "      <td>1.004084e+16</td>\n",
       "      <td>7.949737e+16</td>\n",
       "      <td>9.530216e+14</td>\n",
       "      <td>4.355428e+16</td>\n",
       "      <td>5.527631e+15</td>\n",
       "      <td>5.072532e+15</td>\n",
       "      <td>2.248157e+17</td>\n",
       "      <td>7.758270e+16</td>\n",
       "      <td>2.748831e+18</td>\n",
       "      <td>5.287755e+12</td>\n",
       "      <td>2.025809e+16</td>\n",
       "    </tr>\n",
       "    <tr>\n",
       "      <th>25%</th>\n",
       "      <td>2.200000e+01</td>\n",
       "      <td>1.891515e+18</td>\n",
       "      <td>2.326142e+18</td>\n",
       "      <td>6.300000e+01</td>\n",
       "      <td>6.333597e+18</td>\n",
       "      <td>4.353750e+18</td>\n",
       "      <td>3.083059e+17</td>\n",
       "      <td>2.331947e+18</td>\n",
       "      <td>3.800080e+18</td>\n",
       "      <td>3.819516e+18</td>\n",
       "      <td>2.723465e+18</td>\n",
       "      <td>2.248157e+17</td>\n",
       "      <td>4.647949e+18</td>\n",
       "      <td>6.941825e+18</td>\n",
       "      <td>2.333410e+18</td>\n",
       "      <td>3.301378e+18</td>\n",
       "    </tr>\n",
       "    <tr>\n",
       "      <th>50%</th>\n",
       "      <td>3.100000e+01</td>\n",
       "      <td>1.891515e+18</td>\n",
       "      <td>4.688964e+18</td>\n",
       "      <td>6.600000e+01</td>\n",
       "      <td>6.333597e+18</td>\n",
       "      <td>4.353750e+18</td>\n",
       "      <td>5.137992e+17</td>\n",
       "      <td>4.430579e+18</td>\n",
       "      <td>3.800080e+18</td>\n",
       "      <td>3.819516e+18</td>\n",
       "      <td>5.022936e+18</td>\n",
       "      <td>2.248157e+17</td>\n",
       "      <td>5.500848e+18</td>\n",
       "      <td>7.531669e+18</td>\n",
       "      <td>4.541498e+18</td>\n",
       "      <td>6.804428e+18</td>\n",
       "    </tr>\n",
       "    <tr>\n",
       "      <th>75%</th>\n",
       "      <td>1.610000e+02</td>\n",
       "      <td>1.891515e+18</td>\n",
       "      <td>6.927594e+18</td>\n",
       "      <td>1.450000e+02</td>\n",
       "      <td>6.333597e+18</td>\n",
       "      <td>7.391844e+18</td>\n",
       "      <td>2.987569e+18</td>\n",
       "      <td>6.882415e+18</td>\n",
       "      <td>3.800080e+18</td>\n",
       "      <td>7.164321e+18</td>\n",
       "      <td>6.840860e+18</td>\n",
       "      <td>1.179587e+18</td>\n",
       "      <td>6.169667e+18</td>\n",
       "      <td>7.531669e+18</td>\n",
       "      <td>7.044307e+18</td>\n",
       "      <td>6.977049e+18</td>\n",
       "    </tr>\n",
       "    <tr>\n",
       "      <th>max</th>\n",
       "      <td>7.120000e+02</td>\n",
       "      <td>1.891515e+18</td>\n",
       "      <td>9.223316e+18</td>\n",
       "      <td>3.220000e+02</td>\n",
       "      <td>6.333597e+18</td>\n",
       "      <td>9.135482e+18</td>\n",
       "      <td>9.178260e+18</td>\n",
       "      <td>9.222450e+18</td>\n",
       "      <td>9.205669e+18</td>\n",
       "      <td>9.220949e+18</td>\n",
       "      <td>9.223277e+18</td>\n",
       "      <td>9.182957e+18</td>\n",
       "      <td>9.215473e+18</td>\n",
       "      <td>7.531669e+18</td>\n",
       "      <td>9.223367e+18</td>\n",
       "      <td>9.187882e+18</td>\n",
       "    </tr>\n",
       "  </tbody>\n",
       "</table>\n",
       "</div>"
      ],
      "text/plain": [
       "           event_id      ref_type      ref_hash  application_id  \\\n",
       "count  2.494423e+06  2.494423e+06  2.494423e+06    2.494423e+06   \n",
       "mean   9.970445e+01  1.794164e+18  4.641486e+18    9.910934e+01   \n",
       "std    1.070903e+02  1.707944e+17  2.660724e+18    5.780986e+01   \n",
       "min    0.000000e+00  1.494519e+18  1.633675e+14    0.000000e+00   \n",
       "25%    2.200000e+01  1.891515e+18  2.326142e+18    6.300000e+01   \n",
       "50%    3.100000e+01  1.891515e+18  4.688964e+18    6.600000e+01   \n",
       "75%    1.610000e+02  1.891515e+18  6.927594e+18    1.450000e+02   \n",
       "max    7.120000e+02  1.891515e+18  9.223316e+18    3.220000e+02   \n",
       "\n",
       "       device_countrycode  device_os_version  device_brand  device_model  \\\n",
       "count        2.494423e+06       1.022066e+06  1.164963e+06  2.406456e+06   \n",
       "mean         6.333597e+18       4.986001e+18  1.633891e+18  4.478847e+18   \n",
       "std          1.778596e+08       2.394834e+18  1.626674e+18  2.718014e+18   \n",
       "min          6.333597e+18       1.004084e+16  7.949737e+16  9.530216e+14   \n",
       "25%          6.333597e+18       4.353750e+18  3.083059e+17  2.331947e+18   \n",
       "50%          6.333597e+18       4.353750e+18  5.137992e+17  4.430579e+18   \n",
       "75%          6.333597e+18       7.391844e+18  2.987569e+18  6.882415e+18   \n",
       "max          6.333597e+18       9.135482e+18  9.178260e+18  9.222450e+18   \n",
       "\n",
       "        device_city  session_user_agent    user_agent       carrier  \\\n",
       "count  6.146980e+05        2.482637e+06  1.391527e+06  6.164340e+05   \n",
       "mean   3.832628e+18        4.719312e+18  4.856492e+18  1.470186e+18   \n",
       "std    8.166911e+17        1.769561e+18  2.487552e+18  2.575962e+18   \n",
       "min    4.355428e+16        5.527631e+15  5.072532e+15  2.248157e+17   \n",
       "25%    3.800080e+18        3.819516e+18  2.723465e+18  2.248157e+17   \n",
       "50%    3.800080e+18        3.819516e+18  5.022936e+18  2.248157e+17   \n",
       "75%    3.800080e+18        7.164321e+18  6.840860e+18  1.179587e+18   \n",
       "max    9.205669e+18        9.220949e+18  9.223277e+18  9.182957e+18   \n",
       "\n",
       "               kind     device_os    ip_address  device_language  \n",
       "count  2.489324e+06  6.576670e+05  2.494423e+06     2.406604e+06  \n",
       "mean   5.364362e+18  7.251101e+18  4.620786e+18     5.865447e+18  \n",
       "std    2.242979e+18  5.247066e+17  2.672746e+18     2.281192e+18  \n",
       "min    7.758270e+16  2.748831e+18  5.287755e+12     2.025809e+16  \n",
       "25%    4.647949e+18  6.941825e+18  2.333410e+18     3.301378e+18  \n",
       "50%    5.500848e+18  7.531669e+18  4.541498e+18     6.804428e+18  \n",
       "75%    6.169667e+18  7.531669e+18  7.044307e+18     6.977049e+18  \n",
       "max    9.215473e+18  7.531669e+18  9.223367e+18     9.187882e+18  "
      ]
     },
     "execution_count": 6,
     "metadata": {},
     "output_type": "execute_result"
    }
   ],
   "source": [
    "events.describe()"
   ]
  },
  {
   "cell_type": "code",
   "execution_count": 7,
   "metadata": {},
   "outputs": [],
   "source": [
    "# Damos formato a la fecha.\n",
    "events['timestamp_format'] = pd.to_datetime(events['date'])\n",
    "\n",
    "# Agrego columna fecha\n",
    "events['date'] = events['timestamp_format'].dt.date\n",
    "# Agrego columna de mes.\n",
    "events['month'] = events['timestamp_format'].dt.month\n",
    "# Agrego columna nombre dia.\n",
    "events['weekday_name'] = events['timestamp_format'].dt.weekday_name\n",
    "# Agrego columna numero dia.\n",
    "events['day'] = events['timestamp_format'].dt.day\n",
    "# Agrego columna de horas\n",
    "events['hour'] = events['timestamp_format'].dt.hour\n",
    "\n",
    "# Id Evento como categoria\n",
    "events['event_category'] = events['event_id'].astype('category')"
   ]
  },
  {
   "cell_type": "markdown",
   "metadata": {},
   "source": [
    "# Analisis Temporal"
   ]
  },
  {
   "cell_type": "markdown",
   "metadata": {},
   "source": [
    "Antes de comenzar con el analisis, es necesario saber en cual rango de fechas estamos trabajando."
   ]
  },
  {
   "cell_type": "code",
   "execution_count": 8,
   "metadata": {},
   "outputs": [
    {
     "data": {
      "text/plain": [
       "Timestamp('2019-03-05 00:00:00.255000')"
      ]
     },
     "execution_count": 8,
     "metadata": {},
     "output_type": "execute_result"
    }
   ],
   "source": [
    "# fecha minima\n",
    "events['timestamp_format'].min()"
   ]
  },
  {
   "cell_type": "code",
   "execution_count": 9,
   "metadata": {},
   "outputs": [
    {
     "data": {
      "text/plain": [
       "Timestamp('2019-03-13 23:59:59.984000')"
      ]
     },
     "execution_count": 9,
     "metadata": {},
     "output_type": "execute_result"
    }
   ],
   "source": [
    "# fecha maxima\n",
    "events['timestamp_format'].max()"
   ]
  },
  {
   "cell_type": "markdown",
   "metadata": {},
   "source": [
    "Los primeros datos son del 5 de marzo de 2019 y el ultimo del 13 de marzo de 2019 (ambos dias limites estan incluidos en el rango de datos validos)"
   ]
  },
  {
   "cell_type": "markdown",
   "metadata": {},
   "source": [
    "¿Cuantos eventos se registraron por dia?"
   ]
  },
  {
   "cell_type": "code",
   "execution_count": 10,
   "metadata": {},
   "outputs": [
    {
     "data": {
      "image/png": "[encoded data removed]",
      "text/plain": [
       "<Figure size 1332x756 with 1 Axes>"
      ]
     },
     "metadata": {
      "needs_background": "light"
     },
     "output_type": "display_data"
    }
   ],
   "source": [
    "eventos_totales = events.groupby('date')['event_category'].count()\n",
    "g = eventos_totales.plot()\n",
    "g.set_xlabel(\"Tiempo\", fontsize=18)\n",
    "g.set_ylabel(\"Cantidad de Eventos\", fontsize=18)\n",
    "\n",
    "g.get_figure().set_size_inches(18.5, 10.5, forward=True)\n",
    "g.get_figure().savefig('img/cant_eventos_tiempo.png')"
   ]
  },
  {
   "cell_type": "code",
   "execution_count": 11,
   "metadata": {},
   "outputs": [
    {
     "data": {
      "image/png": "[encoded data removed]",
      "text/plain": [
       "<Figure size 1332x756 with 2 Axes>"
      ]
     },
     "metadata": {
      "needs_background": "light"
     },
     "output_type": "display_data"
    }
   ],
   "source": [
    "### Cantidad de eventos por combinacion de hora en el dia.\n",
    "# Filtro el dia 13 para que justo haya 1 semana de data\n",
    "events.loc[events['day'] < 13,:]\n",
    "events['event_c'] = 1\n",
    "for_heatmap_hr_day = events.pivot_table(index='hour', columns='weekday_name', values='event_c', aggfunc='sum')\n",
    "\n",
    "g = sns.heatmap(for_heatmap_hr_day , linewidths=.5, cmap=\"YlGnBu\") # annot=True\n",
    "g.set_title(\"Cantidad de Eventos segun Hora y Dia\", fontsize=22)\n",
    "g.set_xlabel(\"Dia\",fontsize=18)\n",
    "g.set_ylabel(\"Hora\", fontsize=18)\n",
    "\n",
    "\n",
    "g.get_figure().set_size_inches(18.5, 10.5, forward=True)\n",
    "g.get_figure().savefig('img/eventos_hr_dia.png')"
   ]
  },
  {
   "cell_type": "markdown",
   "metadata": {},
   "source": [
    "Los martes y miercoles son claramente los dias en los cuales se registraron mas eventos"
   ]
  },
  {
   "cell_type": "markdown",
   "metadata": {},
   "source": [
    "# Analisis general"
   ]
  },
  {
   "cell_type": "markdown",
   "metadata": {},
   "source": [
    "¿Cuales son las aplicaciones que registran la mayor cantidad de eventos?"
   ]
  },
  {
   "cell_type": "code",
   "execution_count": 12,
   "metadata": {},
   "outputs": [
    {
     "data": {
      "image/png": "[encoded data removed]",
      "text/plain": [
       "<Figure size 432x288 with 1 Axes>"
      ]
     },
     "metadata": {
      "needs_background": "light"
     },
     "output_type": "display_data"
    }
   ],
   "source": [
    "top_aplicaciones = events.groupby('application_id')['event_id'].agg('count').sort_values(ascending=False)[:10]\n",
    "g = sns.barplot(x=top_aplicaciones.values, y=top_aplicaciones.index, orient='h')\n",
    "g.set_title(\"Top aplicaciones\", fontsize=15)\n",
    "g.set_xlabel(\"Cantidad de Eventos\", fontsize=12)\n",
    "g.set_ylabel(\"ID Aplicacion\", fontsize=12)\n",
    "plt.show()\n",
    "\n",
    "g.get_figure().set_size_inches(18.5, 10.5, forward=True)\n",
    "g.get_figure().savefig('img/top_aplicaciones.png')"
   ]
  },
  {
   "cell_type": "markdown",
   "metadata": {},
   "source": [
    "Las aplicaciones 66, 64 y 145 son las que registran mayor cantidad de eventos en ese orden."
   ]
  },
  {
   "cell_type": "markdown",
   "metadata": {},
   "source": [
    "Busco top users"
   ]
  },
  {
   "cell_type": "code",
   "execution_count": 14,
   "metadata": {},
   "outputs": [
    {
     "data": {
      "image/png": "[encoded data removed]",
      "text/plain": [
       "<Figure size 432x288 with 1 Axes>"
      ]
     },
     "metadata": {
      "needs_background": "light"
     },
     "output_type": "display_data"
    }
   ],
   "source": [
    "top_users = events.groupby('ref_hash')['event_id'].agg('count').sort_values(ascending=False)[:10]\n",
    "g = sns.barplot(x=top_users.values, y=top_users.index, orient='h')\n",
    "g.set_title(\"Top usuarios generadores de Eventos\", fontsize=15)\n",
    "g.set_xlabel(\"Cantidad de Eventos\", fontsize=12)\n",
    "g.set_ylabel(\"Advertising ID\", fontsize=12)\n",
    "plt.show()\n",
    "\n",
    "g.get_figure().set_size_inches(18.5, 10.5, forward=True)\n",
    "g.get_figure().savefig('img/top_users_gen_eve.png')"
   ]
  },
  {
   "cell_type": "markdown",
   "metadata": {},
   "source": [
    "Busco attributed vs no attributted"
   ]
  },
  {
   "cell_type": "code",
   "execution_count": 17,
   "metadata": {},
   "outputs": [
    {
     "data": {
      "text/plain": [
       "attributed  event_id\n",
       "False       22          618217\n",
       "            31          415514\n",
       "            161         217846\n",
       "            1           157642\n",
       "            138         100029\n",
       "            162          84898\n",
       "            329          56489\n",
       "            156          52748\n",
       "            33           48581\n",
       "            171          43942\n",
       "            310          42101\n",
       "            155          38067\n",
       "            273          37056\n",
       "            23           35588\n",
       "            21           26228\n",
       "            98           24296\n",
       "            158          23444\n",
       "            272          22788\n",
       "            80           22066\n",
       "            50           20897\n",
       "            81           18599\n",
       "            346          14408\n",
       "            58           13940\n",
       "            51           13455\n",
       "            354          11711\n",
       "            513          11678\n",
       "            256          10939\n",
       "            133          10860\n",
       "            274          10035\n",
       "            60            9456\n",
       "                         ...  \n",
       "True        153              6\n",
       "            157              6\n",
       "            244              6\n",
       "            98               5\n",
       "            30               4\n",
       "            187              4\n",
       "            381              4\n",
       "            151              3\n",
       "            205              3\n",
       "            206              2\n",
       "            338              2\n",
       "            387              2\n",
       "            607              2\n",
       "            27               1\n",
       "            36               1\n",
       "            43               1\n",
       "            84               1\n",
       "            105              1\n",
       "            112              1\n",
       "            135              1\n",
       "            142              1\n",
       "            182              1\n",
       "            188              1\n",
       "            322              1\n",
       "            324              1\n",
       "            329              1\n",
       "            461              1\n",
       "            515              1\n",
       "            518              1\n",
       "            608              1\n",
       "Name: event_id, Length: 624, dtype: int64"
      ]
     },
     "execution_count": 17,
     "metadata": {},
     "output_type": "execute_result"
    }
   ],
   "source": [
    "attributed_data = events.groupby('attributed')['event_id'].value_counts()\n",
    "attributed_data"
   ]
  },
  {
   "cell_type": "code",
   "execution_count": null,
   "metadata": {},
   "outputs": [],
   "source": []
  }
 ],
 "metadata": {
  "kernelspec": {
   "display_name": "Python 3",
   "language": "python",
   "name": "python3"
  },
  "language_info": {
   "codemirror_mode": {
    "name": "ipython",
    "version": 3
   },
   "file_extension": ".py",
   "mimetype": "text/x-python",
   "name": "python",
   "nbconvert_exporter": "python",
   "pygments_lexer": "ipython3",
   "version": "3.7.1"
  }
 },
 "nbformat": 4,
 "nbformat_minor": 2
}
