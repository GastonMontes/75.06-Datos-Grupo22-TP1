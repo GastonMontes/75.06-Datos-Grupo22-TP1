{
 "cells": [
  {
   "cell_type": "code",
   "execution_count": 105,
   "metadata": {},
   "outputs": [],
   "source": [
    "import pandas as pd\n",
    "import numpy as np\n",
    "import datetime"
   ]
  },
  {
   "cell_type": "code",
   "execution_count": 106,
   "metadata": {},
   "outputs": [],
   "source": [
    "#Leo la data proveniente de un csv\n",
    "path = '../datos/installs.csv'\n",
    "installs = pd.read_csv(path)"
   ]
  },
  {
   "cell_type": "code",
   "execution_count": 107,
   "metadata": {},
   "outputs": [],
   "source": [
    "# Damos formato a la fecha.\n",
    "installs['timestamp_format'] = pd.to_datetime(installs['created'])\n",
    "# Agrego columna fecha\n",
    "installs['date_timestamp'] = installs['timestamp_format'].dt.date\n",
    "# Agrego columna numero dia.\n",
    "installs['day'] = installs['timestamp_format'].dt.day"
   ]
  },
  {
   "cell_type": "code",
   "execution_count": 108,
   "metadata": {},
   "outputs": [],
   "source": [
    "# ventanas de 3 dias\n",
    "installs18_20 = installs[(installs['day'] >= 18) & (installs['day'] < 21)]\n",
    "installs19_21 = installs[(installs['day'] >= 19) & (installs['day'] < 22)]\n",
    "installs20_22 = installs[(installs['day'] >= 20) & (installs['day'] < 23)]\n",
    "installs21_23 = installs[(installs['day'] >= 21) & (installs['day'] < 24)]\n",
    "installs22_24 = installs[(installs['day'] >= 22) & (installs['day'] < 25)]\n",
    "installs23_25 = installs[(installs['day'] >= 23) & (installs['day'] < 26)]\n",
    "installs24_26 = installs[(installs['day'] >= 24) & (installs['day'] < 27)]"
   ]
  },
  {
   "cell_type": "code",
   "execution_count": 109,
   "metadata": {},
   "outputs": [
    {
     "name": "stderr",
     "output_type": "stream",
     "text": [
      "/home/santiago/anaconda3/lib/python3.7/site-packages/ipykernel_launcher.py:2: SettingWithCopyWarning: \n",
      "A value is trying to be set on a copy of a slice from a DataFrame.\n",
      "Try using .loc[row_indexer,col_indexer] = value instead\n",
      "\n",
      "See the caveats in the documentation: http://pandas.pydata.org/pandas-docs/stable/indexing.html#indexing-view-versus-copy\n",
      "  \n",
      "/home/santiago/anaconda3/lib/python3.7/site-packages/ipykernel_launcher.py:3: SettingWithCopyWarning: \n",
      "A value is trying to be set on a copy of a slice from a DataFrame.\n",
      "Try using .loc[row_indexer,col_indexer] = value instead\n",
      "\n",
      "See the caveats in the documentation: http://pandas.pydata.org/pandas-docs/stable/indexing.html#indexing-view-versus-copy\n",
      "  This is separate from the ipykernel package so we can avoid doing imports until\n",
      "/home/santiago/anaconda3/lib/python3.7/site-packages/ipykernel_launcher.py:5: SettingWithCopyWarning: \n",
      "A value is trying to be set on a copy of a slice from a DataFrame.\n",
      "Try using .loc[row_indexer,col_indexer] = value instead\n",
      "\n",
      "See the caveats in the documentation: http://pandas.pydata.org/pandas-docs/stable/indexing.html#indexing-view-versus-copy\n",
      "  \"\"\"\n",
      "/home/santiago/anaconda3/lib/python3.7/site-packages/ipykernel_launcher.py:6: SettingWithCopyWarning: \n",
      "A value is trying to be set on a copy of a slice from a DataFrame.\n",
      "Try using .loc[row_indexer,col_indexer] = value instead\n",
      "\n",
      "See the caveats in the documentation: http://pandas.pydata.org/pandas-docs/stable/indexing.html#indexing-view-versus-copy\n",
      "  \n",
      "/home/santiago/anaconda3/lib/python3.7/site-packages/ipykernel_launcher.py:8: SettingWithCopyWarning: \n",
      "A value is trying to be set on a copy of a slice from a DataFrame.\n",
      "Try using .loc[row_indexer,col_indexer] = value instead\n",
      "\n",
      "See the caveats in the documentation: http://pandas.pydata.org/pandas-docs/stable/indexing.html#indexing-view-versus-copy\n",
      "  \n",
      "/home/santiago/anaconda3/lib/python3.7/site-packages/ipykernel_launcher.py:9: SettingWithCopyWarning: \n",
      "A value is trying to be set on a copy of a slice from a DataFrame.\n",
      "Try using .loc[row_indexer,col_indexer] = value instead\n",
      "\n",
      "See the caveats in the documentation: http://pandas.pydata.org/pandas-docs/stable/indexing.html#indexing-view-versus-copy\n",
      "  if __name__ == '__main__':\n",
      "/home/santiago/anaconda3/lib/python3.7/site-packages/ipykernel_launcher.py:11: SettingWithCopyWarning: \n",
      "A value is trying to be set on a copy of a slice from a DataFrame.\n",
      "Try using .loc[row_indexer,col_indexer] = value instead\n",
      "\n",
      "See the caveats in the documentation: http://pandas.pydata.org/pandas-docs/stable/indexing.html#indexing-view-versus-copy\n",
      "  # This is added back by InteractiveShellApp.init_path()\n",
      "/home/santiago/anaconda3/lib/python3.7/site-packages/ipykernel_launcher.py:12: SettingWithCopyWarning: \n",
      "A value is trying to be set on a copy of a slice from a DataFrame.\n",
      "Try using .loc[row_indexer,col_indexer] = value instead\n",
      "\n",
      "See the caveats in the documentation: http://pandas.pydata.org/pandas-docs/stable/indexing.html#indexing-view-versus-copy\n",
      "  if sys.path[0] == '':\n",
      "/home/santiago/anaconda3/lib/python3.7/site-packages/ipykernel_launcher.py:14: SettingWithCopyWarning: \n",
      "A value is trying to be set on a copy of a slice from a DataFrame.\n",
      "Try using .loc[row_indexer,col_indexer] = value instead\n",
      "\n",
      "See the caveats in the documentation: http://pandas.pydata.org/pandas-docs/stable/indexing.html#indexing-view-versus-copy\n",
      "  \n",
      "/home/santiago/anaconda3/lib/python3.7/site-packages/ipykernel_launcher.py:15: SettingWithCopyWarning: \n",
      "A value is trying to be set on a copy of a slice from a DataFrame.\n",
      "Try using .loc[row_indexer,col_indexer] = value instead\n",
      "\n",
      "See the caveats in the documentation: http://pandas.pydata.org/pandas-docs/stable/indexing.html#indexing-view-versus-copy\n",
      "  from ipykernel import kernelapp as app\n",
      "/home/santiago/anaconda3/lib/python3.7/site-packages/ipykernel_launcher.py:17: SettingWithCopyWarning: \n",
      "A value is trying to be set on a copy of a slice from a DataFrame.\n",
      "Try using .loc[row_indexer,col_indexer] = value instead\n",
      "\n",
      "See the caveats in the documentation: http://pandas.pydata.org/pandas-docs/stable/indexing.html#indexing-view-versus-copy\n",
      "/home/santiago/anaconda3/lib/python3.7/site-packages/ipykernel_launcher.py:18: SettingWithCopyWarning: \n",
      "A value is trying to be set on a copy of a slice from a DataFrame.\n",
      "Try using .loc[row_indexer,col_indexer] = value instead\n",
      "\n",
      "See the caveats in the documentation: http://pandas.pydata.org/pandas-docs/stable/indexing.html#indexing-view-versus-copy\n",
      "/home/santiago/anaconda3/lib/python3.7/site-packages/ipykernel_launcher.py:20: SettingWithCopyWarning: \n",
      "A value is trying to be set on a copy of a slice from a DataFrame.\n",
      "Try using .loc[row_indexer,col_indexer] = value instead\n",
      "\n",
      "See the caveats in the documentation: http://pandas.pydata.org/pandas-docs/stable/indexing.html#indexing-view-versus-copy\n",
      "/home/santiago/anaconda3/lib/python3.7/site-packages/ipykernel_launcher.py:21: SettingWithCopyWarning: \n",
      "A value is trying to be set on a copy of a slice from a DataFrame.\n",
      "Try using .loc[row_indexer,col_indexer] = value instead\n",
      "\n",
      "See the caveats in the documentation: http://pandas.pydata.org/pandas-docs/stable/indexing.html#indexing-view-versus-copy\n"
     ]
    }
   ],
   "source": [
    "# Agregamos variable a predecir a los dataframes\n",
    "installs18_20['base_time'] = datetime.datetime(2019, 4, 18)\n",
    "installs18_20['time_to_install'] = (installs18_20['timestamp_format'] - installs18_20['base_time']) / np.timedelta64(1, 's')\n",
    "\n",
    "installs19_21['base_time'] = datetime.datetime(2019, 4, 19)\n",
    "installs19_21['time_to_install'] = (installs19_21['timestamp_format'] - installs19_21['base_time']) / np.timedelta64(1, 's')\n",
    "\n",
    "installs20_22['base_time'] = datetime.datetime(2019, 4, 20)\n",
    "installs20_22['time_to_install'] = (installs20_22['timestamp_format'] - installs20_22['base_time']) / np.timedelta64(1, 's')\n",
    "\n",
    "installs21_23['base_time'] = datetime.datetime(2019, 4, 21)\n",
    "installs21_23['time_to_install'] = (installs21_23['timestamp_format'] - installs21_23['base_time']) / np.timedelta64(1, 's')\n",
    "\n",
    "installs22_24['base_time'] = datetime.datetime(2019, 4, 22)\n",
    "installs22_24['time_to_install'] = (installs22_24['timestamp_format'] - installs22_24['base_time']) / np.timedelta64(1, 's')\n",
    "\n",
    "installs23_25['base_time'] = datetime.datetime(2019, 4, 23)\n",
    "installs23_25['time_to_install'] = (installs23_25['timestamp_format'] - installs23_25['base_time']) / np.timedelta64(1, 's')\n",
    "\n",
    "installs24_26['base_time'] = datetime.datetime(2019, 4, 24)\n",
    "installs24_26['time_to_install'] = (installs24_26['timestamp_format'] - installs24_26['base_time']) / np.timedelta64(1, 's')"
   ]
  },
  {
   "cell_type": "markdown",
   "metadata": {},
   "source": [
    "# Feature Engineering"
   ]
  },
  {
   "cell_type": "markdown",
   "metadata": {},
   "source": [
    "## Cantidad de Instalaciones"
   ]
  },
  {
   "cell_type": "code",
   "execution_count": 110,
   "metadata": {},
   "outputs": [],
   "source": [
    "final = installs18_20.groupby('ref_hash')['created'].count().reset_index()\n",
    "final.columns = ['ref_hash', 'cant_installs']\n",
    "\n",
    "final2 = installs21_23.groupby('ref_hash')['created'].count().reset_index()\n",
    "final2.columns = ['ref_hash', 'cant_installs']\n",
    "\n",
    "final3 = installs19_21.groupby('ref_hash')['created'].count().reset_index()\n",
    "final3.columns = ['ref_hash', 'cant_installs']\n",
    "\n",
    "final4 = installs22_24.groupby('ref_hash')['created'].count().reset_index()\n",
    "final4.columns = ['ref_hash', 'cant_installs']\n",
    "\n",
    "final5 = installs20_22.groupby('ref_hash')['created'].count().reset_index()\n",
    "final5.columns = ['ref_hash', 'cant_installs']\n",
    "\n",
    "final6 = installs23_25.groupby('ref_hash')['created'].count().reset_index()\n",
    "final6.columns = ['ref_hash', 'cant_installs']\n",
    "\n",
    "final7 = installs24_26.groupby('ref_hash')['created'].count().reset_index()\n",
    "final7.columns = ['ref_hash', 'cant_installs']"
   ]
  },
  {
   "cell_type": "markdown",
   "metadata": {},
   "source": [
    "## Cantidad de Instalaciones con wifi"
   ]
  },
  {
   "cell_type": "code",
   "execution_count": 111,
   "metadata": {},
   "outputs": [],
   "source": [
    "installs18_20['wifi'].fillna(False, inplace= True)\n",
    "installs_con_wifi = installs18_20.groupby('ref_hash').agg({'wifi': 'sum'}).reset_index()\n",
    "installs_con_wifi.columns = ['ref_hash', 'cant_wifi_installs']\n",
    "\n",
    "final = final.merge(installs_con_wifi, on='ref_hash', how='left')"
   ]
  },
  {
   "cell_type": "code",
   "execution_count": 112,
   "metadata": {},
   "outputs": [],
   "source": [
    "installs21_23['wifi'].fillna(False, inplace= True)\n",
    "installs_con_wifi2 = installs21_23.groupby('ref_hash').agg({'wifi': 'sum'}).reset_index()\n",
    "installs_con_wifi2.columns = ['ref_hash', 'cant_wifi_installs']\n",
    "\n",
    "final2 = final2.merge(installs_con_wifi2, on='ref_hash', how='left')"
   ]
  },
  {
   "cell_type": "code",
   "execution_count": 113,
   "metadata": {},
   "outputs": [],
   "source": [
    "installs19_21['wifi'].fillna(False, inplace= True)\n",
    "installs_con_wifi3 = installs19_21.groupby('ref_hash').agg({'wifi': 'sum'}).reset_index()\n",
    "installs_con_wifi3.columns = ['ref_hash', 'cant_wifi_installs']\n",
    "\n",
    "final3 = final3.merge(installs_con_wifi3, on='ref_hash', how='left')"
   ]
  },
  {
   "cell_type": "code",
   "execution_count": 114,
   "metadata": {},
   "outputs": [],
   "source": [
    "installs22_24['wifi'].fillna(False, inplace= True)\n",
    "installs_con_wifi4 = installs22_24.groupby('ref_hash').agg({'wifi': 'sum'}).reset_index()\n",
    "installs_con_wifi4.columns = ['ref_hash', 'cant_wifi_installs']\n",
    "\n",
    "final4 = final4.merge(installs_con_wifi4, on='ref_hash', how='left')"
   ]
  },
  {
   "cell_type": "code",
   "execution_count": 115,
   "metadata": {},
   "outputs": [],
   "source": [
    "installs20_22['wifi'].fillna(False, inplace= True)\n",
    "installs_con_wifi5 = installs20_22.groupby('ref_hash').agg({'wifi': 'sum'}).reset_index()\n",
    "installs_con_wifi5.columns = ['ref_hash', 'cant_wifi_installs']\n",
    "\n",
    "final5 = final5.merge(installs_con_wifi5, on='ref_hash', how='left')"
   ]
  },
  {
   "cell_type": "code",
   "execution_count": 116,
   "metadata": {},
   "outputs": [],
   "source": [
    "installs23_25['wifi'].fillna(False, inplace= True)\n",
    "installs_con_wifi6 = installs23_25.groupby('ref_hash').agg({'wifi': 'sum'}).reset_index()\n",
    "installs_con_wifi6.columns = ['ref_hash', 'cant_wifi_installs']\n",
    "\n",
    "final6 = final6.merge(installs_con_wifi6, on='ref_hash', how='left')"
   ]
  },
  {
   "cell_type": "code",
   "execution_count": 117,
   "metadata": {},
   "outputs": [],
   "source": [
    "installs24_26['wifi'].fillna(False, inplace= True)\n",
    "installs_con_wifi7 = installs24_26.groupby('ref_hash').agg({'wifi': 'sum'}).reset_index()\n",
    "installs_con_wifi7.columns = ['ref_hash', 'cant_wifi_installs']\n",
    "\n",
    "final7 = final7.merge(installs_con_wifi7, on='ref_hash', how='left')"
   ]
  },
  {
   "cell_type": "markdown",
   "metadata": {},
   "source": [
    "## Marca de celular del user"
   ]
  },
  {
   "cell_type": "code",
   "execution_count": 118,
   "metadata": {},
   "outputs": [],
   "source": [
    "brand_user = installs18_20.groupby('ref_hash').agg({'device_brand': 'first'}).reset_index()\n",
    "brand_user.columns = ['ref_hash', 'device_brand']\n",
    "\n",
    "final = final.merge(brand_user, on='ref_hash', how='left')\n",
    "final['device_brand'].fillna(0, inplace= True)"
   ]
  },
  {
   "cell_type": "code",
   "execution_count": 119,
   "metadata": {},
   "outputs": [],
   "source": [
    "brand_user2 = installs21_23.groupby('ref_hash').agg({'device_brand': 'first'}).reset_index()\n",
    "brand_user2.columns = ['ref_hash', 'device_brand']\n",
    "\n",
    "final2 = final2.merge(brand_user2, on='ref_hash', how='left')\n",
    "final2['device_brand'].fillna(0, inplace= True)"
   ]
  },
  {
   "cell_type": "code",
   "execution_count": 120,
   "metadata": {},
   "outputs": [],
   "source": [
    "brand_user3 = installs19_21.groupby('ref_hash').agg({'device_brand': 'first'}).reset_index()\n",
    "brand_user3.columns = ['ref_hash', 'device_brand']\n",
    "\n",
    "final3 = final3.merge(brand_user3, on='ref_hash', how='left')\n",
    "final3['device_brand'].fillna(0, inplace= True)"
   ]
  },
  {
   "cell_type": "code",
   "execution_count": 121,
   "metadata": {},
   "outputs": [],
   "source": [
    "brand_user4 = installs22_24.groupby('ref_hash').agg({'device_brand': 'first'}).reset_index()\n",
    "brand_user4.columns = ['ref_hash', 'device_brand']\n",
    "\n",
    "final4 = final4.merge(brand_user4, on='ref_hash', how='left')\n",
    "final4['device_brand'].fillna(0, inplace= True)"
   ]
  },
  {
   "cell_type": "code",
   "execution_count": 122,
   "metadata": {},
   "outputs": [],
   "source": [
    "brand_user5 = installs20_22.groupby('ref_hash').agg({'device_brand': 'first'}).reset_index()\n",
    "brand_user5.columns = ['ref_hash', 'device_brand']\n",
    "\n",
    "final5 = final5.merge(brand_user5, on='ref_hash', how='left')\n",
    "final5['device_brand'].fillna(0, inplace= True)"
   ]
  },
  {
   "cell_type": "code",
   "execution_count": 123,
   "metadata": {},
   "outputs": [],
   "source": [
    "brand_user6 = installs23_25.groupby('ref_hash').agg({'device_brand': 'first'}).reset_index()\n",
    "brand_user6.columns = ['ref_hash', 'device_brand']\n",
    "\n",
    "final6 = final6.merge(brand_user6, on='ref_hash', how='left')\n",
    "final6['device_brand'].fillna(0, inplace= True)"
   ]
  },
  {
   "cell_type": "code",
   "execution_count": 124,
   "metadata": {},
   "outputs": [],
   "source": [
    "brand_user7 = installs24_26.groupby('ref_hash').agg({'device_brand': 'first'}).reset_index()\n",
    "brand_user7.columns = ['ref_hash', 'device_brand']\n",
    "\n",
    "final7 = final7.merge(brand_user7, on='ref_hash', how='left')\n",
    "final7['device_brand'].fillna(0, inplace= True)"
   ]
  },
  {
   "cell_type": "markdown",
   "metadata": {},
   "source": [
    "## Modelo de celular del user"
   ]
  },
  {
   "cell_type": "code",
   "execution_count": 125,
   "metadata": {},
   "outputs": [],
   "source": [
    "modelo_user = installs18_20.groupby('ref_hash').agg({'device_model': 'first'}).reset_index()\n",
    "modelo_user.columns = ['ref_hash', 'device_model']\n",
    "\n",
    "final = final.merge(modelo_user, on='ref_hash', how='left')\n",
    "final['device_model'].fillna(0, inplace= True)"
   ]
  },
  {
   "cell_type": "code",
   "execution_count": 126,
   "metadata": {},
   "outputs": [],
   "source": [
    "modelo_user2 = installs21_23.groupby('ref_hash').agg({'device_model': 'first'}).reset_index()\n",
    "modelo_user2.columns = ['ref_hash', 'device_model']\n",
    "\n",
    "final2 = final2.merge(modelo_user2, on='ref_hash', how='left')\n",
    "final2['device_model'].fillna(0, inplace= True)"
   ]
  },
  {
   "cell_type": "code",
   "execution_count": 127,
   "metadata": {},
   "outputs": [],
   "source": [
    "modelo_user3 = installs19_21.groupby('ref_hash').agg({'device_model': 'first'}).reset_index()\n",
    "modelo_user3.columns = ['ref_hash', 'device_model']\n",
    "\n",
    "final3 = final3.merge(modelo_user3, on='ref_hash', how='left')\n",
    "final3['device_model'].fillna(0, inplace= True)"
   ]
  },
  {
   "cell_type": "code",
   "execution_count": 128,
   "metadata": {},
   "outputs": [],
   "source": [
    "modelo_user4 = installs22_24.groupby('ref_hash').agg({'device_model': 'first'}).reset_index()\n",
    "modelo_user4.columns = ['ref_hash', 'device_model']\n",
    "\n",
    "final4 = final4.merge(modelo_user4, on='ref_hash', how='left')\n",
    "final4['device_model'].fillna(0, inplace= True)"
   ]
  },
  {
   "cell_type": "code",
   "execution_count": 129,
   "metadata": {},
   "outputs": [],
   "source": [
    "modelo_user5 = installs20_22.groupby('ref_hash').agg({'device_model': 'first'}).reset_index()\n",
    "modelo_user5.columns = ['ref_hash', 'device_model']\n",
    "\n",
    "final5 = final5.merge(modelo_user5, on='ref_hash', how='left')\n",
    "final5['device_model'].fillna(0, inplace= True)"
   ]
  },
  {
   "cell_type": "code",
   "execution_count": 130,
   "metadata": {},
   "outputs": [],
   "source": [
    "modelo_user6 = installs23_25.groupby('ref_hash').agg({'device_model': 'first'}).reset_index()\n",
    "modelo_user6.columns = ['ref_hash', 'device_model']\n",
    "\n",
    "final6 = final6.merge(modelo_user6, on='ref_hash', how='left')\n",
    "final6['device_model'].fillna(0, inplace= True)"
   ]
  },
  {
   "cell_type": "code",
   "execution_count": 131,
   "metadata": {},
   "outputs": [],
   "source": [
    "modelo_user7 = installs24_26.groupby('ref_hash').agg({'device_model': 'first'}).reset_index()\n",
    "modelo_user7.columns = ['ref_hash', 'device_model']\n",
    "\n",
    "final7 = final7.merge(modelo_user7, on='ref_hash', how='left')\n",
    "final7['device_model'].fillna(0, inplace= True)"
   ]
  },
  {
   "cell_type": "markdown",
   "metadata": {},
   "source": [
    "## Id de la aplicacion instalada"
   ]
  },
  {
   "cell_type": "code",
   "execution_count": 132,
   "metadata": {},
   "outputs": [],
   "source": [
    "app_id = installs18_20.groupby('ref_hash').agg({'application_id': 'last'}).reset_index()\n",
    "app_id.columns = ['ref_hash', 'application_id']\n",
    "\n",
    "final = final.merge(app_id, on='ref_hash', how='left')\n",
    "final['application_id'].fillna(0, inplace= True)"
   ]
  },
  {
   "cell_type": "code",
   "execution_count": 133,
   "metadata": {},
   "outputs": [],
   "source": [
    "app_id2 = installs21_23.groupby('ref_hash').agg({'application_id': 'last'}).reset_index()\n",
    "app_id2.columns = ['ref_hash', 'application_id']\n",
    "\n",
    "final2 = final2.merge(app_id2, on='ref_hash', how='left')\n",
    "final2['application_id'].fillna(0, inplace= True)"
   ]
  },
  {
   "cell_type": "code",
   "execution_count": 134,
   "metadata": {},
   "outputs": [],
   "source": [
    "app_id3 = installs19_21.groupby('ref_hash').agg({'application_id': 'last'}).reset_index()\n",
    "app_id3.columns = ['ref_hash', 'application_id']\n",
    "\n",
    "final3 = final3.merge(app_id3, on='ref_hash', how='left')\n",
    "final3['application_id'].fillna(0, inplace= True)"
   ]
  },
  {
   "cell_type": "code",
   "execution_count": 135,
   "metadata": {},
   "outputs": [],
   "source": [
    "app_id4 = installs22_24.groupby('ref_hash').agg({'application_id': 'last'}).reset_index()\n",
    "app_id4.columns = ['ref_hash', 'application_id']\n",
    "\n",
    "final4 = final4.merge(app_id4, on='ref_hash', how='left')\n",
    "final4['application_id'].fillna(0, inplace= True)"
   ]
  },
  {
   "cell_type": "code",
   "execution_count": 136,
   "metadata": {},
   "outputs": [],
   "source": [
    "app_id5 = installs20_22.groupby('ref_hash').agg({'application_id': 'last'}).reset_index()\n",
    "app_id5.columns = ['ref_hash', 'application_id']\n",
    "\n",
    "final5 = final5.merge(app_id5, on='ref_hash', how='left')\n",
    "final5['application_id'].fillna(0, inplace= True)"
   ]
  },
  {
   "cell_type": "code",
   "execution_count": 137,
   "metadata": {},
   "outputs": [],
   "source": [
    "app_id6 = installs23_25.groupby('ref_hash').agg({'application_id': 'last'}).reset_index()\n",
    "app_id6.columns = ['ref_hash', 'application_id']\n",
    "\n",
    "final6 = final6.merge(app_id6, on='ref_hash', how='left')\n",
    "final6['application_id'].fillna(0, inplace= True)"
   ]
  },
  {
   "cell_type": "code",
   "execution_count": 138,
   "metadata": {},
   "outputs": [],
   "source": [
    "app_id7 = installs24_26.groupby('ref_hash').agg({'application_id': 'last'}).reset_index()\n",
    "app_id7.columns = ['ref_hash', 'application_id']\n",
    "\n",
    "final7 = final7.merge(app_id7, on='ref_hash', how='left')\n",
    "final7['application_id'].fillna(0, inplace= True)"
   ]
  },
  {
   "cell_type": "markdown",
   "metadata": {},
   "source": [
    "## TimeToInstall -> variable a predecir"
   ]
  },
  {
   "cell_type": "code",
   "execution_count": 139,
   "metadata": {},
   "outputs": [],
   "source": [
    "time_to_install = installs18_20.groupby('ref_hash').agg({'time_to_install': 'mean'}).reset_index()\n",
    "time_to_install.columns = ['ref_hash', 'time_to_install']\n",
    "\n",
    "# 3 dias son 259200 segundos\n",
    "final = final.merge(time_to_install, on='ref_hash', how='left')\n",
    "final['time_to_install'].fillna(259200, inplace= True)"
   ]
  },
  {
   "cell_type": "code",
   "execution_count": 140,
   "metadata": {},
   "outputs": [],
   "source": [
    "time_to_install2 = installs21_23.groupby('ref_hash').agg({'time_to_install': 'mean'}).reset_index()\n",
    "time_to_install2.columns = ['ref_hash', 'time_to_install']\n",
    "\n",
    "# 3 dias son 259200 segundos\n",
    "final2 = final2.merge(time_to_install2, on='ref_hash', how='left')\n",
    "final2['time_to_install'].fillna(259200, inplace= True)"
   ]
  },
  {
   "cell_type": "code",
   "execution_count": 141,
   "metadata": {},
   "outputs": [],
   "source": [
    "time_to_install3 = installs19_21.groupby('ref_hash').agg({'time_to_install': 'mean'}).reset_index()\n",
    "time_to_install3.columns = ['ref_hash', 'time_to_install']\n",
    "\n",
    "# 3 dias son 259200 segundos\n",
    "final3 = final3.merge(time_to_install3, on='ref_hash', how='left')\n",
    "final3['time_to_install'].fillna(259200, inplace= True)"
   ]
  },
  {
   "cell_type": "code",
   "execution_count": 142,
   "metadata": {},
   "outputs": [],
   "source": [
    "time_to_install4 = installs22_24.groupby('ref_hash').agg({'time_to_install': 'mean'}).reset_index()\n",
    "time_to_install4.columns = ['ref_hash', 'time_to_install']\n",
    "\n",
    "# 3 dias son 259200 segundos\n",
    "final4 = final4.merge(time_to_install4, on='ref_hash', how='left')\n",
    "final4['time_to_install'].fillna(259200, inplace= True)"
   ]
  },
  {
   "cell_type": "code",
   "execution_count": 143,
   "metadata": {},
   "outputs": [],
   "source": [
    "time_to_install5 = installs20_22.groupby('ref_hash').agg({'time_to_install': 'mean'}).reset_index()\n",
    "time_to_install5.columns = ['ref_hash', 'time_to_install']\n",
    "\n",
    "# 3 dias son 259200 segundos\n",
    "final5 = final5.merge(time_to_install5, on='ref_hash', how='left')\n",
    "final5['time_to_install'].fillna(259200, inplace= True)"
   ]
  },
  {
   "cell_type": "code",
   "execution_count": 144,
   "metadata": {},
   "outputs": [],
   "source": [
    "time_to_install6 = installs23_25.groupby('ref_hash').agg({'time_to_install': 'mean'}).reset_index()\n",
    "time_to_install6.columns = ['ref_hash', 'time_to_install']\n",
    "\n",
    "# 3 dias son 259200 segundos\n",
    "final6 = final6.merge(time_to_install6, on='ref_hash', how='left')\n",
    "final6['time_to_install'].fillna(259200, inplace= True)"
   ]
  },
  {
   "cell_type": "code",
   "execution_count": 145,
   "metadata": {},
   "outputs": [],
   "source": [
    "time_to_install7 = installs24_26.groupby('ref_hash').agg({'time_to_install': 'mean'}).reset_index()\n",
    "time_to_install7.columns = ['ref_hash', 'time_to_install']\n",
    "\n",
    "# 3 dias son 259200 segundos\n",
    "final7 = final7.merge(time_to_install7, on='ref_hash', how='left')\n",
    "final7['time_to_install'].fillna(259200, inplace= True)"
   ]
  },
  {
   "cell_type": "markdown",
   "metadata": {},
   "source": [
    "## Join de targets con features"
   ]
  },
  {
   "cell_type": "code",
   "execution_count": 146,
   "metadata": {},
   "outputs": [],
   "source": [
    "targets = pd.read_csv('target_competencia_ids.csv')"
   ]
  },
  {
   "cell_type": "code",
   "execution_count": 147,
   "metadata": {},
   "outputs": [],
   "source": [
    "final['ref_hash'] = final['ref_hash'].astype(str) + '_sc'\n",
    "final['ref_hash'] = final['ref_hash'].astype('object')\n",
    "\n",
    "merged_18_20_targets = targets.merge(final, on='ref_hash', how='left').drop('obj', axis=1)\n",
    "merged_18_20_targets = merged_18_20_targets.loc[merged_18_20_targets['ref_hash'].str.contains('_sc'), :]\n",
    "\n",
    "# 3 dias son 259200 segundos\n",
    "merged_18_20_targets['time_to_install'] = merged_18_20_targets['time_to_install'].fillna(259200)"
   ]
  },
  {
   "cell_type": "code",
   "execution_count": 148,
   "metadata": {},
   "outputs": [],
   "source": [
    "final2['ref_hash'] = final2['ref_hash'].astype(str) + '_sc'\n",
    "final2['ref_hash'] = final2['ref_hash'].astype('object')\n",
    "\n",
    "merged_21_23_targets = targets.merge(final2, on='ref_hash', how='left').drop('obj', axis=1)\n",
    "merged_21_23_targets = merged_21_23_targets.loc[merged_21_23_targets['ref_hash'].str.contains('_sc'), :]\n",
    "\n",
    "# 3 dias son 259200 segundos\n",
    "merged_21_23_targets['time_to_install'] = merged_21_23_targets['time_to_install'].fillna(259200)"
   ]
  },
  {
   "cell_type": "code",
   "execution_count": 149,
   "metadata": {},
   "outputs": [],
   "source": [
    "final3['ref_hash'] = final3['ref_hash'].astype(str) + '_sc'\n",
    "final3['ref_hash'] = final3['ref_hash'].astype('object')\n",
    "\n",
    "merged_19_21_targets = targets.merge(final3, on='ref_hash', how='left').drop('obj', axis=1)\n",
    "merged_19_21_targets = merged_19_21_targets.loc[merged_19_21_targets['ref_hash'].str.contains('_sc'), :]\n",
    "\n",
    "# 3 dias son 259200 segundos\n",
    "merged_19_21_targets['time_to_install'] = merged_19_21_targets['time_to_install'].fillna(259200)"
   ]
  },
  {
   "cell_type": "code",
   "execution_count": 150,
   "metadata": {},
   "outputs": [],
   "source": [
    "final4['ref_hash'] = final4['ref_hash'].astype(str) + '_sc'\n",
    "final4['ref_hash'] = final4['ref_hash'].astype('object')\n",
    "\n",
    "merged_22_24_targets = targets.merge(final4, on='ref_hash', how='left').drop('obj', axis=1)\n",
    "merged_22_24_targets = merged_22_24_targets.loc[merged_22_24_targets['ref_hash'].str.contains('_sc'), :]\n",
    "\n",
    "# 3 dias son 259200 segundos\n",
    "merged_22_24_targets['time_to_install'] = merged_22_24_targets['time_to_install'].fillna(259200)"
   ]
  },
  {
   "cell_type": "code",
   "execution_count": 151,
   "metadata": {},
   "outputs": [],
   "source": [
    "final5['ref_hash'] = final5['ref_hash'].astype(str) + '_sc'\n",
    "final5['ref_hash'] = final5['ref_hash'].astype('object')\n",
    "\n",
    "merged_20_22_targets = targets.merge(final5, on='ref_hash', how='left').drop('obj', axis=1)\n",
    "merged_20_22_targets = merged_20_22_targets.loc[merged_20_22_targets['ref_hash'].str.contains('_sc'), :]\n",
    "\n",
    "# 3 dias son 259200 segundos\n",
    "merged_20_22_targets['time_to_install'] = merged_20_22_targets['time_to_install'].fillna(259200)"
   ]
  },
  {
   "cell_type": "code",
   "execution_count": 152,
   "metadata": {},
   "outputs": [],
   "source": [
    "final6['ref_hash'] = final6['ref_hash'].astype(str) + '_sc'\n",
    "final6['ref_hash'] = final6['ref_hash'].astype('object')\n",
    "\n",
    "merged_23_25_targets = targets.merge(final6, on='ref_hash', how='left').drop('obj', axis=1)\n",
    "merged_23_25_targets = merged_23_25_targets.loc[merged_23_25_targets['ref_hash'].str.contains('_sc'), :]\n",
    "\n",
    "# 3 dias son 259200 segundos\n",
    "merged_23_25_targets['time_to_install'] = merged_23_25_targets['time_to_install'].fillna(259200)"
   ]
  },
  {
   "cell_type": "code",
   "execution_count": 153,
   "metadata": {},
   "outputs": [],
   "source": [
    "final7['ref_hash'] = final7['ref_hash'].astype(str) + '_sc'\n",
    "final7['ref_hash'] = final7['ref_hash'].astype('object')\n",
    "\n",
    "merged_24_26_targets = targets.merge(final7, on='ref_hash', how='left').drop('obj', axis=1)\n",
    "merged_24_26_targets = merged_24_26_targets.loc[merged_24_26_targets['ref_hash'].str.contains('_sc'), :]\n",
    "\n",
    "# 3 dias son 259200 segundos\n",
    "merged_24_26_targets['time_to_install'] = merged_24_26_targets['time_to_install'].fillna(259200)"
   ]
  },
  {
   "cell_type": "code",
   "execution_count": 154,
   "metadata": {},
   "outputs": [],
   "source": [
    "merged_18_20_targets.to_csv('test_and_train_installs/data_18_20.csv', index=False)\n",
    "merged_19_21_targets.to_csv('test_and_train_installs/data_19_21.csv', index=False)\n",
    "merged_20_22_targets.to_csv('test_and_train_installs/data_20_22.csv', index=False)\n",
    "merged_21_23_targets.to_csv('test_and_train_installs/data_21_23.csv', index=False)\n",
    "merged_22_24_targets.to_csv('test_and_train_installs/data_22_24.csv', index=False)\n",
    "merged_23_25_targets.to_csv('test_and_train_installs/data_23_25.csv', index=False)\n",
    "merged_24_26_targets.to_csv('test_and_train_installs/data_24_26.csv', index=False)"
   ]
  },
  {
   "cell_type": "code",
   "execution_count": null,
   "metadata": {},
   "outputs": [],
   "source": []
  }
 ],
 "metadata": {
  "kernelspec": {
   "display_name": "Python 3",
   "language": "python",
   "name": "python3"
  },
  "language_info": {
   "codemirror_mode": {
    "name": "ipython",
    "version": 3
   },
   "file_extension": ".py",
   "mimetype": "text/x-python",
   "name": "python",
   "nbconvert_exporter": "python",
   "pygments_lexer": "ipython3",
   "version": "3.7.3"
  }
 },
 "nbformat": 4,
 "nbformat_minor": 2
}
