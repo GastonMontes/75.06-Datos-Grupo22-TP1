{
 "cells": [
  {
   "cell_type": "code",
   "execution_count": 1,
   "metadata": {},
   "outputs": [],
   "source": [
    "import pandas as pd\n",
    "import numpy as np\n",
    "import datetime"
   ]
  },
  {
   "cell_type": "code",
   "execution_count": 2,
   "metadata": {},
   "outputs": [],
   "source": [
    "#Leo la data proveniente de un csv\n",
    "path_auctions = '../datos/auctions.csv'\n",
    "auctions = pd.read_csv(path_auctions)"
   ]
  },
  {
   "cell_type": "code",
   "execution_count": 3,
   "metadata": {},
   "outputs": [],
   "source": [
    "# Damos formato a la fecha.\n",
    "auctions['timestamp_format'] = pd.to_datetime(auctions['date'])\n",
    "# Agrego columna fecha\n",
    "auctions['date_timestamp'] = auctions['timestamp_format'].dt.date\n",
    "# Agrego columna numero dia.\n",
    "auctions['day'] = auctions['timestamp_format'].dt.day"
   ]
  },
  {
   "cell_type": "code",
   "execution_count": 4,
   "metadata": {},
   "outputs": [],
   "source": [
    "# ventanas de 3 dias\n",
    "auctions18_20 = auctions[(auctions['day'] >= 18) & (auctions['day'] < 21)]\n",
    "auctions19_21 = auctions[(auctions['day'] >= 19) & (auctions['day'] < 22)]\n",
    "auctions20_22 = auctions[(auctions['day'] >= 20) & (auctions['day'] < 23)]\n",
    "auctions21_23 = auctions[(auctions['day'] >= 21) & (auctions['day'] < 24)]\n",
    "auctions22_24 = auctions[(auctions['day'] >= 22) & (auctions['day'] < 25)]\n",
    "auctions23_25 = auctions[(auctions['day'] >= 23) & (auctions['day'] < 26)]\n",
    "auctions24_26 = auctions[(auctions['day'] >= 24) & (auctions['day'] < 27)]"
   ]
  },
  {
   "cell_type": "code",
   "execution_count": 5,
   "metadata": {},
   "outputs": [
    {
     "name": "stderr",
     "output_type": "stream",
     "text": [
      "/Users/gmontes/anaconda3/lib/python3.6/site-packages/ipykernel_launcher.py:2: SettingWithCopyWarning: \n",
      "A value is trying to be set on a copy of a slice from a DataFrame.\n",
      "Try using .loc[row_indexer,col_indexer] = value instead\n",
      "\n",
      "See the caveats in the documentation: http://pandas.pydata.org/pandas-docs/stable/indexing.html#indexing-view-versus-copy\n",
      "  \n",
      "/Users/gmontes/anaconda3/lib/python3.6/site-packages/ipykernel_launcher.py:3: SettingWithCopyWarning: \n",
      "A value is trying to be set on a copy of a slice from a DataFrame.\n",
      "Try using .loc[row_indexer,col_indexer] = value instead\n",
      "\n",
      "See the caveats in the documentation: http://pandas.pydata.org/pandas-docs/stable/indexing.html#indexing-view-versus-copy\n",
      "  This is separate from the ipykernel package so we can avoid doing imports until\n",
      "/Users/gmontes/anaconda3/lib/python3.6/site-packages/ipykernel_launcher.py:5: SettingWithCopyWarning: \n",
      "A value is trying to be set on a copy of a slice from a DataFrame.\n",
      "Try using .loc[row_indexer,col_indexer] = value instead\n",
      "\n",
      "See the caveats in the documentation: http://pandas.pydata.org/pandas-docs/stable/indexing.html#indexing-view-versus-copy\n",
      "  \"\"\"\n",
      "/Users/gmontes/anaconda3/lib/python3.6/site-packages/ipykernel_launcher.py:6: SettingWithCopyWarning: \n",
      "A value is trying to be set on a copy of a slice from a DataFrame.\n",
      "Try using .loc[row_indexer,col_indexer] = value instead\n",
      "\n",
      "See the caveats in the documentation: http://pandas.pydata.org/pandas-docs/stable/indexing.html#indexing-view-versus-copy\n",
      "  \n",
      "/Users/gmontes/anaconda3/lib/python3.6/site-packages/ipykernel_launcher.py:8: SettingWithCopyWarning: \n",
      "A value is trying to be set on a copy of a slice from a DataFrame.\n",
      "Try using .loc[row_indexer,col_indexer] = value instead\n",
      "\n",
      "See the caveats in the documentation: http://pandas.pydata.org/pandas-docs/stable/indexing.html#indexing-view-versus-copy\n",
      "  \n",
      "/Users/gmontes/anaconda3/lib/python3.6/site-packages/ipykernel_launcher.py:9: SettingWithCopyWarning: \n",
      "A value is trying to be set on a copy of a slice from a DataFrame.\n",
      "Try using .loc[row_indexer,col_indexer] = value instead\n",
      "\n",
      "See the caveats in the documentation: http://pandas.pydata.org/pandas-docs/stable/indexing.html#indexing-view-versus-copy\n",
      "  if __name__ == '__main__':\n",
      "/Users/gmontes/anaconda3/lib/python3.6/site-packages/ipykernel_launcher.py:11: SettingWithCopyWarning: \n",
      "A value is trying to be set on a copy of a slice from a DataFrame.\n",
      "Try using .loc[row_indexer,col_indexer] = value instead\n",
      "\n",
      "See the caveats in the documentation: http://pandas.pydata.org/pandas-docs/stable/indexing.html#indexing-view-versus-copy\n",
      "  # This is added back by InteractiveShellApp.init_path()\n",
      "/Users/gmontes/anaconda3/lib/python3.6/site-packages/ipykernel_launcher.py:12: SettingWithCopyWarning: \n",
      "A value is trying to be set on a copy of a slice from a DataFrame.\n",
      "Try using .loc[row_indexer,col_indexer] = value instead\n",
      "\n",
      "See the caveats in the documentation: http://pandas.pydata.org/pandas-docs/stable/indexing.html#indexing-view-versus-copy\n",
      "  if sys.path[0] == '':\n",
      "/Users/gmontes/anaconda3/lib/python3.6/site-packages/ipykernel_launcher.py:14: SettingWithCopyWarning: \n",
      "A value is trying to be set on a copy of a slice from a DataFrame.\n",
      "Try using .loc[row_indexer,col_indexer] = value instead\n",
      "\n",
      "See the caveats in the documentation: http://pandas.pydata.org/pandas-docs/stable/indexing.html#indexing-view-versus-copy\n",
      "  \n",
      "/Users/gmontes/anaconda3/lib/python3.6/site-packages/ipykernel_launcher.py:15: SettingWithCopyWarning: \n",
      "A value is trying to be set on a copy of a slice from a DataFrame.\n",
      "Try using .loc[row_indexer,col_indexer] = value instead\n",
      "\n",
      "See the caveats in the documentation: http://pandas.pydata.org/pandas-docs/stable/indexing.html#indexing-view-versus-copy\n",
      "  from ipykernel import kernelapp as app\n",
      "/Users/gmontes/anaconda3/lib/python3.6/site-packages/ipykernel_launcher.py:17: SettingWithCopyWarning: \n",
      "A value is trying to be set on a copy of a slice from a DataFrame.\n",
      "Try using .loc[row_indexer,col_indexer] = value instead\n",
      "\n",
      "See the caveats in the documentation: http://pandas.pydata.org/pandas-docs/stable/indexing.html#indexing-view-versus-copy\n",
      "/Users/gmontes/anaconda3/lib/python3.6/site-packages/ipykernel_launcher.py:18: SettingWithCopyWarning: \n",
      "A value is trying to be set on a copy of a slice from a DataFrame.\n",
      "Try using .loc[row_indexer,col_indexer] = value instead\n",
      "\n",
      "See the caveats in the documentation: http://pandas.pydata.org/pandas-docs/stable/indexing.html#indexing-view-versus-copy\n",
      "/Users/gmontes/anaconda3/lib/python3.6/site-packages/ipykernel_launcher.py:20: SettingWithCopyWarning: \n",
      "A value is trying to be set on a copy of a slice from a DataFrame.\n",
      "Try using .loc[row_indexer,col_indexer] = value instead\n",
      "\n",
      "See the caveats in the documentation: http://pandas.pydata.org/pandas-docs/stable/indexing.html#indexing-view-versus-copy\n",
      "/Users/gmontes/anaconda3/lib/python3.6/site-packages/ipykernel_launcher.py:21: SettingWithCopyWarning: \n",
      "A value is trying to be set on a copy of a slice from a DataFrame.\n",
      "Try using .loc[row_indexer,col_indexer] = value instead\n",
      "\n",
      "See the caveats in the documentation: http://pandas.pydata.org/pandas-docs/stable/indexing.html#indexing-view-versus-copy\n"
     ]
    }
   ],
   "source": [
    "# Agregamos variable a predecir a los dataframes\n",
    "auctions18_20['base_time'] = datetime.datetime(2019, 4, 18)\n",
    "auctions18_20['time_to_auction'] = (auctions18_20['timestamp_format'] - auctions18_20['base_time']) / np.timedelta64(1, 's')\n",
    "\n",
    "auctions19_21['base_time'] = datetime.datetime(2019, 4, 19)\n",
    "auctions19_21['time_to_auction'] = (auctions19_21['timestamp_format'] - auctions19_21['base_time']) / np.timedelta64(1, 's')\n",
    "\n",
    "auctions20_22['base_time'] = datetime.datetime(2019, 4, 20)\n",
    "auctions20_22['time_to_auction'] = (auctions20_22['timestamp_format'] - auctions20_22['base_time']) / np.timedelta64(1, 's')\n",
    "\n",
    "auctions21_23['base_time'] = datetime.datetime(2019, 4, 21)\n",
    "auctions21_23['time_to_auction'] = (auctions21_23['timestamp_format'] - auctions21_23['base_time']) / np.timedelta64(1, 's')\n",
    "\n",
    "auctions22_24['base_time'] = datetime.datetime(2019, 4, 22)\n",
    "auctions22_24['time_to_auction'] = (auctions22_24['timestamp_format'] - auctions22_24['base_time']) / np.timedelta64(1, 's')\n",
    "\n",
    "auctions23_25['base_time'] = datetime.datetime(2019, 4, 23)\n",
    "auctions23_25['time_to_auction'] = (auctions23_25['timestamp_format'] - auctions23_25['base_time']) / np.timedelta64(1, 's')\n",
    "\n",
    "auctions24_26['base_time'] = datetime.datetime(2019, 4, 24)\n",
    "auctions24_26['time_to_auction'] = (auctions24_26['timestamp_format'] - auctions24_26['base_time']) / np.timedelta64(1, 's')"
   ]
  },
  {
   "cell_type": "code",
   "execution_count": 6,
   "metadata": {},
   "outputs": [
    {
     "data": {
      "text/html": [
       "<div>\n",
       "<style scoped>\n",
       "    .dataframe tbody tr th:only-of-type {\n",
       "        vertical-align: middle;\n",
       "    }\n",
       "\n",
       "    .dataframe tbody tr th {\n",
       "        vertical-align: top;\n",
       "    }\n",
       "\n",
       "    .dataframe thead th {\n",
       "        text-align: right;\n",
       "    }\n",
       "</style>\n",
       "<table border=\"1\" class=\"dataframe\">\n",
       "  <thead>\n",
       "    <tr style=\"text-align: right;\">\n",
       "      <th></th>\n",
       "      <th>date</th>\n",
       "      <th>device_id</th>\n",
       "      <th>ref_type_id</th>\n",
       "      <th>source_id</th>\n",
       "      <th>timestamp_format</th>\n",
       "      <th>date_timestamp</th>\n",
       "      <th>day</th>\n",
       "      <th>base_time</th>\n",
       "      <th>time_to_auction</th>\n",
       "    </tr>\n",
       "  </thead>\n",
       "  <tbody>\n",
       "    <tr>\n",
       "      <th>221726</th>\n",
       "      <td>2019-04-20 23:57:27.912838</td>\n",
       "      <td>1109595589636746168</td>\n",
       "      <td>7</td>\n",
       "      <td>0</td>\n",
       "      <td>2019-04-20 23:57:27.912838</td>\n",
       "      <td>2019-04-20</td>\n",
       "      <td>20</td>\n",
       "      <td>2019-04-18</td>\n",
       "      <td>259047.912838</td>\n",
       "    </tr>\n",
       "    <tr>\n",
       "      <th>221727</th>\n",
       "      <td>2019-04-20 23:57:28.381114</td>\n",
       "      <td>5896614299191635403</td>\n",
       "      <td>1</td>\n",
       "      <td>0</td>\n",
       "      <td>2019-04-20 23:57:28.381114</td>\n",
       "      <td>2019-04-20</td>\n",
       "      <td>20</td>\n",
       "      <td>2019-04-18</td>\n",
       "      <td>259048.381114</td>\n",
       "    </tr>\n",
       "    <tr>\n",
       "      <th>221728</th>\n",
       "      <td>2019-04-20 23:57:28.515423</td>\n",
       "      <td>4172466725848941608</td>\n",
       "      <td>1</td>\n",
       "      <td>0</td>\n",
       "      <td>2019-04-20 23:57:28.515423</td>\n",
       "      <td>2019-04-20</td>\n",
       "      <td>20</td>\n",
       "      <td>2019-04-18</td>\n",
       "      <td>259048.515423</td>\n",
       "    </tr>\n",
       "    <tr>\n",
       "      <th>221729</th>\n",
       "      <td>2019-04-20 23:57:28.700884</td>\n",
       "      <td>2616279795187318849</td>\n",
       "      <td>7</td>\n",
       "      <td>0</td>\n",
       "      <td>2019-04-20 23:57:28.700884</td>\n",
       "      <td>2019-04-20</td>\n",
       "      <td>20</td>\n",
       "      <td>2019-04-18</td>\n",
       "      <td>259048.700884</td>\n",
       "    </tr>\n",
       "    <tr>\n",
       "      <th>221730</th>\n",
       "      <td>2019-04-20 23:57:28.868312</td>\n",
       "      <td>8034952072073026056</td>\n",
       "      <td>1</td>\n",
       "      <td>0</td>\n",
       "      <td>2019-04-20 23:57:28.868312</td>\n",
       "      <td>2019-04-20</td>\n",
       "      <td>20</td>\n",
       "      <td>2019-04-18</td>\n",
       "      <td>259048.868312</td>\n",
       "    </tr>\n",
       "    <tr>\n",
       "      <th>221731</th>\n",
       "      <td>2019-04-20 23:57:29.202778</td>\n",
       "      <td>8018738201130876812</td>\n",
       "      <td>1</td>\n",
       "      <td>0</td>\n",
       "      <td>2019-04-20 23:57:29.202778</td>\n",
       "      <td>2019-04-20</td>\n",
       "      <td>20</td>\n",
       "      <td>2019-04-18</td>\n",
       "      <td>259049.202778</td>\n",
       "    </tr>\n",
       "    <tr>\n",
       "      <th>221732</th>\n",
       "      <td>2019-04-20 23:57:29.441246</td>\n",
       "      <td>4914962826064649332</td>\n",
       "      <td>7</td>\n",
       "      <td>0</td>\n",
       "      <td>2019-04-20 23:57:29.441246</td>\n",
       "      <td>2019-04-20</td>\n",
       "      <td>20</td>\n",
       "      <td>2019-04-18</td>\n",
       "      <td>259049.441246</td>\n",
       "    </tr>\n",
       "    <tr>\n",
       "      <th>221733</th>\n",
       "      <td>2019-04-20 23:57:29.644078</td>\n",
       "      <td>3249069566262483358</td>\n",
       "      <td>1</td>\n",
       "      <td>0</td>\n",
       "      <td>2019-04-20 23:57:29.644078</td>\n",
       "      <td>2019-04-20</td>\n",
       "      <td>20</td>\n",
       "      <td>2019-04-18</td>\n",
       "      <td>259049.644078</td>\n",
       "    </tr>\n",
       "    <tr>\n",
       "      <th>221734</th>\n",
       "      <td>2019-04-20 23:57:29.896508</td>\n",
       "      <td>3352762403977995643</td>\n",
       "      <td>1</td>\n",
       "      <td>0</td>\n",
       "      <td>2019-04-20 23:57:29.896508</td>\n",
       "      <td>2019-04-20</td>\n",
       "      <td>20</td>\n",
       "      <td>2019-04-18</td>\n",
       "      <td>259049.896508</td>\n",
       "    </tr>\n",
       "    <tr>\n",
       "      <th>221735</th>\n",
       "      <td>2019-04-20 23:57:30.453524</td>\n",
       "      <td>9003488718010194664</td>\n",
       "      <td>1</td>\n",
       "      <td>0</td>\n",
       "      <td>2019-04-20 23:57:30.453524</td>\n",
       "      <td>2019-04-20</td>\n",
       "      <td>20</td>\n",
       "      <td>2019-04-18</td>\n",
       "      <td>259050.453524</td>\n",
       "    </tr>\n",
       "  </tbody>\n",
       "</table>\n",
       "</div>"
      ],
      "text/plain": [
       "                              date            device_id  ref_type_id  \\\n",
       "221726  2019-04-20 23:57:27.912838  1109595589636746168            7   \n",
       "221727  2019-04-20 23:57:28.381114  5896614299191635403            1   \n",
       "221728  2019-04-20 23:57:28.515423  4172466725848941608            1   \n",
       "221729  2019-04-20 23:57:28.700884  2616279795187318849            7   \n",
       "221730  2019-04-20 23:57:28.868312  8034952072073026056            1   \n",
       "221731  2019-04-20 23:57:29.202778  8018738201130876812            1   \n",
       "221732  2019-04-20 23:57:29.441246  4914962826064649332            7   \n",
       "221733  2019-04-20 23:57:29.644078  3249069566262483358            1   \n",
       "221734  2019-04-20 23:57:29.896508  3352762403977995643            1   \n",
       "221735  2019-04-20 23:57:30.453524  9003488718010194664            1   \n",
       "\n",
       "        source_id           timestamp_format date_timestamp  day  base_time  \\\n",
       "221726          0 2019-04-20 23:57:27.912838     2019-04-20   20 2019-04-18   \n",
       "221727          0 2019-04-20 23:57:28.381114     2019-04-20   20 2019-04-18   \n",
       "221728          0 2019-04-20 23:57:28.515423     2019-04-20   20 2019-04-18   \n",
       "221729          0 2019-04-20 23:57:28.700884     2019-04-20   20 2019-04-18   \n",
       "221730          0 2019-04-20 23:57:28.868312     2019-04-20   20 2019-04-18   \n",
       "221731          0 2019-04-20 23:57:29.202778     2019-04-20   20 2019-04-18   \n",
       "221732          0 2019-04-20 23:57:29.441246     2019-04-20   20 2019-04-18   \n",
       "221733          0 2019-04-20 23:57:29.644078     2019-04-20   20 2019-04-18   \n",
       "221734          0 2019-04-20 23:57:29.896508     2019-04-20   20 2019-04-18   \n",
       "221735          0 2019-04-20 23:57:30.453524     2019-04-20   20 2019-04-18   \n",
       "\n",
       "        time_to_auction  \n",
       "221726    259047.912838  \n",
       "221727    259048.381114  \n",
       "221728    259048.515423  \n",
       "221729    259048.700884  \n",
       "221730    259048.868312  \n",
       "221731    259049.202778  \n",
       "221732    259049.441246  \n",
       "221733    259049.644078  \n",
       "221734    259049.896508  \n",
       "221735    259050.453524  "
      ]
     },
     "execution_count": 6,
     "metadata": {},
     "output_type": "execute_result"
    }
   ],
   "source": [
    "auctions18_20.head(10)"
   ]
  },
  {
   "cell_type": "markdown",
   "metadata": {},
   "source": [
    "# Feature Engineering"
   ]
  },
  {
   "cell_type": "markdown",
   "metadata": {},
   "source": [
    "## Cantidad de Subastas"
   ]
  },
  {
   "cell_type": "code",
   "execution_count": 7,
   "metadata": {},
   "outputs": [
    {
     "name": "stderr",
     "output_type": "stream",
     "text": [
      "/Users/gmontes/anaconda3/lib/python3.6/site-packages/ipykernel_launcher.py:1: SettingWithCopyWarning: \n",
      "A value is trying to be set on a copy of a slice from a DataFrame.\n",
      "Try using .loc[row_indexer,col_indexer] = value instead\n",
      "\n",
      "See the caveats in the documentation: http://pandas.pydata.org/pandas-docs/stable/indexing.html#indexing-view-versus-copy\n",
      "  \"\"\"Entry point for launching an IPython kernel.\n",
      "/Users/gmontes/anaconda3/lib/python3.6/site-packages/ipykernel_launcher.py:4: SettingWithCopyWarning: \n",
      "A value is trying to be set on a copy of a slice from a DataFrame.\n",
      "Try using .loc[row_indexer,col_indexer] = value instead\n",
      "\n",
      "See the caveats in the documentation: http://pandas.pydata.org/pandas-docs/stable/indexing.html#indexing-view-versus-copy\n",
      "  after removing the cwd from sys.path.\n",
      "/Users/gmontes/anaconda3/lib/python3.6/site-packages/ipykernel_launcher.py:7: SettingWithCopyWarning: \n",
      "A value is trying to be set on a copy of a slice from a DataFrame.\n",
      "Try using .loc[row_indexer,col_indexer] = value instead\n",
      "\n",
      "See the caveats in the documentation: http://pandas.pydata.org/pandas-docs/stable/indexing.html#indexing-view-versus-copy\n",
      "  import sys\n",
      "/Users/gmontes/anaconda3/lib/python3.6/site-packages/ipykernel_launcher.py:10: SettingWithCopyWarning: \n",
      "A value is trying to be set on a copy of a slice from a DataFrame.\n",
      "Try using .loc[row_indexer,col_indexer] = value instead\n",
      "\n",
      "See the caveats in the documentation: http://pandas.pydata.org/pandas-docs/stable/indexing.html#indexing-view-versus-copy\n",
      "  # Remove the CWD from sys.path while we load stuff.\n",
      "/Users/gmontes/anaconda3/lib/python3.6/site-packages/ipykernel_launcher.py:13: SettingWithCopyWarning: \n",
      "A value is trying to be set on a copy of a slice from a DataFrame.\n",
      "Try using .loc[row_indexer,col_indexer] = value instead\n",
      "\n",
      "See the caveats in the documentation: http://pandas.pydata.org/pandas-docs/stable/indexing.html#indexing-view-versus-copy\n",
      "  del sys.path[0]\n",
      "/Users/gmontes/anaconda3/lib/python3.6/site-packages/ipykernel_launcher.py:16: SettingWithCopyWarning: \n",
      "A value is trying to be set on a copy of a slice from a DataFrame.\n",
      "Try using .loc[row_indexer,col_indexer] = value instead\n",
      "\n",
      "See the caveats in the documentation: http://pandas.pydata.org/pandas-docs/stable/indexing.html#indexing-view-versus-copy\n",
      "  app.launch_new_instance()\n",
      "/Users/gmontes/anaconda3/lib/python3.6/site-packages/ipykernel_launcher.py:19: SettingWithCopyWarning: \n",
      "A value is trying to be set on a copy of a slice from a DataFrame.\n",
      "Try using .loc[row_indexer,col_indexer] = value instead\n",
      "\n",
      "See the caveats in the documentation: http://pandas.pydata.org/pandas-docs/stable/indexing.html#indexing-view-versus-copy\n"
     ]
    }
   ],
   "source": [
    "auctions18_20['ref_hash'] = auctions18_20['device_id']\n",
    "del auctions18_20['device_id']\n",
    "\n",
    "auctions21_23['ref_hash'] = auctions21_23['device_id']\n",
    "del auctions21_23['device_id']\n",
    "\n",
    "auctions19_21['ref_hash'] = auctions19_21['device_id']\n",
    "del auctions19_21['device_id']\n",
    "\n",
    "auctions22_24['ref_hash'] = auctions22_24['device_id']\n",
    "del auctions22_24['device_id']\n",
    "\n",
    "auctions20_22['ref_hash'] = auctions20_22['device_id']\n",
    "del auctions20_22['device_id']\n",
    "\n",
    "auctions23_25['ref_hash'] = auctions23_25['device_id']\n",
    "del auctions23_25['device_id']\n",
    "\n",
    "auctions24_26['ref_hash'] = auctions24_26['device_id']\n",
    "del auctions24_26['device_id']"
   ]
  },
  {
   "cell_type": "code",
   "execution_count": 8,
   "metadata": {},
   "outputs": [],
   "source": [
    "final = auctions18_20.groupby('ref_hash')['date'].count().reset_index()\n",
    "final.columns = ['ref_hash', 'cant_auctions']\n",
    "\n",
    "final2 = auctions21_23.groupby('ref_hash')['date'].count().reset_index()\n",
    "final2.columns = ['ref_hash', 'cant_auctions']\n",
    "\n",
    "final3 = auctions19_21.groupby('ref_hash')['date'].count().reset_index()\n",
    "final3.columns = ['ref_hash', 'cant_auctions']\n",
    "\n",
    "final4 = auctions22_24.groupby('ref_hash')['date'].count().reset_index()\n",
    "final4.columns = ['ref_hash', 'cant_auctions']\n",
    "\n",
    "final5 = auctions20_22.groupby('ref_hash')['date'].count().reset_index()\n",
    "final5.columns = ['ref_hash', 'cant_auctions']\n",
    "\n",
    "final6 = auctions23_25.groupby('ref_hash')['date'].count().reset_index()\n",
    "final6.columns = ['ref_hash', 'cant_auctions']\n",
    "\n",
    "final7 = auctions24_26.groupby('ref_hash')['date'].count().reset_index()\n",
    "final7.columns = ['ref_hash', 'cant_auctions']"
   ]
  },
  {
   "cell_type": "markdown",
   "metadata": {},
   "source": [
    "## Cantidad de Sources distintas"
   ]
  },
  {
   "cell_type": "code",
   "execution_count": 9,
   "metadata": {},
   "outputs": [],
   "source": [
    "cantidad_de_sources = auctions18_20.groupby('ref_hash')['source_id'].nunique().reset_index()\n",
    "cantidad_de_sources.columns = ['ref_hash', 'cant_sources']\n",
    "\n",
    "final = final.merge(cantidad_de_sources, on='ref_hash', how='left')\n",
    "final['cant_sources'].fillna(0, inplace= True)"
   ]
  },
  {
   "cell_type": "code",
   "execution_count": 10,
   "metadata": {},
   "outputs": [],
   "source": [
    "cantidad_de_sources2 = auctions21_23.groupby('ref_hash')['source_id'].nunique().reset_index()\n",
    "cantidad_de_sources2.columns = ['ref_hash', 'cant_sources']\n",
    "\n",
    "final2 = final2.merge(cantidad_de_sources2, on='ref_hash', how='left')\n",
    "final2['cant_sources'].fillna(0, inplace= True)"
   ]
  },
  {
   "cell_type": "code",
   "execution_count": 11,
   "metadata": {},
   "outputs": [],
   "source": [
    "cantidad_de_sources3 = auctions19_21.groupby('ref_hash')['source_id'].nunique().reset_index()\n",
    "cantidad_de_sources3.columns = ['ref_hash', 'cant_sources']\n",
    "\n",
    "final3 = final3.merge(cantidad_de_sources3, on='ref_hash', how='left')\n",
    "final3['cant_sources'].fillna(0, inplace= True)"
   ]
  },
  {
   "cell_type": "code",
   "execution_count": 12,
   "metadata": {},
   "outputs": [],
   "source": [
    "cantidad_de_sources4 = auctions22_24.groupby('ref_hash')['source_id'].nunique().reset_index()\n",
    "cantidad_de_sources4.columns = ['ref_hash', 'cant_sources']\n",
    "\n",
    "final4 = final4.merge(cantidad_de_sources4, on='ref_hash', how='left')\n",
    "final4['cant_sources'].fillna(0, inplace= True)"
   ]
  },
  {
   "cell_type": "code",
   "execution_count": 13,
   "metadata": {},
   "outputs": [],
   "source": [
    "cantidad_de_sources5 = auctions20_22.groupby('ref_hash')['source_id'].nunique().reset_index()\n",
    "cantidad_de_sources5.columns = ['ref_hash', 'cant_sources']\n",
    "\n",
    "final5 = final5.merge(cantidad_de_sources5, on='ref_hash', how='left')\n",
    "final5['cant_sources'].fillna(0, inplace= True)"
   ]
  },
  {
   "cell_type": "code",
   "execution_count": 14,
   "metadata": {},
   "outputs": [],
   "source": [
    "cantidad_de_sources6 = auctions23_25.groupby('ref_hash')['source_id'].nunique().reset_index()\n",
    "cantidad_de_sources6.columns = ['ref_hash', 'cant_sources']\n",
    "\n",
    "final6 = final6.merge(cantidad_de_sources6, on='ref_hash', how='left')\n",
    "final6['cant_sources'].fillna(0, inplace= True)"
   ]
  },
  {
   "cell_type": "code",
   "execution_count": 15,
   "metadata": {},
   "outputs": [],
   "source": [
    "cantidad_de_sources7 = auctions24_26.groupby('ref_hash')['source_id'].nunique().reset_index()\n",
    "cantidad_de_sources7.columns = ['ref_hash', 'cant_sources']\n",
    "\n",
    "final7 = final7.merge(cantidad_de_sources7, on='ref_hash', how='left')\n",
    "final7['cant_sources'].fillna(0, inplace= True)"
   ]
  },
  {
   "cell_type": "markdown",
   "metadata": {},
   "source": [
    "## Cantidad de Reference types distintos"
   ]
  },
  {
   "cell_type": "code",
   "execution_count": 16,
   "metadata": {},
   "outputs": [],
   "source": [
    "cantidad_de_types = auctions18_20.groupby('ref_hash')['ref_type_id'].nunique().reset_index()\n",
    "cantidad_de_types.columns = ['ref_hash', 'cant_types']\n",
    "\n",
    "final = final.merge(cantidad_de_types, on='ref_hash', how='left')\n",
    "final['cant_types'].fillna(0, inplace= True)"
   ]
  },
  {
   "cell_type": "code",
   "execution_count": 17,
   "metadata": {},
   "outputs": [],
   "source": [
    "cantidad_de_types2 = auctions21_23.groupby('ref_hash')['ref_type_id'].nunique().reset_index()\n",
    "cantidad_de_types2.columns = ['ref_hash', 'cant_types']\n",
    "\n",
    "final2 = final2.merge(cantidad_de_types2, on='ref_hash', how='left')\n",
    "final2['cant_types'].fillna(0, inplace= True)"
   ]
  },
  {
   "cell_type": "code",
   "execution_count": 18,
   "metadata": {},
   "outputs": [],
   "source": [
    "cantidad_de_types3 = auctions19_21.groupby('ref_hash')['ref_type_id'].nunique().reset_index()\n",
    "cantidad_de_types3.columns = ['ref_hash', 'cant_types']\n",
    "\n",
    "final3 = final3.merge(cantidad_de_types3, on='ref_hash', how='left')\n",
    "final3['cant_types'].fillna(0, inplace= True)"
   ]
  },
  {
   "cell_type": "code",
   "execution_count": 19,
   "metadata": {},
   "outputs": [],
   "source": [
    "cantidad_de_types4 = auctions22_24.groupby('ref_hash')['ref_type_id'].nunique().reset_index()\n",
    "cantidad_de_types4.columns = ['ref_hash', 'cant_types']\n",
    "\n",
    "final4 = final4.merge(cantidad_de_types4, on='ref_hash', how='left')\n",
    "final4['cant_types'].fillna(0, inplace= True)"
   ]
  },
  {
   "cell_type": "code",
   "execution_count": 20,
   "metadata": {},
   "outputs": [],
   "source": [
    "cantidad_de_types5 = auctions20_22.groupby('ref_hash')['ref_type_id'].nunique().reset_index()\n",
    "cantidad_de_types5.columns = ['ref_hash', 'cant_types']\n",
    "\n",
    "final5 = final5.merge(cantidad_de_types5, on='ref_hash', how='left')\n",
    "final5['cant_types'].fillna(0, inplace= True)"
   ]
  },
  {
   "cell_type": "code",
   "execution_count": 21,
   "metadata": {},
   "outputs": [],
   "source": [
    "cantidad_de_types6 = auctions23_25.groupby('ref_hash')['ref_type_id'].nunique().reset_index()\n",
    "cantidad_de_types6.columns = ['ref_hash', 'cant_types']\n",
    "\n",
    "final6 = final6.merge(cantidad_de_types6, on='ref_hash', how='left')\n",
    "final6['cant_types'].fillna(0, inplace= True)"
   ]
  },
  {
   "cell_type": "code",
   "execution_count": 22,
   "metadata": {},
   "outputs": [
    {
     "ename": "NameError",
     "evalue": "name 'fina7' is not defined",
     "output_type": "error",
     "traceback": [
      "\u001b[0;31m---------------------------------------------------------------------------\u001b[0m",
      "\u001b[0;31mNameError\u001b[0m                                 Traceback (most recent call last)",
      "\u001b[0;32m<ipython-input-22-241016342111>\u001b[0m in \u001b[0;36m<module>\u001b[0;34m()\u001b[0m\n\u001b[1;32m      2\u001b[0m \u001b[0mcantidad_de_types7\u001b[0m\u001b[0;34m.\u001b[0m\u001b[0mcolumns\u001b[0m \u001b[0;34m=\u001b[0m \u001b[0;34m[\u001b[0m\u001b[0;34m'ref_hash'\u001b[0m\u001b[0;34m,\u001b[0m \u001b[0;34m'cant_types'\u001b[0m\u001b[0;34m]\u001b[0m\u001b[0;34m\u001b[0m\u001b[0;34m\u001b[0m\u001b[0m\n\u001b[1;32m      3\u001b[0m \u001b[0;34m\u001b[0m\u001b[0m\n\u001b[0;32m----> 4\u001b[0;31m \u001b[0mfinal7\u001b[0m \u001b[0;34m=\u001b[0m \u001b[0mfina7\u001b[0m\u001b[0;34m.\u001b[0m\u001b[0mmerge\u001b[0m\u001b[0;34m(\u001b[0m\u001b[0mcantidad_de_types7\u001b[0m\u001b[0;34m,\u001b[0m \u001b[0mon\u001b[0m\u001b[0;34m=\u001b[0m\u001b[0;34m'ref_hash'\u001b[0m\u001b[0;34m,\u001b[0m \u001b[0mhow\u001b[0m\u001b[0;34m=\u001b[0m\u001b[0;34m'left'\u001b[0m\u001b[0;34m)\u001b[0m\u001b[0;34m\u001b[0m\u001b[0;34m\u001b[0m\u001b[0m\n\u001b[0m\u001b[1;32m      5\u001b[0m \u001b[0mfinal7\u001b[0m\u001b[0;34m[\u001b[0m\u001b[0;34m'cant_types'\u001b[0m\u001b[0;34m]\u001b[0m\u001b[0;34m.\u001b[0m\u001b[0mfillna\u001b[0m\u001b[0;34m(\u001b[0m\u001b[0;36m0\u001b[0m\u001b[0;34m,\u001b[0m \u001b[0minplace\u001b[0m\u001b[0;34m=\u001b[0m \u001b[0;32mTrue\u001b[0m\u001b[0;34m)\u001b[0m\u001b[0;34m\u001b[0m\u001b[0;34m\u001b[0m\u001b[0m\n",
      "\u001b[0;31mNameError\u001b[0m: name 'fina7' is not defined"
     ]
    }
   ],
   "source": [
    "cantidad_de_types7 = auctions24_26.groupby('ref_hash')['ref_type_id'].nunique().reset_index()\n",
    "cantidad_de_types7.columns = ['ref_hash', 'cant_types']\n",
    "\n",
    "final7 = fina7.merge(cantidad_de_types7, on='ref_hash', how='left')\n",
    "final7['cant_types'].fillna(0, inplace= True)"
   ]
  },
  {
   "cell_type": "markdown",
   "metadata": {},
   "source": [
    "## TimeToAuction -> variable a predecir"
   ]
  },
  {
   "cell_type": "code",
   "execution_count": null,
   "metadata": {},
   "outputs": [],
   "source": [
    "time_to_auction = auctions18_20.groupby('ref_hash').agg({'time_to_auction': 'mean'}).reset_index()\n",
    "time_to_auction.columns = ['ref_hash', 'time_to_auction']\n",
    "\n",
    "# 3 dias son 259200 segundos\n",
    "final = final.merge(time_to_auction, on='ref_hash', how='left')\n",
    "final['time_to_auction'].fillna(259200, inplace= True)"
   ]
  },
  {
   "cell_type": "code",
   "execution_count": null,
   "metadata": {},
   "outputs": [],
   "source": [
    "time_to_auction2 = auctions21_23.groupby('ref_hash').agg({'time_to_auction': 'mean'}).reset_index()\n",
    "time_to_auction2.columns = ['ref_hash', 'time_to_auction']\n",
    "\n",
    "# 3 dias son 259200 segundos\n",
    "final2 = final2.merge(time_to_auction2, on='ref_hash', how='left')\n",
    "final2['time_to_auction'].fillna(259200, inplace= True)"
   ]
  },
  {
   "cell_type": "code",
   "execution_count": null,
   "metadata": {},
   "outputs": [],
   "source": [
    "time_to_auction3 = auctions19_21.groupby('ref_hash').agg({'time_to_auction': 'mean'}).reset_index()\n",
    "time_to_auction3.columns = ['ref_hash', 'time_to_auction']\n",
    "\n",
    "# 3 dias son 259200 segundos\n",
    "final3 = final3.merge(time_to_auction3, on='ref_hash', how='left')\n",
    "final3['time_to_auction'].fillna(259200, inplace= True)"
   ]
  },
  {
   "cell_type": "code",
   "execution_count": null,
   "metadata": {},
   "outputs": [],
   "source": [
    "time_to_auction4 = auctions22_24.groupby('ref_hash').agg({'time_to_auction': 'mean'}).reset_index()\n",
    "time_to_auction4.columns = ['ref_hash', 'time_to_auction']\n",
    "\n",
    "# 3 dias son 259200 segundos\n",
    "final4 = final4.merge(time_to_auction4, on='ref_hash', how='left')\n",
    "final4['time_to_auction'].fillna(259200, inplace= True)"
   ]
  },
  {
   "cell_type": "code",
   "execution_count": null,
   "metadata": {},
   "outputs": [],
   "source": [
    "time_to_auction5 = auctions20_22.groupby('ref_hash').agg({'time_to_auction': 'mean'}).reset_index()\n",
    "time_to_auction5.columns = ['ref_hash', 'time_to_auction']\n",
    "\n",
    "# 3 dias son 259200 segundos\n",
    "final5 = final5.merge(time_to_auction5, on='ref_hash', how='left')\n",
    "final5['time_to_auction'].fillna(259200, inplace= True)"
   ]
  },
  {
   "cell_type": "code",
   "execution_count": null,
   "metadata": {},
   "outputs": [],
   "source": [
    "time_to_auction6 = auctions23_25.groupby('ref_hash').agg({'time_to_auction': 'mean'}).reset_index()\n",
    "time_to_auction6.columns = ['ref_hash', 'time_to_auction']\n",
    "\n",
    "# 3 dias son 259200 segundos\n",
    "final6 = final6.merge(time_to_auction6, on='ref_hash', how='left')\n",
    "final6['time_to_auction'].fillna(259200, inplace= True)"
   ]
  },
  {
   "cell_type": "code",
   "execution_count": null,
   "metadata": {},
   "outputs": [],
   "source": [
    "time_to_auction7 = auctions24_26.groupby('ref_hash').agg({'time_to_auction': 'mean'}).reset_index()\n",
    "time_to_auction7.columns = ['ref_hash', 'time_to_auction']\n",
    "\n",
    "# 3 dias son 259200 segundos\n",
    "final7 = final7.merge(time_to_auction7, on='ref_hash', how='left')\n",
    "final7['time_to_auction'].fillna(259200, inplace= True)"
   ]
  },
  {
   "cell_type": "code",
   "execution_count": null,
   "metadata": {},
   "outputs": [],
   "source": [
    "final.head(10)"
   ]
  },
  {
   "cell_type": "code",
   "execution_count": null,
   "metadata": {},
   "outputs": [],
   "source": [
    "final2.head(10)"
   ]
  },
  {
   "cell_type": "markdown",
   "metadata": {},
   "source": [
    "## Join de targets con features"
   ]
  },
  {
   "cell_type": "code",
   "execution_count": null,
   "metadata": {},
   "outputs": [],
   "source": [
    "targets = pd.read_csv('datos/target_competencia_ids.csv')"
   ]
  },
  {
   "cell_type": "code",
   "execution_count": null,
   "metadata": {},
   "outputs": [],
   "source": [
    "final['ref_hash'] = final['ref_hash'].astype(str) + '_st'\n",
    "final['ref_hash'] = final['ref_hash'].astype('object')\n",
    "\n",
    "merged_18_20_targets = targets.merge(final, on='ref_hash', how='left').drop('obj', axis=1)\n",
    "merged_18_20_targets = merged_18_20_targets.loc[merged_18_20_targets['ref_hash'].str.contains('_st'), :]\n",
    "\n",
    "# 3 dias son 259200 segundos\n",
    "merged_18_20_targets['time_to_auction'] = merged_18_20_targets['time_to_auction'].fillna(259200)"
   ]
  },
  {
   "cell_type": "code",
   "execution_count": null,
   "metadata": {},
   "outputs": [],
   "source": [
    "final2['ref_hash'] = final2['ref_hash'].astype(str) + '_st'\n",
    "final2['ref_hash'] = final2['ref_hash'].astype('object')\n",
    "\n",
    "merged_21_23_targets = targets.merge(final2, on='ref_hash', how='left').drop('obj', axis=1)\n",
    "merged_21_23_targets = merged_21_23_targets.loc[merged_21_23_targets['ref_hash'].str.contains('_st'), :]\n",
    "\n",
    "# 3 dias son 259200 segundos\n",
    "merged_21_23_targets['time_to_auction'] = merged_21_23_targets['time_to_auction'].fillna(259200)"
   ]
  },
  {
   "cell_type": "code",
   "execution_count": null,
   "metadata": {},
   "outputs": [],
   "source": [
    "final3['ref_hash'] = final3['ref_hash'].astype(str) + '_st'\n",
    "final3['ref_hash'] = final3['ref_hash'].astype('object')\n",
    "\n",
    "merged_19_21_targets = targets.merge(final3, on='ref_hash', how='left').drop('obj', axis=1)\n",
    "merged_19_21_targets = merged_19_21_targets.loc[merged_19_21_targets['ref_hash'].str.contains('_st'), :]\n",
    "\n",
    "# 3 dias son 259200 segundos\n",
    "merged_19_21_targets['time_to_auction'] = merged_19_21_targets['time_to_auction'].fillna(259200)"
   ]
  },
  {
   "cell_type": "code",
   "execution_count": null,
   "metadata": {},
   "outputs": [],
   "source": [
    "final4['ref_hash'] = final4['ref_hash'].astype(str) + '_st'\n",
    "final4['ref_hash'] = final4['ref_hash'].astype('object')\n",
    "\n",
    "merged_22_24_targets = targets.merge(final4, on='ref_hash', how='left').drop('obj', axis=1)\n",
    "merged_22_24_targets = merged_22_24_targets.loc[merged_22_24_targets['ref_hash'].str.contains('_st'), :]\n",
    "\n",
    "# 3 dias son 259200 segundos\n",
    "merged_22_24_targets['time_to_auction'] = merged_22_24_targets['time_to_auction'].fillna(259200)"
   ]
  },
  {
   "cell_type": "code",
   "execution_count": null,
   "metadata": {},
   "outputs": [],
   "source": [
    "final5['ref_hash'] = final5['ref_hash'].astype(str) + '_st'\n",
    "final5['ref_hash'] = final5['ref_hash'].astype('object')\n",
    "\n",
    "merged_20_22_targets = targets.merge(final5, on='ref_hash', how='left').drop('obj', axis=1)\n",
    "merged_20_22_targets = merged_20_22_targets.loc[merged_20_22_targets['ref_hash'].str.contains('_st'), :]\n",
    "\n",
    "# 3 dias son 259200 segundos\n",
    "merged_20_22_targets['time_to_auction'] = merged_20_22_targets['time_to_auction'].fillna(259200)"
   ]
  },
  {
   "cell_type": "code",
   "execution_count": null,
   "metadata": {},
   "outputs": [],
   "source": [
    "final6['ref_hash'] = final6['ref_hash'].astype(str) + '_st'\n",
    "final6['ref_hash'] = final6['ref_hash'].astype('object')\n",
    "\n",
    "merged_23_25_targets = targets.merge(final6, on='ref_hash', how='left').drop('obj', axis=1)\n",
    "merged_23_25_targets = merged_23_25_targets.loc[merged_23_25_targets['ref_hash'].str.contains('_st'), :]\n",
    "\n",
    "# 3 dias son 259200 segundos\n",
    "merged_23_25_targets['time_to_auction'] = merged_23_25_targets['time_to_auction'].fillna(259200)"
   ]
  },
  {
   "cell_type": "code",
   "execution_count": null,
   "metadata": {},
   "outputs": [],
   "source": [
    "final7['ref_hash'] = final7['ref_hash'].astype(str) + '_st'\n",
    "final7['ref_hash'] = final7['ref_hash'].astype('object')\n",
    "\n",
    "merged_24_26_targets = targets.merge(final7, on='ref_hash', how='left').drop('obj', axis=1)\n",
    "merged_24_26_targets = merged_24_26_targets.loc[merged_24_26_targets['ref_hash'].str.contains('_st'), :]\n",
    "\n",
    "# 3 dias son 259200 segundos\n",
    "merged_24_26_targets['time_to_auction'] = merged_24_26_targets['time_to_auction'].fillna(259200)"
   ]
  },
  {
   "cell_type": "code",
   "execution_count": null,
   "metadata": {},
   "outputs": [],
   "source": [
    "merged_21_23_targets"
   ]
  },
  {
   "cell_type": "code",
   "execution_count": null,
   "metadata": {},
   "outputs": [],
   "source": [
    "merged_18_20_targets.to_csv('test_and_train_auctions/data_18_20.csv', index=False)\n",
    "merged_19_21_targets.to_csv('test_and_train_auctions/data_19_21.csv', index=False)\n",
    "merged_20_22_targets.to_csv('test_and_train_auctions/data_20_22.csv', index=False)\n",
    "merged_21_23_targets.to_csv('test_and_train_auctions/data_21_23.csv', index=False)\n",
    "merged_22_24_targets.to_csv('test_and_train_auctions/data_22_24.csv', index=False)\n",
    "merged_23_25_targets.to_csv('test_and_train_auctions/data_23_25.csv', index=False)\n",
    "merged_24_26_targets.to_csv('test_and_train_auctions/data_24_26.csv', index=False)"
   ]
  },
  {
   "cell_type": "code",
   "execution_count": null,
   "metadata": {},
   "outputs": [],
   "source": []
  }
 ],
 "metadata": {
  "kernelspec": {
   "display_name": "Python 3",
   "language": "python",
   "name": "python3"
  },
  "language_info": {
   "codemirror_mode": {
    "name": "ipython",
    "version": 3
   },
   "file_extension": ".py",
   "mimetype": "text/x-python",
   "name": "python",
   "nbconvert_exporter": "python",
   "pygments_lexer": "ipython3",
   "version": "3.6.8"
  }
 },
 "nbformat": 4,
 "nbformat_minor": 2
}
