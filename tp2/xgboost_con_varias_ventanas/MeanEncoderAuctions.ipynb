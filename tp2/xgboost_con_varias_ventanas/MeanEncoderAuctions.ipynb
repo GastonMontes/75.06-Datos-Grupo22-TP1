{
 "cells": [
  {
   "cell_type": "code",
   "execution_count": 1,
   "metadata": {},
   "outputs": [],
   "source": [
    "import pandas as pd\n",
    "import numpy as np\n",
    "from MeanEncoderCategoricas import TargetEncode"
   ]
  },
  {
   "cell_type": "code",
   "execution_count": 2,
   "metadata": {},
   "outputs": [],
   "source": [
    "train = pd.read_csv('test_and_train_auctions/data_18_20.csv')\n",
    "test = pd.read_csv('test_and_train_auctions/data_21_23.csv')\n",
    "\n",
    "train2 = pd.read_csv('test_and_train_auctions/data_19_21.csv')\n",
    "test2 = pd.read_csv('test_and_train_auctions/data_22_24.csv')\n",
    "\n",
    "train3 = pd.read_csv('test_and_train_auctions/data_20_22.csv')\n",
    "test3 = pd.read_csv('test_and_train_auctions/data_23_25.csv')\n",
    "\n",
    "train4 = pd.read_csv('test_and_train_auctions/data_21_23.csv')\n",
    "test4 = pd.read_csv('test_and_train_auctions/data_24_26.csv')"
   ]
  },
  {
   "cell_type": "code",
   "execution_count": 3,
   "metadata": {},
   "outputs": [],
   "source": [
    "encoder = TargetEncode()\n",
    "\n",
    "# encoding de los features categoricos\n",
    "for feature in train.columns:\n",
    "    if (train[feature].dtype in ['int64', 'float64', 'bool'] or feature == 'ref_hash'):\n",
    "        continue\n",
    "\n",
    "    trn, tst = encoder.target_encode(train[feature], \n",
    "                             test[feature], \n",
    "                             target=train['time_to_auction'], \n",
    "                             min_samples_leaf=100,\n",
    "                             smoothing=10,\n",
    "                             noise_level=0.01)\n",
    "    train[feature] = trn\n",
    "    test[feature] = tst"
   ]
  },
  {
   "cell_type": "code",
   "execution_count": 4,
   "metadata": {},
   "outputs": [],
   "source": [
    "# encoding de los features categoricos\n",
    "for feature in train2.columns:\n",
    "    if (train2[feature].dtype in ['int64', 'float64', 'bool'] or feature == 'ref_hash'):\n",
    "        continue\n",
    "\n",
    "    trn2, tst2 = encoder.target_encode(train2[feature], \n",
    "                             test2[feature], \n",
    "                             target=train2['time_to_auction'], \n",
    "                             min_samples_leaf=100,\n",
    "                             smoothing=10,\n",
    "                             noise_level=0.01)\n",
    "    train2[feature] = trn2\n",
    "    test2[feature] = tst2"
   ]
  },
  {
   "cell_type": "code",
   "execution_count": 5,
   "metadata": {},
   "outputs": [],
   "source": [
    "# encoding de los features categoricos\n",
    "for feature in train3.columns:\n",
    "    if (train3[feature].dtype in ['int64', 'float64', 'bool'] or feature == 'ref_hash'):\n",
    "        continue\n",
    "\n",
    "    trn3, tst3 = encoder.target_encode(train3[feature], \n",
    "                             test3[feature], \n",
    "                             target=train3['time_to_auction'], \n",
    "                             min_samples_leaf=100,\n",
    "                             smoothing=10,\n",
    "                             noise_level=0.01)\n",
    "    train3[feature] = trn3\n",
    "    test3[feature] = tst3"
   ]
  },
  {
   "cell_type": "code",
   "execution_count": 6,
   "metadata": {},
   "outputs": [],
   "source": [
    "# encoding de los features categoricos\n",
    "for feature in train4.columns:\n",
    "    if (train4[feature].dtype in ['int64', 'float64', 'bool'] or feature == 'ref_hash'):\n",
    "        continue\n",
    "\n",
    "    trn4, tst4 = encoder.target_encode(train4[feature], \n",
    "                             test4[feature], \n",
    "                             target=train4['time_to_auction'], \n",
    "                             min_samples_leaf=100,\n",
    "                             smoothing=10,\n",
    "                             noise_level=0.01)\n",
    "    train4[feature] = trn4\n",
    "    test4[feature] = tst4"
   ]
  },
  {
   "cell_type": "code",
   "execution_count": 7,
   "metadata": {},
   "outputs": [],
   "source": [
    "train.to_csv('test_and_train_auctions/train_data_encoded.csv', index=False)\n",
    "test.to_csv('test_and_train_auctions/test_data_encoded.csv', index=False)\n",
    "\n",
    "train2.to_csv('test_and_train_auctions/train_data_encoded2.csv', index=False)\n",
    "test2.to_csv('test_and_train_auctions/test_data_encoded2.csv', index=False)\n",
    "\n",
    "train3.to_csv('test_and_train_auctions/train_data_encoded3.csv', index=False)\n",
    "test3.to_csv('test_and_train_auctions/test_data_encoded3.csv', index=False)\n",
    "\n",
    "train4.to_csv('test_and_train_auctions/train_data_encoded4.csv', index=False)\n",
    "test4.to_csv('test_and_train_auctions/test_data_encoded4.csv', index=False)"
   ]
  },
  {
   "cell_type": "code",
   "execution_count": null,
   "metadata": {},
   "outputs": [],
   "source": []
  }
 ],
 "metadata": {
  "kernelspec": {
   "display_name": "Python 3",
   "language": "python",
   "name": "python3"
  },
  "language_info": {
   "codemirror_mode": {
    "name": "ipython",
    "version": 3
   },
   "file_extension": ".py",
   "mimetype": "text/x-python",
   "name": "python",
   "nbconvert_exporter": "python",
   "pygments_lexer": "ipython3",
   "version": "3.7.3"
  }
 },
 "nbformat": 4,
 "nbformat_minor": 2
}
