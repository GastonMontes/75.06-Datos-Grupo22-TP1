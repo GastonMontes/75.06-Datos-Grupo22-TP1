{
 "cells": [
  {
   "cell_type": "code",
   "execution_count": 7,
   "metadata": {},
   "outputs": [],
   "source": [
    "import pandas as pd\n",
    "import numpy as np\n",
    "from MeanEncoderCategoricas import TargetEncode"
   ]
  },
  {
   "cell_type": "code",
   "execution_count": 8,
   "metadata": {},
   "outputs": [],
   "source": [
    "train = pd.read_csv('test_and_train_installs/data_18_20.csv')\n",
    "test = pd.read_csv('test_and_train_installs/data_21_23.csv')\n",
    "\n",
    "train2 = pd.read_csv('test_and_train_installs/data_19_21.csv')\n",
    "test2 = pd.read_csv('test_and_train_installs/data_22_24.csv')"
   ]
  },
  {
   "cell_type": "code",
   "execution_count": 9,
   "metadata": {},
   "outputs": [],
   "source": [
    "encoder = TargetEncode()\n",
    "\n",
    "# encoding de los features categoricos\n",
    "for feature in train.columns:\n",
    "    if (train[feature].dtype in ['int64', 'float64', 'bool'] or feature == 'ref_hash'):\n",
    "        continue\n",
    "\n",
    "    trn, tst = encoder.target_encode(train[feature], \n",
    "                             test[feature], \n",
    "                             target=train['time_to_install'], \n",
    "                             min_samples_leaf=100,\n",
    "                             smoothing=10,\n",
    "                             noise_level=0.01)\n",
    "    train[feature] = trn\n",
    "    test[feature] = tst\n",
    "    \n",
    "# encoding de los features categoricos\n",
    "for feature in train2.columns:\n",
    "    if (train2[feature].dtype in ['int64', 'float64', 'bool'] or feature == 'ref_hash'):\n",
    "        continue\n",
    "\n",
    "    trn2, tst2 = encoder.target_encode(train2[feature], \n",
    "                             test2[feature], \n",
    "                             target=train2['time_to_install'], \n",
    "                             min_samples_leaf=100,\n",
    "                             smoothing=10,\n",
    "                             noise_level=0.01)\n",
    "    train2[feature] = trn2\n",
    "    test2[feature] = tst2"
   ]
  },
  {
   "cell_type": "code",
   "execution_count": 10,
   "metadata": {},
   "outputs": [],
   "source": [
    "train.to_csv('test_and_train_installs/train_data_encoded.csv', index=False)\n",
    "test.to_csv('test_and_train_installs/test_data_encoded.csv', index=False)\n",
    "\n",
    "train2.to_csv('test_and_train_installs/train_data_encoded2.csv', index=False)\n",
    "test2.to_csv('test_and_train_installs/test_data_encoded2.csv', index=False)"
   ]
  },
  {
   "cell_type": "code",
   "execution_count": null,
   "metadata": {},
   "outputs": [],
   "source": []
  }
 ],
 "metadata": {
  "kernelspec": {
   "display_name": "Python 3",
   "language": "python",
   "name": "python3"
  },
  "language_info": {
   "codemirror_mode": {
    "name": "ipython",
    "version": 3
   },
   "file_extension": ".py",
   "mimetype": "text/x-python",
   "name": "python",
   "nbconvert_exporter": "python",
   "pygments_lexer": "ipython3",
   "version": "3.7.3"
  }
 },
 "nbformat": 4,
 "nbformat_minor": 2
}
