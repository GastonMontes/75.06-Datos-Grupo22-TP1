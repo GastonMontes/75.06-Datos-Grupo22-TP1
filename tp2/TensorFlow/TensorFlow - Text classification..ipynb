{
 "cells": [
  {
   "cell_type": "markdown",
   "metadata": {},
   "source": [
    "## This notebook classifies movie reviews as positive or negative using the text of the review. This is an example of binary—or two-class—classification, an important and widely applicable kind of machine learning problem.\n",
    "\n",
    "## We'll use the IMDB dataset that contains the text of 50,000 movie reviews from the Internet Movie Database. These are split into 25,000 reviews for training and 25,000 reviews for testing. The training and testing sets are balanced, meaning they contain an equal number of positive and negative reviews."
   ]
  },
  {
   "cell_type": "code",
   "execution_count": 1,
   "metadata": {},
   "outputs": [
    {
     "name": "stderr",
     "output_type": "stream",
     "text": [
      "/Users/gmontes/anaconda3/lib/python3.6/site-packages/h5py/__init__.py:36: FutureWarning: Conversion of the second argument of issubdtype from `float` to `np.floating` is deprecated. In future, it will be treated as `np.float64 == np.dtype(float).type`.\n",
      "  from ._conv import register_converters as _register_converters\n"
     ]
    },
    {
     "name": "stdout",
     "output_type": "stream",
     "text": [
      "1.13.1\n"
     ]
    }
   ],
   "source": [
    "from __future__ import absolute_import, division, print_function\n",
    "\n",
    "import tensorflow as tf\n",
    "from tensorflow import keras\n",
    "\n",
    "import numpy as np\n",
    "\n",
    "print(tf.__version__)"
   ]
  },
  {
   "cell_type": "code",
   "execution_count": 5,
   "metadata": {},
   "outputs": [
    {
     "name": "stdout",
     "output_type": "stream",
     "text": [
      "Downloading data from https://storage.googleapis.com/tensorflow/tf-keras-datasets/imdb.npz\n",
      "17465344/17464789 [==============================] - 35s 2us/step\n"
     ]
    }
   ],
   "source": [
    "# Download the IMDB dataset.\n",
    "imdb = keras.datasets.imdb\n",
    "(train_data, train_labels), (test_data, test_labels) = imdb.load_data(num_words=10000)"
   ]
  },
  {
   "cell_type": "code",
   "execution_count": 7,
   "metadata": {},
   "outputs": [
    {
     "name": "stdout",
     "output_type": "stream",
     "text": [
      "(25000,)\n",
      "(25000,)\n",
      "(25000,)\n",
      "(25000,)\n",
      "[1, 14, 22, 16, 43, 530, 973, 1622, 1385, 65, 458, 4468, 66, 3941, 4, 173, 36, 256, 5, 25, 100, 43, 838, 112, 50, 670, 2, 9, 35, 480, 284, 5, 150, 4, 172, 112, 167, 2, 336, 385, 39, 4, 172, 4536, 1111, 17, 546, 38, 13, 447, 4, 192, 50, 16, 6, 147, 2025, 19, 14, 22, 4, 1920, 4613, 469, 4, 22, 71, 87, 12, 16, 43, 530, 38, 76, 15, 13, 1247, 4, 22, 17, 515, 17, 12, 16, 626, 18, 2, 5, 62, 386, 12, 8, 316, 8, 106, 5, 4, 2223, 5244, 16, 480, 66, 3785, 33, 4, 130, 12, 16, 38, 619, 5, 25, 124, 51, 36, 135, 48, 25, 1415, 33, 6, 22, 12, 215, 28, 77, 52, 5, 14, 407, 16, 82, 2, 8, 4, 107, 117, 5952, 15, 256, 4, 2, 7, 3766, 5, 723, 36, 71, 43, 530, 476, 26, 400, 317, 46, 7, 4, 2, 1029, 13, 104, 88, 4, 381, 15, 297, 98, 32, 2071, 56, 26, 141, 6, 194, 7486, 18, 4, 226, 22, 21, 134, 476, 26, 480, 5, 144, 30, 5535, 18, 51, 36, 28, 224, 92, 25, 104, 4, 226, 65, 16, 38, 1334, 88, 12, 16, 283, 5, 16, 4472, 113, 103, 32, 15, 16, 5345, 19, 178, 32]\n",
      "1\n",
      "[1, 591, 202, 14, 31, 6, 717, 10, 10, 2, 2, 5, 4, 360, 7, 4, 177, 5760, 394, 354, 4, 123, 9, 1035, 1035, 1035, 10, 10, 13, 92, 124, 89, 488, 7944, 100, 28, 1668, 14, 31, 23, 27, 7479, 29, 220, 468, 8, 124, 14, 286, 170, 8, 157, 46, 5, 27, 239, 16, 179, 2, 38, 32, 25, 7944, 451, 202, 14, 6, 717]\n",
      "0\n"
     ]
    }
   ],
   "source": [
    "# Explore the data.\n",
    "# The dataset comes preprocessed: each example is an array of integers representing the words of the movie review.\n",
    "# Each label is an integer value of either 0 or 1, where 0 is a negative review, and 1 is a positive review.\n",
    "# train_data & test_data contains Reviews that are Array of integers.\n",
    "# train_labels & test_labels are ints: 1 is positive, 0 is negative.\n",
    "print(train_data.shape)\n",
    "print(train_labels.shape)\n",
    "print(test_data.shape)\n",
    "print(test_labels.shape)\n",
    "\n",
    "print(train_data[0])\n",
    "print(train_labels[0])\n",
    "print(test_data[0])\n",
    "print(test_labels[0])"
   ]
  },
  {
   "cell_type": "code",
   "execution_count": 13,
   "metadata": {},
   "outputs": [
    {
     "data": {
      "text/plain": [
       "\"<START> this film was just brilliant casting location scenery story direction everyone's really suited the part they played and you could just imagine being there robert <UNK> is an amazing actor and now the same being director <UNK> father came from the same scottish island as myself so i loved the fact there was a real connection with this film the witty remarks throughout the film were great it was just brilliant so much that i bought the film as soon as it was released for <UNK> and would recommend it to everyone to watch and the fly fishing was amazing really cried at the end it was so sad and you know what they say if you cry at a film it must have been good and this definitely was also <UNK> to the two little boy's that played the <UNK> of norman and paul they were just brilliant children are often left out of the <UNK> list i think because the stars that play them all grown up are such a big profile for the whole film but these children are amazing and should be praised for what they have done don't you think the whole story was so lovely because it was true and was someone's life after all that was shared with us all\""
      ]
     },
     "execution_count": 13,
     "metadata": {},
     "output_type": "execute_result"
    }
   ],
   "source": [
    "# Convert the integers back to words.\n",
    "# A dictionary mapping words to an integer index\n",
    "word_index = imdb.get_word_index()\n",
    "\n",
    "# The first indices are reserved\n",
    "word_index = {k:(v+3) for k,v in word_index.items()} \n",
    "word_index[\"<PAD>\"] = 0\n",
    "word_index[\"<START>\"] = 1\n",
    "word_index[\"<UNK>\"] = 2  # unknown\n",
    "word_index[\"<UNUSED>\"] = 3\n",
    "\n",
    "reverse_word_index = dict([(value, key) for (key, value) in word_index.items()])\n",
    "\n",
    "def decode_review(text):\n",
    "    return ' '.join([reverse_word_index.get(i, '?') for i in text])\n",
    "\n",
    "decode_review(train_data[0])"
   ]
  },
  {
   "cell_type": "code",
   "execution_count": 20,
   "metadata": {},
   "outputs": [
    {
     "name": "stdout",
     "output_type": "stream",
     "text": [
      "256 256\n",
      "[   1   14   22   16   43  530  973 1622 1385   65  458 4468   66 3941\n",
      "    4  173   36  256    5   25  100   43  838  112   50  670    2    9\n",
      "   35  480  284    5  150    4  172  112  167    2  336  385   39    4\n",
      "  172 4536 1111   17  546   38   13  447    4  192   50   16    6  147\n",
      " 2025   19   14   22    4 1920 4613  469    4   22   71   87   12   16\n",
      "   43  530   38   76   15   13 1247    4   22   17  515   17   12   16\n",
      "  626   18    2    5   62  386   12    8  316    8  106    5    4 2223\n",
      " 5244   16  480   66 3785   33    4  130   12   16   38  619    5   25\n",
      "  124   51   36  135   48   25 1415   33    6   22   12  215   28   77\n",
      "   52    5   14  407   16   82    2    8    4  107  117 5952   15  256\n",
      "    4    2    7 3766    5  723   36   71   43  530  476   26  400  317\n",
      "   46    7    4    2 1029   13  104   88    4  381   15  297   98   32\n",
      " 2071   56   26  141    6  194 7486   18    4  226   22   21  134  476\n",
      "   26  480    5  144   30 5535   18   51   36   28  224   92   25  104\n",
      "    4  226   65   16   38 1334   88   12   16  283    5   16 4472  113\n",
      "  103   32   15   16 5345   19  178   32    0    0    0    0    0    0\n",
      "    0    0    0    0    0    0    0    0    0    0    0    0    0    0\n",
      "    0    0    0    0    0    0    0    0    0    0    0    0    0    0\n",
      "    0    0    0    0]\n",
      "[   1  194 1153  194 8255   78  228    5    6 1463 4369 5012  134   26\n",
      "    4  715    8  118 1634   14  394   20   13  119  954  189  102    5\n",
      "  207  110 3103   21   14   69  188    8   30   23    7    4  249  126\n",
      "   93    4  114    9 2300 1523    5  647    4  116    9   35 8163    4\n",
      "  229    9  340 1322    4  118    9    4  130 4901   19    4 1002    5\n",
      "   89   29  952   46   37    4  455    9   45   43   38 1543 1905  398\n",
      "    4 1649   26 6853    5  163   11 3215    2    4 1153    9  194  775\n",
      "    7 8255    2  349 2637  148  605    2 8003   15  123  125   68    2\n",
      " 6853   15  349  165 4362   98    5    4  228    9   43    2 1157   15\n",
      "  299  120    5  120  174   11  220  175  136   50    9 4373  228 8255\n",
      "    5    2  656  245 2350    5    4 9837  131  152  491   18    2   32\n",
      " 7464 1212   14    9    6  371   78   22  625   64 1382    9    8  168\n",
      "  145   23    4 1690   15   16    4 1355    5   28    6   52  154  462\n",
      "   33   89   78  285   16  145   95    0    0    0    0    0    0    0\n",
      "    0    0    0    0    0    0    0    0    0    0    0    0    0    0\n",
      "    0    0    0    0    0    0    0    0    0    0    0    0    0    0\n",
      "    0    0    0    0    0    0    0    0    0    0    0    0    0    0\n",
      "    0    0    0    0    0    0    0    0    0    0    0    0    0    0\n",
      "    0    0    0    0]\n"
     ]
    }
   ],
   "source": [
    "# Prepare the data.\n",
    "# The reviews—the arrays of integers—must be converted to tensors before fed into the neural network.\n",
    "# Since the movie reviews must be the same length, we will use the pad_sequences function to standardize the lengths.\n",
    "train_data = keras.preprocessing.sequence.pad_sequences(train_data,\n",
    "                                                        value=word_index[\"<PAD>\"],\n",
    "                                                        padding='post',\n",
    "                                                        maxlen=256)\n",
    "\n",
    "test_data = keras.preprocessing.sequence.pad_sequences(test_data,\n",
    "                                                       value=word_index[\"<PAD>\"],\n",
    "                                                       padding='post',\n",
    "                                                       maxlen=256)\n",
    "\n",
    "print(len(train_data[0]), len(train_data[1]))\n",
    "print(train_data[0])\n",
    "print(train_data[1])"
   ]
  },
  {
   "cell_type": "code",
   "execution_count": 26,
   "metadata": {},
   "outputs": [
    {
     "name": "stdout",
     "output_type": "stream",
     "text": [
      "_________________________________________________________________\n",
      "Layer (type)                 Output Shape              Param #   \n",
      "=================================================================\n",
      "embedding_3 (Embedding)      (None, None, 16)          160000    \n",
      "_________________________________________________________________\n",
      "global_average_pooling1d_3 ( (None, 16)                0         \n",
      "_________________________________________________________________\n",
      "dense_6 (Dense)              (None, 16)                272       \n",
      "_________________________________________________________________\n",
      "dense_7 (Dense)              (None, 1)                 17        \n",
      "=================================================================\n",
      "Total params: 160,289\n",
      "Trainable params: 160,289\n",
      "Non-trainable params: 0\n",
      "_________________________________________________________________\n"
     ]
    }
   ],
   "source": [
    "# Build the model.\n",
    "\n",
    "# The neural network is created by stacking layers—this requires two main architectural decisions:\n",
    "# 1 -How many layers to use in the model?\n",
    "# 2 - How many hidden units to use for each layer?\n",
    "\n",
    "# Input shape is the vocabulary count used for the movie reviews (10,000 words)\n",
    "vocab_size = 10000\n",
    "\n",
    "model = keras.Sequential()\n",
    "\n",
    "# This layer takes the integer-encoded vocabulary and looks up the embedding vector for each word-index. \n",
    "# These vectors are learned as the model trains. \n",
    "# The vectors add a dimension to the output array. \n",
    "# The resulting dimensions are: (batch, sequence, embedding).\n",
    "model.add(keras.layers.Embedding(vocab_size, 16))\n",
    "\n",
    "# Returns a fixed-length output vector for each example by averaging over the sequence dimension.\n",
    "# This allows the model to handle input of variable length, in the simplest way possible.\n",
    "model.add(keras.layers.GlobalAveragePooling1D())\n",
    "\n",
    "# This fixed-length output vector is piped through a fully-connected (Dense) layer with 16 hidden units.\n",
    "model.add(keras.layers.Dense(16, activation=tf.nn.relu))\n",
    "\n",
    "# The last layer is densely connected with a single output node. \n",
    "# Using the sigmoid activation function, this value is a float between 0 and 1, representing a probability, or confidence level.\n",
    "model.add(keras.layers.Dense(1, activation=tf.nn.sigmoid))\n",
    "\n",
    "model.summary()"
   ]
  },
  {
   "cell_type": "code",
   "execution_count": 27,
   "metadata": {},
   "outputs": [],
   "source": [
    "# Configure the model to use an optimizer and a loss function:\n",
    "model.compile(optimizer='adam',\n",
    "              loss='binary_crossentropy',\n",
    "              metrics=['acc'])"
   ]
  },
  {
   "cell_type": "code",
   "execution_count": 42,
   "metadata": {},
   "outputs": [],
   "source": [
    "# Create a validation set.\n",
    "# Create a validation set by setting apart 10,000 examples from the original training data.\n",
    "x_val = train_data[:10000]\n",
    "partial_x_train = train_data[10000:]\n",
    "\n",
    "y_val = train_labels[:10000]\n",
    "partial_y_train = train_labels[10000:]"
   ]
  },
  {
   "cell_type": "code",
   "execution_count": 43,
   "metadata": {},
   "outputs": [
    {
     "name": "stdout",
     "output_type": "stream",
     "text": [
      "Train on 15000 samples, validate on 10000 samples\n",
      "WARNING:tensorflow:From /Users/gmontes/anaconda3/lib/python3.6/site-packages/tensorflow/python/ops/math_ops.py:3066: to_int32 (from tensorflow.python.ops.math_ops) is deprecated and will be removed in a future version.\n",
      "Instructions for updating:\n",
      "Use tf.cast instead.\n",
      "Epoch 1/40\n",
      "15000/15000 [==============================] - 3s 208us/sample - loss: 0.6918 - acc: 0.5195 - val_loss: 0.6899 - val_acc: 0.5351\n",
      "Epoch 2/40\n",
      "15000/15000 [==============================] - 2s 144us/sample - loss: 0.6856 - acc: 0.6113 - val_loss: 0.6813 - val_acc: 0.6307\n",
      "Epoch 3/40\n",
      "15000/15000 [==============================] - 2s 143us/sample - loss: 0.6717 - acc: 0.7000 - val_loss: 0.6640 - val_acc: 0.7228\n",
      "Epoch 4/40\n",
      "15000/15000 [==============================] - 2s 145us/sample - loss: 0.6478 - acc: 0.7346 - val_loss: 0.6371 - val_acc: 0.7586\n",
      "Epoch 5/40\n",
      "15000/15000 [==============================] - 2s 145us/sample - loss: 0.6133 - acc: 0.7787 - val_loss: 0.6017 - val_acc: 0.7834\n",
      "Epoch 6/40\n",
      "15000/15000 [==============================] - 2s 145us/sample - loss: 0.5704 - acc: 0.8125 - val_loss: 0.5609 - val_acc: 0.7983\n",
      "Epoch 7/40\n",
      "15000/15000 [==============================] - 2s 145us/sample - loss: 0.5229 - acc: 0.8303 - val_loss: 0.5161 - val_acc: 0.8262\n",
      "Epoch 8/40\n",
      "15000/15000 [==============================] - 2s 144us/sample - loss: 0.4755 - acc: 0.8509 - val_loss: 0.4752 - val_acc: 0.8370\n",
      "Epoch 9/40\n",
      "15000/15000 [==============================] - 2s 152us/sample - loss: 0.4315 - acc: 0.8662 - val_loss: 0.4384 - val_acc: 0.8462\n",
      "Epoch 10/40\n",
      "15000/15000 [==============================] - 2s 154us/sample - loss: 0.3926 - acc: 0.8771 - val_loss: 0.4081 - val_acc: 0.8537\n",
      "Epoch 11/40\n",
      "15000/15000 [==============================] - 2s 151us/sample - loss: 0.3594 - acc: 0.8850 - val_loss: 0.3829 - val_acc: 0.8625\n",
      "Epoch 12/40\n",
      "15000/15000 [==============================] - 2s 150us/sample - loss: 0.3314 - acc: 0.8927 - val_loss: 0.3637 - val_acc: 0.8643\n",
      "Epoch 13/40\n",
      "15000/15000 [==============================] - 2s 156us/sample - loss: 0.3083 - acc: 0.8992 - val_loss: 0.3469 - val_acc: 0.8709\n",
      "Epoch 14/40\n",
      "15000/15000 [==============================] - 2s 154us/sample - loss: 0.2878 - acc: 0.9047 - val_loss: 0.3345 - val_acc: 0.8738\n",
      "Epoch 15/40\n",
      "15000/15000 [==============================] - 2s 150us/sample - loss: 0.2705 - acc: 0.9096 - val_loss: 0.3239 - val_acc: 0.8764\n",
      "Epoch 16/40\n",
      "15000/15000 [==============================] - 2s 150us/sample - loss: 0.2551 - acc: 0.9145 - val_loss: 0.3157 - val_acc: 0.8769\n",
      "Epoch 17/40\n",
      "15000/15000 [==============================] - 2s 152us/sample - loss: 0.2408 - acc: 0.9198 - val_loss: 0.3087 - val_acc: 0.8801\n",
      "Epoch 18/40\n",
      "15000/15000 [==============================] - 2s 151us/sample - loss: 0.2282 - acc: 0.9236 - val_loss: 0.3028 - val_acc: 0.8822\n",
      "Epoch 19/40\n",
      "15000/15000 [==============================] - 2s 153us/sample - loss: 0.2168 - acc: 0.9256 - val_loss: 0.2981 - val_acc: 0.8826\n",
      "Epoch 20/40\n",
      "15000/15000 [==============================] - 2s 151us/sample - loss: 0.2066 - acc: 0.9300 - val_loss: 0.2948 - val_acc: 0.8831\n",
      "Epoch 21/40\n",
      "15000/15000 [==============================] - 2s 152us/sample - loss: 0.1961 - acc: 0.9348 - val_loss: 0.2921 - val_acc: 0.8829\n",
      "Epoch 22/40\n",
      "15000/15000 [==============================] - 2s 157us/sample - loss: 0.1874 - acc: 0.9379 - val_loss: 0.2895 - val_acc: 0.8842\n",
      "Epoch 23/40\n",
      "15000/15000 [==============================] - 2s 156us/sample - loss: 0.1787 - acc: 0.9429 - val_loss: 0.2887 - val_acc: 0.8837\n",
      "Epoch 24/40\n",
      "15000/15000 [==============================] - 2s 159us/sample - loss: 0.1711 - acc: 0.9453 - val_loss: 0.2880 - val_acc: 0.8842\n",
      "Epoch 25/40\n",
      "15000/15000 [==============================] - 2s 151us/sample - loss: 0.1634 - acc: 0.9491 - val_loss: 0.2863 - val_acc: 0.8854\n",
      "Epoch 26/40\n",
      "15000/15000 [==============================] - 2s 154us/sample - loss: 0.1564 - acc: 0.9513 - val_loss: 0.2875 - val_acc: 0.8840\n",
      "Epoch 27/40\n",
      "15000/15000 [==============================] - 2s 152us/sample - loss: 0.1500 - acc: 0.9539 - val_loss: 0.2871 - val_acc: 0.8854\n",
      "Epoch 28/40\n",
      "15000/15000 [==============================] - 2s 151us/sample - loss: 0.1437 - acc: 0.9567 - val_loss: 0.2885 - val_acc: 0.8863\n",
      "Epoch 29/40\n",
      "15000/15000 [==============================] - 2s 151us/sample - loss: 0.1382 - acc: 0.9594 - val_loss: 0.2895 - val_acc: 0.8837\n",
      "Epoch 30/40\n",
      "15000/15000 [==============================] - 2s 151us/sample - loss: 0.1324 - acc: 0.9615 - val_loss: 0.2897 - val_acc: 0.8861\n",
      "Epoch 31/40\n",
      "15000/15000 [==============================] - 2s 153us/sample - loss: 0.1266 - acc: 0.9633 - val_loss: 0.2909 - val_acc: 0.8862\n",
      "Epoch 32/40\n",
      "15000/15000 [==============================] - 2s 151us/sample - loss: 0.1215 - acc: 0.9663 - val_loss: 0.2928 - val_acc: 0.8855\n",
      "Epoch 33/40\n",
      "15000/15000 [==============================] - 2s 151us/sample - loss: 0.1165 - acc: 0.9680 - val_loss: 0.2954 - val_acc: 0.8853\n",
      "Epoch 34/40\n",
      "15000/15000 [==============================] - 2s 158us/sample - loss: 0.1120 - acc: 0.9691 - val_loss: 0.2982 - val_acc: 0.8843\n",
      "Epoch 35/40\n",
      "15000/15000 [==============================] - 2s 156us/sample - loss: 0.1078 - acc: 0.9701 - val_loss: 0.3005 - val_acc: 0.8848\n",
      "Epoch 36/40\n",
      "15000/15000 [==============================] - 2s 156us/sample - loss: 0.1035 - acc: 0.9721 - val_loss: 0.3026 - val_acc: 0.8839\n",
      "Epoch 37/40\n",
      "15000/15000 [==============================] - 2s 156us/sample - loss: 0.0991 - acc: 0.9737 - val_loss: 0.3057 - val_acc: 0.8833\n",
      "Epoch 38/40\n",
      "15000/15000 [==============================] - 2s 159us/sample - loss: 0.0952 - acc: 0.9755 - val_loss: 0.3097 - val_acc: 0.8831\n",
      "Epoch 39/40\n",
      "15000/15000 [==============================] - 2s 166us/sample - loss: 0.0921 - acc: 0.9763 - val_loss: 0.3141 - val_acc: 0.8812\n",
      "Epoch 40/40\n",
      "15000/15000 [==============================] - 2s 162us/sample - loss: 0.0879 - acc: 0.9783 - val_loss: 0.3172 - val_acc: 0.8814\n"
     ]
    }
   ],
   "source": [
    "# Train the model.\n",
    "# Train the model for 40 epochs in mini-batches of 512 samples. \n",
    "# This is 40 iterations over all samples in the x_train and y_train tensors\n",
    "history = model.fit(partial_x_train,\n",
    "                    partial_y_train,\n",
    "                    epochs=40,\n",
    "                    batch_size=512,\n",
    "                    validation_data=(x_val, y_val),\n",
    "                    verbose=1)"
   ]
  },
  {
   "cell_type": "code",
   "execution_count": 44,
   "metadata": {},
   "outputs": [
    {
     "name": "stdout",
     "output_type": "stream",
     "text": [
      "25000/25000 [==============================] - 1s 25us/sample - loss: 0.3387 - acc: 0.8704\n",
      "[0.33866845923423766, 0.87044]\n"
     ]
    }
   ],
   "source": [
    "# Evaluate the model.\n",
    "results = model.evaluate(test_data, test_labels)\n",
    "\n",
    "print(results)"
   ]
  },
  {
   "cell_type": "code",
   "execution_count": 45,
   "metadata": {},
   "outputs": [
    {
     "data": {
      "text/plain": [
       "dict_keys(['loss', 'acc', 'val_loss', 'val_acc'])"
      ]
     },
     "execution_count": 45,
     "metadata": {},
     "output_type": "execute_result"
    }
   ],
   "source": [
    "# Create a graph of accuracy and loss over time.\n",
    "# model.fit() returns a History object that contains a dictionary with everything that happened during training.\n",
    "history_dict = history.history\n",
    "history_dict.keys()"
   ]
  },
  {
   "cell_type": "code",
   "execution_count": 47,
   "metadata": {},
   "outputs": [
    {
     "data": {
      "image/png": "[encoded data removed]",
      "text/plain": [
       "<Figure size 432x288 with 1 Axes>"
      ]
     },
     "metadata": {},
     "output_type": "display_data"
    }
   ],
   "source": [
    "import matplotlib.pyplot as plt\n",
    "\n",
    "acc = history_dict['acc']\n",
    "val_acc = history_dict['val_acc']\n",
    "loss = history_dict['loss']\n",
    "val_loss = history_dict['val_loss']\n",
    "\n",
    "epochs = range(1, len(acc) + 1)\n",
    "\n",
    "# \"bo\" is for \"blue dot\"\n",
    "plt.plot(epochs, loss, 'bo', label='Training loss')\n",
    "# b is for \"solid blue line\"\n",
    "plt.plot(epochs, val_loss, 'b', label='Validation loss')\n",
    "plt.title('Training and validation loss')\n",
    "plt.xlabel('Epochs')\n",
    "plt.ylabel('Loss')\n",
    "plt.legend()\n",
    "\n",
    "plt.show()"
   ]
  },
  {
   "cell_type": "code",
   "execution_count": 48,
   "metadata": {},
   "outputs": [
    {
     "data": {
      "image/png": "[encoded data removed]",
      "text/plain": [
       "<Figure size 432x288 with 1 Axes>"
      ]
     },
     "metadata": {},
     "output_type": "display_data"
    }
   ],
   "source": [
    "plt.clf()   # clear figure\n",
    "\n",
    "plt.plot(epochs, acc, 'bo', label='Training acc')\n",
    "plt.plot(epochs, val_acc, 'b', label='Validation acc')\n",
    "plt.title('Training and validation accuracy')\n",
    "plt.xlabel('Epochs')\n",
    "plt.ylabel('Accuracy')\n",
    "plt.legend()\n",
    "\n",
    "plt.show()"
   ]
  },
  {
   "cell_type": "markdown",
   "metadata": {},
   "source": [
    "### Notice the training loss decreases with each epoch and the training accuracy increases with each epoch.\n",
    "### This isn't the case for the validation loss and accuracy—they seem to peak after about twenty epochs. This is an example of overfitting: the model performs better on the training data than it does on data it has never seen before."
   ]
  },
  {
   "cell_type": "code",
   "execution_count": null,
   "metadata": {},
   "outputs": [],
   "source": []
  }
 ],
 "metadata": {
  "kernelspec": {
   "display_name": "Python 3",
   "language": "python",
   "name": "python3"
  },
  "language_info": {
   "codemirror_mode": {
    "name": "ipython",
    "version": 3
   },
   "file_extension": ".py",
   "mimetype": "text/x-python",
   "name": "python",
   "nbconvert_exporter": "python",
   "pygments_lexer": "ipython3",
   "version": "3.6.8"
  }
 },
 "nbformat": 4,
 "nbformat_minor": 2
}
