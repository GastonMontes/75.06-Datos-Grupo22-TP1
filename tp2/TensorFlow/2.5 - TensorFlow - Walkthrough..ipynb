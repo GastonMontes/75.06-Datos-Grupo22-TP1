{
 "cells": [
  {
   "cell_type": "markdown",
   "metadata": {},
   "source": [
    "# TensorFlow programming\n",
    "\n",
    "1 - Import and parse the data sets.\n",
    "\n",
    "2 - Select the type of model.\n",
    "\n",
    "3 - Train the model.\n",
    "\n",
    "4 - Evaluate the model's effectiveness.\n",
    "\n",
    "5 - Use the trained model to make predictions."
   ]
  },
  {
   "cell_type": "code",
   "execution_count": 1,
   "metadata": {},
   "outputs": [
    {
     "name": "stderr",
     "output_type": "stream",
     "text": [
      "/Users/gmontes/anaconda3/lib/python3.6/site-packages/h5py/__init__.py:36: FutureWarning: Conversion of the second argument of issubdtype from `float` to `np.floating` is deprecated. In future, it will be treated as `np.float64 == np.dtype(float).type`.\n",
      "  from ._conv import register_converters as _register_converters\n"
     ]
    },
    {
     "name": "stdout",
     "output_type": "stream",
     "text": [
      "TensorFlow version: 1.13.1\n",
      "Eager execution: True\n"
     ]
    }
   ],
   "source": [
    "# Setup program.\n",
    "# Configure imports and eager execution.\n",
    "from __future__ import absolute_import, division, print_function\n",
    "\n",
    "import os\n",
    "import matplotlib.pyplot as plt\n",
    "\n",
    "import tensorflow as tf\n",
    "\n",
    "tf.enable_eager_execution()\n",
    "\n",
    "print(\"TensorFlow version: {}\".format(tf.__version__))\n",
    "print(\"Eager execution: {}\".format(tf.executing_eagerly()))"
   ]
  },
  {
   "cell_type": "code",
   "execution_count": 2,
   "metadata": {},
   "outputs": [
    {
     "name": "stdout",
     "output_type": "stream",
     "text": [
      "Downloading data from https://storage.googleapis.com/download.tensorflow.org/data/iris_training.csv\n",
      "8192/2194 [================================================================================================================] - 0s 1us/step\n",
      "Local copy of the dataset file: /Users/gmontes/.keras/datasets/iris_training.csv\n"
     ]
    }
   ],
   "source": [
    "# Import and parse the training dataset.\n",
    "train_dataset_url = \"https://storage.googleapis.com/download.tensorflow.org/data/iris_training.csv\"\n",
    "\n",
    "train_dataset_fp = tf.keras.utils.get_file(fname=os.path.basename(train_dataset_url),\n",
    "                                           origin=train_dataset_url)\n",
    "\n",
    "print(\"Local copy of the dataset file: {}\".format(train_dataset_fp))"
   ]
  },
  {
   "cell_type": "code",
   "execution_count": 3,
   "metadata": {},
   "outputs": [
    {
     "name": "stdout",
     "output_type": "stream",
     "text": [
      "120,4,setosa,versicolor,virginica\r\n",
      "6.4,2.8,5.6,2.2,2\r\n",
      "5.0,2.3,3.3,1.0,1\r\n",
      "4.9,2.5,4.5,1.7,2\r\n",
      "4.9,3.1,1.5,0.1,0\r\n"
     ]
    }
   ],
   "source": [
    "!head -n5 {train_dataset_fp}"
   ]
  },
  {
   "cell_type": "code",
   "execution_count": 15,
   "metadata": {},
   "outputs": [
    {
     "name": "stdout",
     "output_type": "stream",
     "text": [
      "Features: ['sepal_length', 'sepal_width', 'petal_length', 'petal_width']\n",
      "Label: species\n"
     ]
    }
   ],
   "source": [
    "# column order in CSV file\n",
    "column_names = ['sepal_length', 'sepal_width', 'petal_length', 'petal_width', 'species']\n",
    "class_names = ['Iris setosa', 'Iris versicolor', 'Iris virginica']\n",
    "\n",
    "feature_names = column_names[:-1]\n",
    "label_name = column_names[-1]\n",
    "\n",
    "print(\"Features: {}\".format(feature_names))\n",
    "print(\"Label: {}\".format(label_name))"
   ]
  },
  {
   "cell_type": "code",
   "execution_count": 38,
   "metadata": {},
   "outputs": [],
   "source": [
    "# Create a tf.data.Dataset.\n",
    "# TensorFlow's Dataset API handles many common cases for loading data into a model. \n",
    "# This is a high-level API for reading data and transforming it into a form used for training.\n",
    "# Since the dataset is a CSV-formatted text file, \n",
    "# use the make_csv_dataset function to parse the data into a suitable format.\n",
    "batch_size = 32\n",
    "\n",
    "train_dataset = tf.contrib.data.make_csv_dataset(\n",
    "    train_dataset_fp,\n",
    "    batch_size, \n",
    "    column_names=column_names,\n",
    "    label_name=label_name,\n",
    "    num_epochs=1)"
   ]
  },
  {
   "cell_type": "code",
   "execution_count": 39,
   "metadata": {},
   "outputs": [
    {
     "name": "stdout",
     "output_type": "stream",
     "text": [
      "OrderedDict([('sepal_length', <tf.Tensor: id=266, shape=(32,), dtype=float32, numpy=\n",
      "array([5. , 5. , 7.2, 5.1, 5.5, 5.2, 5.4, 6.9, 7. , 6.4, 4.9, 5.7, 5.5,\n",
      "       6.1, 4.8, 5. , 5.8, 5.1, 4.8, 5.8, 6.1, 6.7, 6.8, 4.7, 5.6, 6.7,\n",
      "       6. , 6.5, 5.1, 6.8, 6.1, 6.8], dtype=float32)>), ('sepal_width', <tf.Tensor: id=267, shape=(32,), dtype=float32, numpy=\n",
      "array([3.6, 3.2, 3.2, 3.5, 2.4, 3.5, 3.4, 3.1, 3.2, 2.8, 3.1, 4.4, 2.4,\n",
      "       2.8, 3. , 3.5, 4. , 2.5, 3.1, 2.7, 3. , 3.1, 3.2, 3.2, 2.7, 3.1,\n",
      "       2.9, 3.2, 3.8, 3. , 2.6, 2.8], dtype=float32)>), ('petal_length', <tf.Tensor: id=264, shape=(32,), dtype=float32, numpy=\n",
      "array([1.4, 1.2, 6. , 1.4, 3.8, 1.5, 1.5, 5.1, 4.7, 5.6, 1.5, 1.5, 3.7,\n",
      "       4.7, 1.4, 1.6, 1.2, 3. , 1.6, 4.1, 4.9, 5.6, 5.9, 1.6, 4.2, 4.4,\n",
      "       4.5, 5.1, 1.6, 5.5, 5.6, 4.8], dtype=float32)>), ('petal_width', <tf.Tensor: id=265, shape=(32,), dtype=float32, numpy=\n",
      "array([0.2, 0.2, 1.8, 0.3, 1.1, 0.2, 0.4, 2.3, 1.4, 2.1, 0.1, 0.4, 1. ,\n",
      "       1.2, 0.1, 0.6, 0.2, 1.1, 0.2, 1. , 1.8, 2.4, 2.3, 0.2, 1.3, 1.4,\n",
      "       1.5, 2. , 0.2, 2.1, 1.4, 1.4], dtype=float32)>)])\n",
      "tf.Tensor([0 0 2 0 1 0 0 2 1 2 0 0 1 1 0 0 0 1 0 1 2 2 2 0 1 1 1 2 0 2 2 1], shape=(32,), dtype=int32)\n"
     ]
    }
   ],
   "source": [
    "# The make_csv_dataset function returns a tf.data.Dataset of (features, label) pairs, \n",
    "# where features is a dictionary: {'feature_name': value}\n",
    "features, labels = next(iter(train_dataset))\n",
    "\n",
    "print(features)\n",
    "print(labels)"
   ]
  },
  {
   "cell_type": "code",
   "execution_count": 40,
   "metadata": {},
   "outputs": [
    {
     "data": {
      "image/png": "[encoded data removed]",
      "text/plain": [
       "<Figure size 432x288 with 1 Axes>"
      ]
     },
     "metadata": {},
     "output_type": "display_data"
    }
   ],
   "source": [
    "plt.scatter(features['petal_length'].numpy(),\n",
    "            features['sepal_length'].numpy(),\n",
    "            c=labels.numpy(),\n",
    "            cmap='viridis')\n",
    "\n",
    "plt.xlabel(\"Petal length\")\n",
    "plt.ylabel(\"Sepal length\");"
   ]
  },
  {
   "cell_type": "code",
   "execution_count": 43,
   "metadata": {},
   "outputs": [
    {
     "name": "stdout",
     "output_type": "stream",
     "text": [
      "<DatasetV1Adapter shapes: ((?, 4), (?,)), types: (tf.float32, tf.int32)>\n"
     ]
    }
   ],
   "source": [
    "# To simplify the model building step, create a function to repackage the features dictionary into a single array \n",
    "# with shape: (batch_size, num_features).\n",
    "# This function uses the tf.stack method which takes values from a list of tensors and creates a combined tensor \n",
    "# at the specified dimension.\n",
    "def pack_features_vector(features, labels):\n",
    "  \"\"\"Pack the features into a single array.\"\"\"\n",
    "  features = tf.stack(list(features.values()), axis=1)\n",
    "  return features, labels\n",
    "\n",
    "train_dataset = train_dataset.map(pack_features_vector)\n",
    "print(train_dataset)"
   ]
  },
  {
   "cell_type": "code",
   "execution_count": 46,
   "metadata": {},
   "outputs": [
    {
     "name": "stdout",
     "output_type": "stream",
     "text": [
      "tf.Tensor(\n",
      "[[7.2 3.6 6.1 2.5]\n",
      " [6.  2.2 5.  1.5]\n",
      " [5.  3.6 1.4 0.2]\n",
      " [6.1 2.8 4.  1.3]\n",
      " [6.9 3.1 5.1 2.3]\n",
      " [6.  3.  4.8 1.8]\n",
      " [5.1 3.8 1.5 0.3]\n",
      " [5.6 2.7 4.2 1.3]\n",
      " [7.7 2.6 6.9 2.3]\n",
      " [4.9 2.4 3.3 1. ]\n",
      " [5.2 3.5 1.5 0.2]\n",
      " [6.1 2.6 5.6 1.4]\n",
      " [5.  3.5 1.3 0.3]\n",
      " [5.7 3.8 1.7 0.3]\n",
      " [6.3 2.7 4.9 1.8]\n",
      " [6.5 3.  5.2 2. ]\n",
      " [6.1 2.9 4.7 1.4]\n",
      " [4.5 2.3 1.3 0.3]\n",
      " [5.1 2.5 3.  1.1]\n",
      " [5.6 2.5 3.9 1.1]\n",
      " [6.3 3.4 5.6 2.4]\n",
      " [6.5 3.  5.5 1.8]\n",
      " [5.2 2.7 3.9 1.4]\n",
      " [4.6 3.4 1.4 0.3]\n",
      " [6.8 3.2 5.9 2.3]\n",
      " [5.5 3.5 1.3 0.2]\n",
      " [6.8 2.8 4.8 1.4]\n",
      " [6.4 3.2 5.3 2.3]\n",
      " [7.7 3.  6.1 2.3]\n",
      " [6.8 3.  5.5 2.1]\n",
      " [5.  2.3 3.3 1. ]\n",
      " [7.4 2.8 6.1 1.9]], shape=(32, 4), dtype=float32)\n",
      "tf.Tensor([2 2 0 1 2 2 0 1 2 1 0 2 0 0 2 2 1 0 1 1 2 2 1 0 2 0 1 2 2 2 1 2], shape=(32,), dtype=int32)\n"
     ]
    }
   ],
   "source": [
    "features, labels = next(iter(train_dataset))\n",
    "\n",
    "print(features)\n",
    "print(labels)"
   ]
  },
  {
   "cell_type": "markdown",
   "metadata": {},
   "source": [
    "# Select the type of model\n",
    "## Why model?\n",
    "A model is a relationship between features and the label. For the Iris classification problem, the model defines the relationship between the sepal and petal measurements and the predicted Iris species. Some simple models can be described with a few lines of algebra, but complex machine learning models have a large number of parameters that are difficult to summarize.\n",
    "\n",
    "Could you determine the relationship between the four features and the Iris species without using machine learning? That is, could you use traditional programming techniques (for example, a lot of conditional statements) to create a model? Perhaps—if you analyzed the dataset long enough to determine the relationships between petal and sepal measurements to a particular species. And this becomes difficult—maybe impossible—on more complicated datasets. A good machine learning approach determines the model for you. If you feed enough representative examples into the right machine learning model type, the program will figure out the relationships for you.\n",
    "\n",
    "## Select the model\n",
    "We need to select the kind of model to train. There are many types of models and picking a good one takes experience. This tutorial uses a neural network to solve the Iris classification problem. Neural networks can find complex relationships between features and the label. It is a highly-structured graph, organized into one or more hidden layers. Each hidden layer consists of one or more neurons. There are several categories of neural networks and this program uses a dense, or fully-connected neural network: the neurons in one layer receive input connections from every neuron in the previous layer.\n",
    "\n",
    "When the model is trained and fed an unlabeled example, it yields three predictions: the likelihood that this flower is the given Iris species. This prediction is called inference. For this example, the sum of the output predictions is 1.0. For example, this prediction breaks down as: 0.02 for Iris setosa, 0.95 for Iris versicolor, and 0.03 for Iris virginica. This means that the model predicts—with 95% probability—that an unlabeled example flower is an Iris versicolor."
   ]
  },
  {
   "cell_type": "markdown",
   "metadata": {},
   "source": [
    "## Create a model using Keras\n",
    "The TensorFlow tf.keras API is the preferred way to create models and layers. This makes it easy to build models and experiment while Keras handles the complexity of connecting everything together.\n",
    "\n",
    "The tf.keras.Sequential model is a linear stack of layers. Its constructor takes a list of layer instances, in this case, two Dense layers with 10 nodes each, and an output layer with 3 nodes representing our label predictions. The first layer's input_shape parameter corresponds to the number of features from the dataset, and is required.\n",
    "\n",
    "The activation function determines the output shape of each node in the layer. These non-linearities are important—without them the model would be equivalent to a single layer. There are many available activations, but ReLU is common for hidden layers.\n",
    "\n",
    "The ideal number of hidden layers and neurons depends on the problem and the dataset. Like many aspects of machine learning, picking the best shape of the neural network requires a mixture of knowledge and experimentation. As a rule of thumb, increasing the number of hidden layers and neurons typically creates a more powerful model, which requires more data to train effectively."
   ]
  },
  {
   "cell_type": "code",
   "execution_count": 47,
   "metadata": {},
   "outputs": [],
   "source": [
    "model = tf.keras.Sequential([\n",
    "  tf.keras.layers.Dense(10, activation=tf.nn.relu, input_shape=(4,)),  # input shape required\n",
    "  tf.keras.layers.Dense(10, activation=tf.nn.relu),\n",
    "  tf.keras.layers.Dense(3)\n",
    "])"
   ]
  },
  {
   "cell_type": "code",
   "execution_count": 50,
   "metadata": {},
   "outputs": [
    {
     "data": {
      "text/plain": [
       "<tf.Tensor: id=482, shape=(32, 3), dtype=float32, numpy=\n",
       "array([[-1.4416859 , -2.044991  ,  1.0372732 ],\n",
       "       [-1.3595704 , -1.6776752 ,  0.73761714],\n",
       "       [-1.3015676 , -0.32616663,  3.1641715 ],\n",
       "       [-1.1911752 , -1.5587854 ,  1.758124  ],\n",
       "       [-1.2413006 , -1.8233051 ,  1.3043635 ],\n",
       "       [-1.1706245 , -1.7053742 ,  1.1812054 ],\n",
       "       [-1.3103719 , -0.35979134,  3.22574   ],\n",
       "       [-1.0887841 , -1.5950506 ,  1.4064974 ],\n",
       "       [-1.8392072 , -2.138848  ,  0.3293867 ],\n",
       "       [-0.97572637, -1.2848164 ,  1.4615641 ],\n",
       "       [-1.3021872 , -0.35884306,  3.214838  ],\n",
       "       [-1.4948616 , -1.8435445 ,  0.69951063],\n",
       "       [-1.2740524 , -0.27812254,  3.0852008 ],\n",
       "       [-1.3870919 , -0.4140973 ,  3.475328  ],\n",
       "       [-1.2575052 , -1.7273649 ,  1.1101098 ],\n",
       "       [-1.2889876 , -1.8087282 ,  1.1094296 ],\n",
       "       [-1.2257551 , -1.7525458 ,  1.4377923 ],\n",
       "       [-1.0105879 , -0.31968778,  2.410997  ],\n",
       "       [-1.0155389 , -1.1698792 ,  1.6554921 ],\n",
       "       [-1.1036093 , -1.5250232 ,  1.5404884 ],\n",
       "       [-1.2691814 , -1.8270024 ,  0.7843078 ],\n",
       "       [-1.3978076 , -1.8810725 ,  1.0199783 ],\n",
       "       [-0.9596761 , -1.4769392 ,  1.3234768 ],\n",
       "       [-1.1594558 , -0.34374884,  2.887293  ],\n",
       "       [-1.4299197 , -1.935119  ,  0.8062576 ],\n",
       "       [-1.3982912 , -0.25511205,  3.3381107 ],\n",
       "       [-1.325422  , -1.8601482 ,  1.7048554 ],\n",
       "       [-1.237729  , -1.788842  ,  0.96028614],\n",
       "       [-1.5848367 , -2.074706  ,  1.0632954 ],\n",
       "       [-1.3787205 , -1.8822639 ,  1.0386341 ],\n",
       "       [-0.99192446, -1.2905813 ,  1.4623749 ],\n",
       "       [-1.6419168 , -2.0631225 ,  0.97735107]], dtype=float32)>"
      ]
     },
     "execution_count": 50,
     "metadata": {},
     "output_type": "execute_result"
    }
   ],
   "source": [
    "# Using the model.\n",
    "# Here, each example returns a logit (The vector of raw (non-normalized) predictions that a classification model \n",
    "# generates, which is ordinarily then passed to a normalization function.) for each class.\n",
    "predictions = model(features)\n",
    "predictions"
   ]
  },
  {
   "cell_type": "code",
   "execution_count": 53,
   "metadata": {},
   "outputs": [
    {
     "data": {
      "text/plain": [
       "<tf.Tensor: id=491, shape=(32, 3), dtype=float32, numpy=\n",
       "array([[0.07420687, 0.04059121, 0.88520193],\n",
       "       [0.1013093 , 0.07370521, 0.82498544],\n",
       "       [0.01103296, 0.02926195, 0.9597052 ],\n",
       "       [0.04811171, 0.03331193, 0.9185763 ],\n",
       "       [0.06987891, 0.03904673, 0.89107436],\n",
       "       [0.08270893, 0.04845222, 0.86883885],\n",
       "       [0.01031838, 0.02669583, 0.9629858 ],\n",
       "       [0.07284442, 0.04390638, 0.8832492 ],\n",
       "       [0.09535559, 0.07066654, 0.8339779 ],\n",
       "       [0.07589494, 0.05571559, 0.86838955],\n",
       "       [0.01051178, 0.0270001 , 0.9624882 ],\n",
       "       [0.09363312, 0.06606911, 0.8402978 ],\n",
       "       [0.01220913, 0.03305304, 0.9547378 ],\n",
       "       [0.00751978, 0.01989625, 0.972584  ],\n",
       "       [0.08132065, 0.05083271, 0.8678466 ],\n",
       "       [0.07936244, 0.04719484, 0.87344265],\n",
       "       [0.06274474, 0.03705058, 0.9002047 ],\n",
       "       [0.02975003, 0.05936651, 0.9108834 ],\n",
       "       [0.06130514, 0.0525373 , 0.8861575 ],\n",
       "       [0.06358548, 0.0417196 , 0.894695  ],\n",
       "       [0.10675199, 0.06111071, 0.8321373 ],\n",
       "       [0.07789525, 0.04804317, 0.8740615 ],\n",
       "       [0.08769082, 0.05227687, 0.8600323 ],\n",
       "       [0.0165366 , 0.0373855 , 0.94607794],\n",
       "       [0.09123356, 0.055049  , 0.85371745],\n",
       "       [0.00846311, 0.02654644, 0.96499044],\n",
       "       [0.04486557, 0.02628358, 0.9288508 ],\n",
       "       [0.09448736, 0.05445383, 0.85105884],\n",
       "       [0.06353107, 0.0389259 , 0.8975431 ],\n",
       "       [0.07799987, 0.04714197, 0.87485814],\n",
       "       [0.07473791, 0.05544161, 0.8698205 ],\n",
       "       [0.06501137, 0.04266404, 0.8923246 ]], dtype=float32)>"
      ]
     },
     "execution_count": 53,
     "metadata": {},
     "output_type": "execute_result"
    }
   ],
   "source": [
    "# Normalize.\n",
    "tf.nn.softmax(predictions)"
   ]
  },
  {
   "cell_type": "code",
   "execution_count": 54,
   "metadata": {},
   "outputs": [
    {
     "name": "stdout",
     "output_type": "stream",
     "text": [
      "Prediction: [2 2 2 2 2 2 2 2 2 2 2 2 2 2 2 2 2 2 2 2 2 2 2 2 2 2 2 2 2 2 2 2]\n",
      "    Labels: [2 2 0 1 2 2 0 1 2 1 0 2 0 0 2 2 1 0 1 1 2 2 1 0 2 0 1 2 2 2 1 2]\n"
     ]
    }
   ],
   "source": [
    "# Taking the tf.argmax across classes gives us the predicted class index. \n",
    "# But, the model hasn't been trained yet, so these aren't good predictions.\n",
    "print(\"Prediction: {}\".format(tf.argmax(predictions, axis=1)))\n",
    "print(\"    Labels: {}\".format(labels))"
   ]
  },
  {
   "cell_type": "markdown",
   "metadata": {},
   "source": [
    "# Train the model\n",
    "Training is the stage of machine learning when the model is gradually optimized, or the model learns the dataset. The goal is to learn enough about the structure of the training dataset to make predictions about unseen data. If you learn too much about the training dataset, then the predictions only work for the data it has seen and will not be generalizable. This problem is called overfitting—it's like memorizing the answers instead of understanding how to solve a problem.\n",
    "\n",
    "The Iris classification problem is an example of supervised machine learning: the model is trained from examples that contain labels. In unsupervised machine learning, the examples don't contain labels. Instead, the model typically finds patterns among the features.\n",
    "\n",
    "## Define the loss and gradient function\n",
    "Both training and evaluation stages need to calculate the model's loss. This measures how off a model's predictions are from the desired label, in other words, how bad the model is performing. We want to minimize, or optimize, this value.\n",
    "\n",
    "Our model will calculate its loss using the tf.keras.losses.categorical_crossentropy function which takes the model's class probability predictions and the desired label, and returns the average loss across the examples."
   ]
  },
  {
   "cell_type": "code",
   "execution_count": 56,
   "metadata": {},
   "outputs": [
    {
     "name": "stdout",
     "output_type": "stream",
     "text": [
      "Loss test: 2.0572876930236816\n"
     ]
    }
   ],
   "source": [
    "def loss(model, x, y):\n",
    "  y_ = model(x)\n",
    "  return tf.losses.sparse_softmax_cross_entropy(labels=y, logits=y_)\n",
    "\n",
    "\n",
    "l = loss(model, features, labels)\n",
    "print(\"Loss test: {}\".format(l))"
   ]
  },
  {
   "cell_type": "markdown",
   "metadata": {},
   "source": [
    "## Create an optimizer\n",
    "An optimizer applies the computed gradients to the model's variables to minimize the loss function. You can think of the loss function as a curved surface and we want to find its lowest point by walking around. The gradients point in the direction of steepest ascent—so we'll travel the opposite way and move down the hill. By iteratively calculating the loss and gradient for each batch, we'll adjust the model during training. Gradually, the model will find the best combination of weights and bias to minimize loss. And the lower the loss, the better the model's predictions.\n",
    "\n",
    "TensorFlow has many optimization algorithms available for training. This model uses the tf.train.GradientDescentOptimizer that implements the stochastic gradient descent (SGD) algorithm. The learning_rate sets the step size to take for each iteration down the hill. This is a hyperparameter that you'll commonly adjust to achieve better results."
   ]
  },
  {
   "cell_type": "code",
   "execution_count": 58,
   "metadata": {},
   "outputs": [],
   "source": [
    "# Use the tf.GradientTape context to calculate the gradients used to optimize our model.\n",
    "def grad(model, inputs, targets):\n",
    "  with tf.GradientTape() as tape:\n",
    "    loss_value = loss(model, inputs, targets)\n",
    "  return loss_value, tape.gradient(loss_value, model.trainable_variables)"
   ]
  },
  {
   "cell_type": "code",
   "execution_count": 61,
   "metadata": {},
   "outputs": [
    {
     "name": "stdout",
     "output_type": "stream",
     "text": [
      "<tensorflow.python.training.gradient_descent.GradientDescentOptimizer object at 0x1c412ca6a0>\n",
      "<tf.Variable 'Variable:0' shape=() dtype=int32, numpy=0>\n"
     ]
    }
   ],
   "source": [
    "# Let's setup the optimizer and the global_step counter.\n",
    "optimizer = tf.train.GradientDescentOptimizer(learning_rate=0.01)\n",
    "global_step = tf.Variable(0)\n",
    "print(optimizer)\n",
    "print(global_step)"
   ]
  },
  {
   "cell_type": "code",
   "execution_count": 72,
   "metadata": {},
   "outputs": [
    {
     "name": "stdout",
     "output_type": "stream",
     "text": [
      "Step: 12, Initial Loss: 1.3070377111434937\n",
      "Step: 13,         Loss: 1.2815725803375244\n",
      "Step: 14,         Loss: 1.2566887140274048\n"
     ]
    }
   ],
   "source": [
    "loss_value, grads = grad(model, features, labels)\n",
    "print(\"Step: {}, Initial Loss: {}\".format(global_step.numpy(),\n",
    "                                          loss_value.numpy()))\n",
    "\n",
    "optimizer.apply_gradients(zip(grads, model.trainable_variables), global_step)\n",
    "print(\"Step: {},         Loss: {}\".format(global_step.numpy(),\n",
    "                                          loss(model, features, labels).numpy()))\n",
    "\n",
    "optimizer.apply_gradients(zip(grads, model.trainable_variables), global_step)\n",
    "print(\"Step: {},         Loss: {}\".format(global_step.numpy(),\n",
    "                                          loss(model, features, labels).numpy()))"
   ]
  },
  {
   "cell_type": "markdown",
   "metadata": {},
   "source": [
    "## Training loop\n",
    "With all the pieces in place, the model is ready for training! A training loop feeds the dataset examples into the model to help it make better predictions. The following code block sets up these training steps:\n",
    "\n",
    "1 - Iterate each epoch. An epoch is one pass through the dataset.\n",
    "\n",
    "2 - Within an epoch, iterate over each example in the training Dataset grabbing its features (x) and label (y).\n",
    "\n",
    "3 - Using the example's features, make a prediction and compare it with the label. Measure the inaccuracy of the prediction and use that to calculate the model's loss and gradients.\n",
    "4 - Use an optimizer to update the model's variables.\n",
    "\n",
    "5 - Keep track of some stats for visualization.\n",
    "\n",
    "6 - Repeat for each epoch.\n",
    "\n",
    "The num_epochs variable is the number of times to loop over the dataset collection. Counter-intuitively, training a model longer does not guarantee a better model. num_epochs is a hyperparameter that you can tune. Choosing the right number usually requires both experience and experimentation.\n",
    "\n"
   ]
  },
  {
   "cell_type": "code",
   "execution_count": 74,
   "metadata": {},
   "outputs": [
    {
     "name": "stdout",
     "output_type": "stream",
     "text": [
      "Epoch 000: Loss: 0.140, Accuracy: 97.500%\n",
      "Epoch 050: Loss: 0.140, Accuracy: 97.500%\n",
      "Epoch 100: Loss: 0.108, Accuracy: 98.333%\n",
      "Epoch 150: Loss: 0.092, Accuracy: 98.333%\n",
      "Epoch 200: Loss: 0.083, Accuracy: 98.333%\n"
     ]
    }
   ],
   "source": [
    "## Note: Rerunning this cell uses the same model variables\n",
    "\n",
    "from tensorflow import contrib\n",
    "tfe = contrib.eager\n",
    "\n",
    "# keep results for plotting\n",
    "train_loss_results = []\n",
    "train_accuracy_results = []\n",
    "\n",
    "num_epochs = 201\n",
    "\n",
    "for epoch in range(num_epochs):\n",
    "  epoch_loss_avg = tfe.metrics.Mean()\n",
    "  epoch_accuracy = tfe.metrics.Accuracy()\n",
    "\n",
    "  # Training loop - using batches of 32\n",
    "  for x, y in train_dataset:\n",
    "    # Optimize the model\n",
    "    loss_value, grads = grad(model, x, y)\n",
    "    optimizer.apply_gradients(zip(grads, model.trainable_variables),\n",
    "                              global_step)\n",
    "\n",
    "    # Track progress\n",
    "    epoch_loss_avg(loss_value)  # add current batch loss\n",
    "    \n",
    "    # compare predicted label to actual label\n",
    "    epoch_accuracy(tf.argmax(model(x), axis=1, output_type=tf.int32), y)\n",
    "\n",
    "  # end epoch\n",
    "  train_loss_results.append(epoch_loss_avg.result())\n",
    "  train_accuracy_results.append(epoch_accuracy.result())\n",
    "  \n",
    "  if epoch % 50 == 0:\n",
    "    print(\"Epoch {:03d}: Loss: {:.3f}, Accuracy: {:.3%}\".format(epoch,\n",
    "                                                                epoch_loss_avg.result(),\n",
    "                                                                epoch_accuracy.result()))"
   ]
  },
  {
   "cell_type": "markdown",
   "metadata": {},
   "source": [
    "## Visualize the loss function over time\n",
    "While it's helpful to print out the model's training progress, it's often more helpful to see this progress. TensorBoard is a nice visualization tool that is packaged with TensorFlow, but we can create basic charts using the matplotlib module.\n",
    "\n",
    "Interpreting these charts takes some experience, but you really want to see the loss go down and the accuracy go up."
   ]
  },
  {
   "cell_type": "code",
   "execution_count": 77,
   "metadata": {},
   "outputs": [
    {
     "data": {
      "image/png": "[encoded data removed]",
      "text/plain": [
       "<Figure size 864x576 with 2 Axes>"
      ]
     },
     "metadata": {},
     "output_type": "display_data"
    }
   ],
   "source": [
    "fig, axes = plt.subplots(2, sharex=True, figsize=(12, 8))\n",
    "fig.suptitle('Training Metrics')\n",
    "\n",
    "axes[0].set_ylabel(\"Loss\", fontsize=14)\n",
    "axes[0].plot(train_loss_results)\n",
    "\n",
    "axes[1].set_ylabel(\"Accuracy\", fontsize=14)\n",
    "axes[1].set_xlabel(\"Epoch\", fontsize=14)\n",
    "axes[1].plot(train_accuracy_results);"
   ]
  },
  {
   "cell_type": "markdown",
   "metadata": {},
   "source": [
    "## Evaluate the model's effectiveness\n",
    "Now that the model is trained, we can get some statistics on its performance.\n",
    "\n",
    "Evaluating means determining how effectively the model makes predictions. To determine the model's effectiveness at Iris classification, pass some sepal and petal measurements to the model and ask the model to predict what Iris species they represent. Then compare the model's prediction against the actual label. For example, a model that picked the correct species on half the input examples has an accuracy of 0.5 (getting 4 out of 5 predictions correct at 80% accuracy).\n",
    "\n",
    "## Setup the test dataset\n",
    "Evaluating the model is similar to training the model. The biggest difference is the examples come from a separate test set rather than the training set. To fairly assess a model's effectiveness, the examples used to evaluate a model must be different from the examples used to train the model.\n",
    "\n",
    "The setup for the test Dataset is similar to the setup for training Dataset. Download the CSV text file and parse that values, then give it a little shuffle:"
   ]
  },
  {
   "cell_type": "code",
   "execution_count": 87,
   "metadata": {},
   "outputs": [],
   "source": [
    "test_url = \"https://storage.googleapis.com/download.tensorflow.org/data/iris_test.csv\"\n",
    "\n",
    "test_fp = tf.keras.utils.get_file(fname=os.path.basename(test_url),\n",
    "                                  origin=test_url)\n",
    "\n",
    "test_dataset = tf.contrib.data.make_csv_dataset(\n",
    "    test_fp,\n",
    "    batch_size, \n",
    "    column_names=column_names,\n",
    "    label_name='species',\n",
    "    num_epochs=1,\n",
    "    shuffle=False)\n",
    "\n",
    "test_dataset = test_dataset.map(pack_features_vector)"
   ]
  },
  {
   "cell_type": "markdown",
   "metadata": {},
   "source": [
    "## Evaluate the model on the test dataset\n",
    "Unlike the training stage, the model only evaluates a single epoch of the test data. In the following code cell, we iterate over each example in the test set and compare the model's prediction against the actual label. This is used to measure the model's accuracy across the entire test set."
   ]
  },
  {
   "cell_type": "code",
   "execution_count": 92,
   "metadata": {},
   "outputs": [
    {
     "name": "stdout",
     "output_type": "stream",
     "text": [
      "Test set accuracy: 96.667%\n"
     ]
    },
    {
     "data": {
      "text/plain": [
       "<tf.Tensor: id=218217, shape=(30, 2), dtype=int32, numpy=\n",
       "array([[1, 1],\n",
       "       [2, 2],\n",
       "       [0, 0],\n",
       "       [1, 1],\n",
       "       [1, 1],\n",
       "       [1, 1],\n",
       "       [0, 0],\n",
       "       [2, 2],\n",
       "       [1, 1],\n",
       "       [2, 2],\n",
       "       [2, 2],\n",
       "       [0, 0],\n",
       "       [2, 2],\n",
       "       [1, 1],\n",
       "       [1, 1],\n",
       "       [0, 0],\n",
       "       [1, 1],\n",
       "       [0, 0],\n",
       "       [0, 0],\n",
       "       [2, 2],\n",
       "       [0, 0],\n",
       "       [1, 1],\n",
       "       [2, 2],\n",
       "       [1, 2],\n",
       "       [1, 1],\n",
       "       [1, 1],\n",
       "       [0, 0],\n",
       "       [1, 1],\n",
       "       [2, 2],\n",
       "       [1, 1]], dtype=int32)>"
      ]
     },
     "execution_count": 92,
     "metadata": {},
     "output_type": "execute_result"
    }
   ],
   "source": [
    "test_accuracy = tfe.metrics.Accuracy()\n",
    "\n",
    "for (x, y) in test_dataset:\n",
    "  logits = model(x)\n",
    "  prediction = tf.argmax(logits, axis=1, output_type=tf.int32)\n",
    "  test_accuracy(prediction, y)\n",
    "\n",
    "print(\"Test set accuracy: {:.3%}\".format(test_accuracy.result()))\n",
    "\n",
    "tf.stack([y,prediction],axis=1)"
   ]
  },
  {
   "cell_type": "code",
   "execution_count": 91,
   "metadata": {},
   "outputs": [
    {
     "data": {
      "text/plain": [
       "<tf.Tensor: id=218153, shape=(30, 2), dtype=int32, numpy=\n",
       "array([[1, 1],\n",
       "       [2, 2],\n",
       "       [0, 0],\n",
       "       [1, 1],\n",
       "       [1, 1],\n",
       "       [1, 1],\n",
       "       [0, 0],\n",
       "       [2, 2],\n",
       "       [1, 1],\n",
       "       [2, 2],\n",
       "       [2, 2],\n",
       "       [0, 0],\n",
       "       [2, 2],\n",
       "       [1, 1],\n",
       "       [1, 1],\n",
       "       [0, 0],\n",
       "       [1, 1],\n",
       "       [0, 0],\n",
       "       [0, 0],\n",
       "       [2, 2],\n",
       "       [0, 0],\n",
       "       [1, 1],\n",
       "       [2, 2],\n",
       "       [1, 2],\n",
       "       [1, 1],\n",
       "       [1, 1],\n",
       "       [0, 0],\n",
       "       [1, 1],\n",
       "       [2, 2],\n",
       "       [1, 1]], dtype=int32)>"
      ]
     },
     "execution_count": 91,
     "metadata": {},
     "output_type": "execute_result"
    }
   ],
   "source": []
  },
  {
   "cell_type": "code",
   "execution_count": null,
   "metadata": {},
   "outputs": [],
   "source": []
  }
 ],
 "metadata": {
  "kernelspec": {
   "display_name": "Python 3",
   "language": "python",
   "name": "python3"
  },
  "language_info": {
   "codemirror_mode": {
    "name": "ipython",
    "version": 3
   },
   "file_extension": ".py",
   "mimetype": "text/x-python",
   "name": "python",
   "nbconvert_exporter": "python",
   "pygments_lexer": "ipython3",
   "version": "3.6.8"
  }
 },
 "nbformat": 4,
 "nbformat_minor": 2
}
