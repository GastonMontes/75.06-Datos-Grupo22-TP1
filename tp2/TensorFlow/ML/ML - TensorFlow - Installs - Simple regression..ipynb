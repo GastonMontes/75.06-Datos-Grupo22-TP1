{
 "cells": [
  {
   "cell_type": "code",
   "execution_count": 1,
   "metadata": {},
   "outputs": [
    {
     "name": "stderr",
     "output_type": "stream",
     "text": [
      "/Users/gmontes/anaconda3/lib/python3.6/site-packages/h5py/__init__.py:36: FutureWarning: Conversion of the second argument of issubdtype from `float` to `np.floating` is deprecated. In future, it will be treated as `np.float64 == np.dtype(float).type`.\n",
      "  from ._conv import register_converters as _register_converters\n"
     ]
    },
    {
     "name": "stdout",
     "output_type": "stream",
     "text": [
      "1.13.1\n"
     ]
    }
   ],
   "source": [
    "import pandas as pd\n",
    "\n",
    "import seaborn as sns\n",
    "\n",
    "import tensorflow as tf\n",
    "from tensorflow import keras\n",
    "from tensorflow.keras import layers\n",
    "\n",
    "print(tf.__version__)"
   ]
  },
  {
   "cell_type": "markdown",
   "metadata": {},
   "source": [
    "# Read the data."
   ]
  },
  {
   "cell_type": "code",
   "execution_count": 2,
   "metadata": {},
   "outputs": [],
   "source": [
    "path_18_20 = 'datos/test_and_train/installs_18_20.csv'\n",
    "installs_18_20 = pd.read_csv(path_18_20)\n",
    "\n",
    "path_19_21 = 'datos/test_and_train/installs_19_21.csv'\n",
    "installs_19_21 = pd.read_csv(path_19_21)\n",
    "\n",
    "path_20_22 = 'datos/test_and_train/installs_20_22.csv'\n",
    "installs_20_22 = pd.read_csv(path_20_22)\n",
    "\n",
    "path_21_23 = 'datos/test_and_train/installs_21_23.csv'\n",
    "installs_21_23 = pd.read_csv(path_21_23)\n",
    "\n",
    "path_22_24 = 'datos/test_and_train/installs_22_24.csv'\n",
    "installs_22_24 = pd.read_csv(path_22_24)\n",
    "\n",
    "path_23_25 = 'datos/test_and_train/installs_23_25.csv'\n",
    "installs_23_25 = pd.read_csv(path_23_25)\n",
    "\n",
    "path_24_26 = 'datos/test_and_train/installs_24_26.csv'\n",
    "installs_24_26 = pd.read_csv(path_24_26)"
   ]
  },
  {
   "cell_type": "markdown",
   "metadata": {},
   "source": [
    "# Clear the data."
   ]
  },
  {
   "cell_type": "markdown",
   "metadata": {},
   "source": [
    "## Delete unused features."
   ]
  },
  {
   "cell_type": "code",
   "execution_count": 3,
   "metadata": {},
   "outputs": [],
   "source": [
    "del installs_18_20['user_agent']\n",
    "del installs_18_20['mean_location']\n",
    "\n",
    "del installs_19_21['user_agent']\n",
    "del installs_19_21['mean_location']\n",
    "\n",
    "del installs_20_22['user_agent']\n",
    "del installs_20_22['mean_location']\n",
    "\n",
    "del installs_21_23['user_agent']\n",
    "del installs_21_23['mean_location']\n",
    "\n",
    "del installs_22_24['user_agent']\n",
    "del installs_22_24['mean_location']\n",
    "\n",
    "del installs_23_25['user_agent']\n",
    "del installs_23_25['mean_location']\n",
    "\n",
    "del installs_24_26['user_agent']\n",
    "del installs_24_26['mean_location']"
   ]
  },
  {
   "cell_type": "markdown",
   "metadata": {},
   "source": [
    "## Set values to NaN."
   ]
  },
  {
   "cell_type": "code",
   "execution_count": 4,
   "metadata": {},
   "outputs": [],
   "source": [
    "installs_18_20['cant_clicks'].fillna(0, inplace= True)\n",
    "installs_18_20['cant_wifi_clicks'].fillna(0, inplace= True)\n",
    "installs_18_20['mean_time_to_click'].fillna(0, inplace= True)\n",
    "installs_18_20['cant_sources_clicks'].fillna(0, inplace= True)\n",
    "installs_18_20['cant_advs_clicks'].fillna(0, inplace= True)\n",
    "installs_18_20['cant_installs'].fillna(0, inplace= True)\n",
    "installs_18_20['device_brand'].fillna(0, inplace= True)\n",
    "installs_18_20['device_model'].fillna(0, inplace= True)\n",
    "installs_18_20['application_id'].fillna(0, inplace= True)\n",
    "installs_18_20['device_language'].fillna(0, inplace= True)\n",
    "installs_18_20['time_to_install'].fillna(259200, inplace= True)\n",
    "installs_18_20['cant_apps'].fillna(0, inplace= True)\n",
    "installs_18_20['ref_hash'].fillna(0, inplace= True)\n",
    "\n",
    "installs_19_21['cant_clicks'].fillna(0, inplace= True)\n",
    "installs_19_21['cant_wifi_clicks'].fillna(0, inplace= True)\n",
    "installs_19_21['mean_time_to_click'].fillna(0, inplace= True)\n",
    "installs_19_21['cant_sources_clicks'].fillna(0, inplace= True)\n",
    "installs_19_21['cant_advs_clicks'].fillna(0, inplace= True)\n",
    "installs_19_21['cant_installs'].fillna(0, inplace= True)\n",
    "installs_19_21['device_brand'].fillna(0, inplace= True)\n",
    "installs_19_21['device_model'].fillna(0, inplace= True)\n",
    "installs_19_21['application_id'].fillna(0, inplace= True)\n",
    "installs_19_21['device_language'].fillna(0, inplace= True)\n",
    "installs_19_21['time_to_install'].fillna(259200, inplace= True)\n",
    "installs_19_21['cant_apps'].fillna(0, inplace= True)\n",
    "installs_19_21['ref_hash'].fillna(0, inplace= True)\n",
    "\n",
    "installs_20_22['cant_clicks'].fillna(0, inplace= True)\n",
    "installs_20_22['cant_wifi_clicks'].fillna(0, inplace= True)\n",
    "installs_20_22['mean_time_to_click'].fillna(0, inplace= True)\n",
    "installs_20_22['cant_sources_clicks'].fillna(0, inplace= True)\n",
    "installs_20_22['cant_advs_clicks'].fillna(0, inplace= True)\n",
    "installs_20_22['cant_installs'].fillna(0, inplace= True)\n",
    "installs_20_22['device_brand'].fillna(0, inplace= True)\n",
    "installs_20_22['device_model'].fillna(0, inplace= True)\n",
    "installs_20_22['application_id'].fillna(0, inplace= True)\n",
    "installs_20_22['device_language'].fillna(0, inplace= True)\n",
    "installs_20_22['time_to_install'].fillna(259200, inplace= True)\n",
    "installs_20_22['cant_apps'].fillna(0, inplace= True)\n",
    "installs_20_22['ref_hash'].fillna(0, inplace= True)\n",
    "\n",
    "installs_21_23['cant_clicks'].fillna(0, inplace= True)\n",
    "installs_21_23['cant_wifi_clicks'].fillna(0, inplace= True)\n",
    "installs_21_23['mean_time_to_click'].fillna(0, inplace= True)\n",
    "installs_21_23['cant_sources_clicks'].fillna(0, inplace= True)\n",
    "installs_21_23['cant_advs_clicks'].fillna(0, inplace= True)\n",
    "installs_21_23['cant_installs'].fillna(0, inplace= True)\n",
    "installs_21_23['device_brand'].fillna(0, inplace= True)\n",
    "installs_21_23['device_model'].fillna(0, inplace= True)\n",
    "installs_21_23['application_id'].fillna(0, inplace= True)\n",
    "installs_21_23['device_language'].fillna(0, inplace= True)\n",
    "installs_21_23['time_to_install'].fillna(259200, inplace= True)\n",
    "installs_21_23['cant_apps'].fillna(0, inplace= True)\n",
    "installs_21_23['ref_hash'].fillna(0, inplace= True)\n",
    "\n",
    "installs_22_24['cant_clicks'].fillna(0, inplace= True)\n",
    "installs_22_24['cant_wifi_clicks'].fillna(0, inplace= True)\n",
    "installs_22_24['mean_time_to_click'].fillna(0, inplace= True)\n",
    "installs_22_24['cant_sources_clicks'].fillna(0, inplace= True)\n",
    "installs_22_24['cant_advs_clicks'].fillna(0, inplace= True)\n",
    "installs_22_24['cant_installs'].fillna(0, inplace= True)\n",
    "installs_22_24['device_brand'].fillna(0, inplace= True)\n",
    "installs_22_24['device_model'].fillna(0, inplace= True)\n",
    "installs_22_24['application_id'].fillna(0, inplace= True)\n",
    "installs_22_24['device_language'].fillna(0, inplace= True)\n",
    "installs_22_24['time_to_install'].fillna(259200, inplace= True)\n",
    "installs_22_24['cant_apps'].fillna(0, inplace= True)\n",
    "installs_22_24['ref_hash'].fillna(0, inplace= True)\n",
    "\n",
    "installs_23_25['cant_clicks'].fillna(0, inplace= True)\n",
    "installs_23_25['cant_wifi_clicks'].fillna(0, inplace= True)\n",
    "installs_23_25['mean_time_to_click'].fillna(0, inplace= True)\n",
    "installs_23_25['cant_sources_clicks'].fillna(0, inplace= True)\n",
    "installs_23_25['cant_advs_clicks'].fillna(0, inplace= True)\n",
    "installs_23_25['cant_installs'].fillna(0, inplace= True)\n",
    "installs_23_25['device_brand'].fillna(0, inplace= True)\n",
    "installs_23_25['device_model'].fillna(0, inplace= True)\n",
    "installs_23_25['application_id'].fillna(0, inplace= True)\n",
    "installs_23_25['device_language'].fillna(0, inplace= True)\n",
    "installs_23_25['time_to_install'].fillna(259200, inplace= True)\n",
    "installs_23_25['cant_apps'].fillna(0, inplace= True)\n",
    "installs_23_25['ref_hash'].fillna(0, inplace= True)"
   ]
  },
  {
   "cell_type": "markdown",
   "metadata": {},
   "source": [
    "# Define train and test dataset."
   ]
  },
  {
   "cell_type": "code",
   "execution_count": 5,
   "metadata": {},
   "outputs": [],
   "source": [
    "train_dataset_18_20 = installs_18_20.copy()\n",
    "test_dataset_18_20 = installs_19_21.copy()\n",
    "\n",
    "train_dataset_19_21 = installs_19_21.copy()\n",
    "test_dataset_19_21 = installs_20_22.copy()\n",
    "\n",
    "train_dataset_20_22 = installs_20_22.copy()\n",
    "test_dataset_20_22 = installs_21_23.copy()\n",
    "\n",
    "train_dataset_21_23 = installs_21_23.copy()\n",
    "test_dataset_21_23 = installs_22_24.copy()\n",
    "\n",
    "train_dataset_22_24 = installs_22_24.copy()\n",
    "test_dataset_22_24 = installs_23_25.copy()\n",
    "\n",
    "train_dataset_23_25 = installs_23_25.copy()\n",
    "test_dataset_23_25 = installs_24_26.copy()"
   ]
  },
  {
   "cell_type": "markdown",
   "metadata": {},
   "source": [
    "## Stats."
   ]
  },
  {
   "cell_type": "code",
   "execution_count": 6,
   "metadata": {},
   "outputs": [],
   "source": [
    "train_stats_18_20 = train_dataset_18_20.describe()\n",
    "train_stats_18_20.pop('time_to_install')\n",
    "train_stats_18_20 = train_stats_18_20.transpose()\n",
    "\n",
    "train_stats_19_21 = train_dataset_19_21.describe()\n",
    "train_stats_19_21.pop('time_to_install')\n",
    "train_stats_19_21 = train_stats_19_21.transpose()\n",
    "\n",
    "train_stats_20_22 = train_dataset_20_22.describe()\n",
    "train_stats_20_22.pop('time_to_install')\n",
    "train_stats_20_22 = train_stats_20_22.transpose()\n",
    "\n",
    "train_stats_21_23 = train_dataset_21_23.describe()\n",
    "train_stats_21_23.pop('time_to_install')\n",
    "train_stats_21_23 = train_stats_21_23.transpose()\n",
    "\n",
    "train_stats_22_24 = train_dataset_22_24.describe()\n",
    "train_stats_22_24.pop('time_to_install')\n",
    "train_stats_22_24 = train_stats_22_24.transpose()\n",
    "\n",
    "train_stats_23_25 = train_dataset_23_25.describe()\n",
    "train_stats_23_25.pop('time_to_install')\n",
    "train_stats_23_25 = train_stats_23_25.transpose()"
   ]
  },
  {
   "cell_type": "markdown",
   "metadata": {},
   "source": [
    "## Define labels."
   ]
  },
  {
   "cell_type": "code",
   "execution_count": 7,
   "metadata": {},
   "outputs": [],
   "source": [
    "train_labels_18_20 = train_dataset_18_20.pop('time_to_install')\n",
    "test_labels_18_20 = test_dataset_18_20.pop('time_to_install')\n",
    "\n",
    "train_labels_19_21 = train_dataset_19_21.pop('time_to_install')\n",
    "test_labels_19_21 = test_dataset_19_21.pop('time_to_install')\n",
    "\n",
    "train_labels_20_22 = train_dataset_20_22.pop('time_to_install')\n",
    "test_labels_20_22 = test_dataset_20_22.pop('time_to_install')\n",
    "\n",
    "train_labels_21_23 = train_dataset_21_23.pop('time_to_install')\n",
    "test_labels_21_23 = test_dataset_21_23.pop('time_to_install')\n",
    "\n",
    "train_labels_22_24 = train_dataset_22_24.pop('time_to_install')\n",
    "test_labels_22_24 = test_dataset_22_24.pop('time_to_install')\n",
    "\n",
    "train_labels_23_25 = train_dataset_23_25.pop('time_to_install')\n",
    "test_labels_23_25 = test_dataset_23_25.pop('time_to_install')"
   ]
  },
  {
   "cell_type": "markdown",
   "metadata": {},
   "source": [
    "## Normalize train and test datasets."
   ]
  },
  {
   "cell_type": "code",
   "execution_count": null,
   "metadata": {},
   "outputs": [],
   "source": [
    "def norm(stats, x):\n",
    "  return (x - stats['mean']) / stats['std']\n",
    "\n",
    "train_dataset_18_20 = norm(train_stats_18_20, train_dataset_18_20)\n",
    "test_dataset_18_20 = norm(train_stats_18_20, test_dataset_18_20)\n",
    "\n",
    "train_dataset_19_21 = norm(train_stats_19_21, train_dataset_19_21)\n",
    "test_dataset_19_21 = norm(train_stats_19_21, test_dataset_19_21)\n",
    "\n",
    "train_dataset_20_22 = norm(train_stats_20_22, train_dataset_20_22)\n",
    "test_dataset_20_22 = norm(train_stats_20_22, test_dataset_20_22)\n",
    "\n",
    "train_dataset_21_23 = norm(train_stats_21_23, train_dataset_21_23)\n",
    "test_dataset_21_23 = norm(train_stats_21_23, test_dataset_21_23)\n",
    "\n",
    "train_dataset_22_24 = norm(train_stats_22_24, train_dataset_22_24)\n",
    "test_dataset_22_24 = norm(train_stats_22_24, test_dataset_22_24)\n",
    "\n",
    "train_dataset_23_25 = norm(train_stats_23_25, train_dataset_23_25)\n",
    "test_dataset_23_25 = norm(train_stats_23_25, test_dataset_23_25)"
   ]
  },
  {
   "cell_type": "markdown",
   "metadata": {},
   "source": [
    "## Buil the model."
   ]
  },
  {
   "cell_type": "code",
   "execution_count": null,
   "metadata": {},
   "outputs": [],
   "source": [
    "def build_model():\n",
    "  model = keras.Sequential([\n",
    "    layers.Dense(64, activation=tf.nn.relu, input_shape=[len(train_dataset_18_20.keys())]),\n",
    "    layers.Dense(64, activation=tf.nn.relu),\n",
    "    layers.Dense(1)\n",
    "  ])\n",
    "\n",
    "  optimizer = tf.keras.optimizers.RMSprop(0.001)\n",
    "\n",
    "  model.compile(loss='mean_squared_error',\n",
    "                optimizer=optimizer,\n",
    "                metrics=['mean_absolute_error', 'mean_squared_error'])\n",
    "  return model\n",
    "\n",
    "model_18_20 = build_model()\n",
    "model_19_21 = build_model()\n",
    "model_20_22 = build_model()\n",
    "model_21_23 = build_model()\n",
    "model_22_24 = build_model()\n",
    "model_23_25 = build_model()"
   ]
  },
  {
   "cell_type": "markdown",
   "metadata": {},
   "source": [
    "## Train the model."
   ]
  },
  {
   "cell_type": "code",
   "execution_count": null,
   "metadata": {},
   "outputs": [],
   "source": [
    "EPOCHS = 10000\n",
    "\n",
    "class PrintDot(keras.callbacks.Callback):\n",
    "  def on_epoch_end(self, epoch, logs):\n",
    "    if epoch % 100 == 0: print('')\n",
    "    print('.', end='')\n",
    "    \n",
    "early_stop = keras.callbacks.EarlyStopping(monitor='val_loss', patience=100)\n",
    "\n",
    "history_18_20 = model_18_20.fit(train_dataset_18_20, train_labels_18_20, epochs=EPOCHS, \n",
    "                                validation_split = 0.2, verbose=0, callbacks=[early_stop, PrintDot()])\n",
    "\n",
    "history_19_21 = model_19_21.fit(train_dataset_19_21, train_labels_19_21, epochs=EPOCHS, \n",
    "                                validation_split = 0.2, verbose=0, callbacks=[early_stop, PrintDot()])\n",
    "\n",
    "history_20_22 = model_20_22.fit(train_dataset_20_22, train_labels_20_22, epochs=EPOCHS, \n",
    "                                validation_split = 0.2, verbose=0, callbacks=[early_stop, PrintDot()])\n",
    "\n",
    "history_21_23 = model_21_23.fit(train_dataset_21_23, train_labels_21_23, epochs=EPOCHS, \n",
    "                                validation_split = 0.2, verbose=0, callbacks=[early_stop, PrintDot()])\n",
    "\n",
    "history_22_24 = model_22_24.fit(train_dataset_22_24, train_labels_22_24, epochs=EPOCHS, \n",
    "                                validation_split = 0.2, verbose=0, callbacks=[early_stop, PrintDot()])\n",
    "\n",
    "history_23_25 = model_23_25.fit(train_dataset_23_25, train_labels_23_25, epochs=EPOCHS, \n",
    "                                validation_split = 0.2, verbose=0, callbacks=[early_stop, PrintDot()])"
   ]
  },
  {
   "cell_type": "code",
   "execution_count": null,
   "metadata": {},
   "outputs": [],
   "source": [
    "loss_18_20, mae_18_20, mse_18_20 = model_18_20.evaluate(test_dataset_18_20, test_labels_18_20, verbose=0)\n",
    "print(\"Testing set Mean Abs Error _18_20: {:5.2f}\".format(mae_18_20))\n",
    "print(\"Testing set Mean square Error _18_20: {:5.2f}\".format(mse_18_20))\n",
    "\n",
    "loss_19_21, mae_19_21, mse_19_21 = model_19_21.evaluate(test_dataset_19_21, test_labels_19_21, verbose=0)\n",
    "print(\"Testing set Mean Abs Error _19_21: {:5.2f}\".format(mae_19_21))\n",
    "print(\"Testing set Mean square Error _19_21: {:5.2f}\".format(mse_19_21))\n",
    "\n",
    "loss_20_22, mae_20_22, mse_20_22 = model_20_22.evaluate(test_dataset_20_22, test_labels_20_22, verbose=0)\n",
    "print(\"Testing set Mean Abs Error _20_22: {:5.2f}\".format(mae_20_22))\n",
    "print(\"Testing set Mean square Error _20_22: {:5.2f}\".format(mse_20_22))\n",
    "\n",
    "loss_21_23, mae_21_23, mse_21_23 = model_21_23.evaluate(test_dataset_21_23, test_labels_21_23, verbose=0)\n",
    "print(\"Testing set Mean Abs Error _21_23: {:5.2f}\".format(mae_21_23))\n",
    "print(\"Testing set Mean square Error _21_23: {:5.2f}\".format(mse_21_23))\n",
    "\n",
    "loss_22_24, mae_22_24, mse_22_24 = model_22_24.evaluate(test_dataset_22_24, test_labels_22_24, verbose=0)\n",
    "print(\"Testing set Mean Abs Error _22_24: {:5.2f}\".format(mae_22_24))\n",
    "print(\"Testing set Mean square Error _22_24: {:5.2f}\".format(mse_22_24))\n",
    "\n",
    "loss_23_25, mae_23_25, mse_23_25 = model_23_25.evaluate(test_dataset_23_25, test_labels_23_25, verbose=0)\n",
    "print(\"Testing set Mean Abs Error _23_25: {:5.2f}\".format(mae_23_25))\n",
    "print(\"Testing set Mean square Error _23_25: {:5.2f}\".format(mse_23_25))"
   ]
  },
  {
   "cell_type": "markdown",
   "metadata": {},
   "source": [
    "## Make predictions"
   ]
  },
  {
   "cell_type": "code",
   "execution_count": null,
   "metadata": {},
   "outputs": [],
   "source": [
    "test_predictions_18_20 = model.predict(test_dataset_18_20)\n",
    "test_predictions_19_21 = model.predict(test_dataset_19_21)\n",
    "test_predictions_20_22 = model.predict(test_dataset_20_22)\n",
    "test_predictions_21_23 = model.predict(test_dataset_21_23)\n",
    "test_predictions_22_24 = model.predict(test_dataset_22_24)\n",
    "test_predictions_23_25 = model.predict(test_dataset_23_25)"
   ]
  },
  {
   "cell_type": "code",
   "execution_count": null,
   "metadata": {},
   "outputs": [],
   "source": [
    "pred_DF = pd.DataFrame(installs_18_20['ref_hash'])\n",
    "\n",
    "pred_DF[\"pred_18_20\"] = test_predictions_18_20\n",
    "pred_DF[\"value_18_20\"] = test_labels_18_20\n",
    "pred_DF['pred_18_20'].fillna(259200, inplace= True)\n",
    "\n",
    "pred_DF[\"pred_19_21\"] = test_predictions_19_21\n",
    "pred_DF[\"value_19_21\"] = test_labels_19_21\n",
    "pred_DF['pred_19_21'].fillna(259200, inplace= True)\n",
    "\n",
    "pred_DF[\"pred_20_22\"] = test_predictions_20_22\n",
    "pred_DF[\"value_20_22\"] = test_labels_20_22\n",
    "pred_DF['pred_20_22'].fillna(259200, inplace= True)\n",
    "\n",
    "pred_DF[\"pred_21_23\"] = test_predictions_21_23\n",
    "pred_DF[\"value_21_23\"] = test_labels_21_23\n",
    "pred_DF['pred_21_23'].fillna(259200, inplace= True)\n",
    "\n",
    "pred_DF[\"pred_22_24\"] = test_predictions_22_24\n",
    "pred_DF[\"value_22_24\"] = test_labels_22_24\n",
    "pred_DF['pred_22_24'].fillna(259200, inplace= True)\n",
    "\n",
    "pred_DF[\"pred_23_25\"] = test_predictions_23_25\n",
    "pred_DF[\"value_23_25\"] = test_labels_23_25\n",
    "pred_DF['pred_23_25'].fillna(259200, inplace= True)"
   ]
  },
  {
   "cell_type": "code",
   "execution_count": null,
   "metadata": {},
   "outputs": [],
   "source": [
    "predictions = pd.DataFrame(pred_DF['ref_hash'])\n",
    "predictions['obj'] = (pred_DF['pred_18_20'] + pred_DF['pred_19_21'] + pred_DF['pred_20_22'] + pred_DF['pred_21_23'] + pred_DF['pred_22_24'] + pred_DF['pred_23_25']) / 6\n",
    "\n",
    "predictions['ref_hash'] = predictions['ref_hash'].astype(str) + '_sc'\n",
    "predictions['ref_hash'] = predictions['ref_hash'].astype('object')"
   ]
  },
  {
   "cell_type": "markdown",
   "metadata": {},
   "source": [
    "## Save predictions."
   ]
  },
  {
   "cell_type": "code",
   "execution_count": null,
   "metadata": {},
   "outputs": [],
   "source": [
    "predictions.to_csv('datos/predictions/installs.csv', index=False)"
   ]
  },
  {
   "cell_type": "code",
   "execution_count": null,
   "metadata": {},
   "outputs": [],
   "source": []
  }
 ],
 "metadata": {
  "kernelspec": {
   "display_name": "Python 3",
   "language": "python",
   "name": "python3"
  },
  "language_info": {
   "codemirror_mode": {
    "name": "ipython",
    "version": 3
   },
   "file_extension": ".py",
   "mimetype": "text/x-python",
   "name": "python",
   "nbconvert_exporter": "python",
   "pygments_lexer": "ipython3",
   "version": "3.6.8"
  }
 },
 "nbformat": 4,
 "nbformat_minor": 2
}
