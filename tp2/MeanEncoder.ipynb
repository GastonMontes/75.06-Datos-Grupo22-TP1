{
 "cells": [
  {
   "cell_type": "code",
   "execution_count": 5,
   "metadata": {},
   "outputs": [],
   "source": [
    "import pandas as pd\n",
    "import numpy as np\n",
    "from MeanEncoderCategoricas import TargetEncode"
   ]
  },
  {
   "cell_type": "code",
   "execution_count": 6,
   "metadata": {},
   "outputs": [],
   "source": [
    "train = pd.read_csv('test_and_train_installs/data_18_20.csv')\n",
    "test = pd.read_csv('test_and_train_installs/data_21_23.csv')"
   ]
  },
  {
   "cell_type": "code",
   "execution_count": 7,
   "metadata": {},
   "outputs": [],
   "source": [
    "encoder = TargetEncode()\n",
    "\n",
    "# encoding de los features categoricos\n",
    "for feature in train.columns:\n",
    "    if (train[feature].dtype in ['int64', 'float64', 'bool']):\n",
    "        continue\n",
    "\n",
    "    trn, tst = encoder.target_encode(train[feature], \n",
    "                             test[feature], \n",
    "                             target=train['time_to_install'], \n",
    "                             min_samples_leaf=100,\n",
    "                             smoothing=10,\n",
    "                             noise_level=0.01)\n",
    "    train[feature] = trn\n",
    "    test[feature] = tst"
   ]
  },
  {
   "cell_type": "code",
   "execution_count": 8,
   "metadata": {},
   "outputs": [],
   "source": [
    "train.to_csv('test_and_train_installs/train_data_encoded.csv', index=False)\n",
    "test.to_csv('test_and_train_installs/test_data_encoded.csv', index=False)"
   ]
  },
  {
   "cell_type": "code",
   "execution_count": null,
   "metadata": {},
   "outputs": [],
   "source": []
  }
 ],
 "metadata": {
  "kernelspec": {
   "display_name": "Python 3",
   "language": "python",
   "name": "python3"
  },
  "language_info": {
   "codemirror_mode": {
    "name": "ipython",
    "version": 3
   },
   "file_extension": ".py",
   "mimetype": "text/x-python",
   "name": "python",
   "nbconvert_exporter": "python",
   "pygments_lexer": "ipython3",
   "version": "3.5.2"
  }
 },
 "nbformat": 4,
 "nbformat_minor": 2
}
