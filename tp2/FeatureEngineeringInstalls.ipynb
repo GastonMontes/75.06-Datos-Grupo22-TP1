{
 "cells": [
  {
   "cell_type": "code",
   "execution_count": 225,
   "metadata": {},
   "outputs": [],
   "source": [
    "import pandas as pd\n",
    "import numpy as np\n",
    "import datetime"
   ]
  },
  {
   "cell_type": "code",
   "execution_count": 226,
   "metadata": {},
   "outputs": [],
   "source": [
    "#Leo la data proveniente de un csv\n",
    "path = 'datos/installs.csv'\n",
    "installs = pd.read_csv(path)"
   ]
  },
  {
   "cell_type": "code",
   "execution_count": 227,
   "metadata": {},
   "outputs": [],
   "source": [
    "# Damos formato a la fecha.\n",
    "installs['timestamp_format'] = pd.to_datetime(installs['created'])\n",
    "# Agrego columna fecha\n",
    "installs['date_timestamp'] = installs['timestamp_format'].dt.date\n",
    "# Agrego columna numero dia.\n",
    "installs['day'] = installs['timestamp_format'].dt.day"
   ]
  },
  {
   "cell_type": "code",
   "execution_count": 228,
   "metadata": {},
   "outputs": [],
   "source": [
    "# ventanas de 3 dias\n",
    "installs18_20 = installs[(installs['day'] >= 18) & (installs['day'] < 21)]\n",
    "installs19_21 = installs[(installs['day'] >= 19) & (installs['day'] < 22)]\n",
    "installs20_22 = installs[(installs['day'] >= 20) & (installs['day'] < 23)]\n",
    "installs21_23 = installs[(installs['day'] >= 21) & (installs['day'] < 24)]\n",
    "installs22_24 = installs[(installs['day'] >= 22) & (installs['day'] < 25)]\n",
    "installs23_25 = installs[(installs['day'] >= 23) & (installs['day'] < 26)]\n",
    "installs24_26 = installs[(installs['day'] >= 24) & (installs['day'] < 27)]"
   ]
  },
  {
   "cell_type": "code",
   "execution_count": 229,
   "metadata": {},
   "outputs": [
    {
     "name": "stderr",
     "output_type": "stream",
     "text": [
      "/home/santiago/anaconda3/lib/python3.7/site-packages/ipykernel_launcher.py:2: SettingWithCopyWarning: \n",
      "A value is trying to be set on a copy of a slice from a DataFrame.\n",
      "Try using .loc[row_indexer,col_indexer] = value instead\n",
      "\n",
      "See the caveats in the documentation: http://pandas.pydata.org/pandas-docs/stable/indexing.html#indexing-view-versus-copy\n",
      "  \n",
      "/home/santiago/anaconda3/lib/python3.7/site-packages/ipykernel_launcher.py:3: SettingWithCopyWarning: \n",
      "A value is trying to be set on a copy of a slice from a DataFrame.\n",
      "Try using .loc[row_indexer,col_indexer] = value instead\n",
      "\n",
      "See the caveats in the documentation: http://pandas.pydata.org/pandas-docs/stable/indexing.html#indexing-view-versus-copy\n",
      "  This is separate from the ipykernel package so we can avoid doing imports until\n",
      "/home/santiago/anaconda3/lib/python3.7/site-packages/ipykernel_launcher.py:5: SettingWithCopyWarning: \n",
      "A value is trying to be set on a copy of a slice from a DataFrame.\n",
      "Try using .loc[row_indexer,col_indexer] = value instead\n",
      "\n",
      "See the caveats in the documentation: http://pandas.pydata.org/pandas-docs/stable/indexing.html#indexing-view-versus-copy\n",
      "  \"\"\"\n",
      "/home/santiago/anaconda3/lib/python3.7/site-packages/ipykernel_launcher.py:6: SettingWithCopyWarning: \n",
      "A value is trying to be set on a copy of a slice from a DataFrame.\n",
      "Try using .loc[row_indexer,col_indexer] = value instead\n",
      "\n",
      "See the caveats in the documentation: http://pandas.pydata.org/pandas-docs/stable/indexing.html#indexing-view-versus-copy\n",
      "  \n",
      "/home/santiago/anaconda3/lib/python3.7/site-packages/ipykernel_launcher.py:8: SettingWithCopyWarning: \n",
      "A value is trying to be set on a copy of a slice from a DataFrame.\n",
      "Try using .loc[row_indexer,col_indexer] = value instead\n",
      "\n",
      "See the caveats in the documentation: http://pandas.pydata.org/pandas-docs/stable/indexing.html#indexing-view-versus-copy\n",
      "  \n",
      "/home/santiago/anaconda3/lib/python3.7/site-packages/ipykernel_launcher.py:9: SettingWithCopyWarning: \n",
      "A value is trying to be set on a copy of a slice from a DataFrame.\n",
      "Try using .loc[row_indexer,col_indexer] = value instead\n",
      "\n",
      "See the caveats in the documentation: http://pandas.pydata.org/pandas-docs/stable/indexing.html#indexing-view-versus-copy\n",
      "  if __name__ == '__main__':\n",
      "/home/santiago/anaconda3/lib/python3.7/site-packages/ipykernel_launcher.py:11: SettingWithCopyWarning: \n",
      "A value is trying to be set on a copy of a slice from a DataFrame.\n",
      "Try using .loc[row_indexer,col_indexer] = value instead\n",
      "\n",
      "See the caveats in the documentation: http://pandas.pydata.org/pandas-docs/stable/indexing.html#indexing-view-versus-copy\n",
      "  # This is added back by InteractiveShellApp.init_path()\n",
      "/home/santiago/anaconda3/lib/python3.7/site-packages/ipykernel_launcher.py:12: SettingWithCopyWarning: \n",
      "A value is trying to be set on a copy of a slice from a DataFrame.\n",
      "Try using .loc[row_indexer,col_indexer] = value instead\n",
      "\n",
      "See the caveats in the documentation: http://pandas.pydata.org/pandas-docs/stable/indexing.html#indexing-view-versus-copy\n",
      "  if sys.path[0] == '':\n",
      "/home/santiago/anaconda3/lib/python3.7/site-packages/ipykernel_launcher.py:14: SettingWithCopyWarning: \n",
      "A value is trying to be set on a copy of a slice from a DataFrame.\n",
      "Try using .loc[row_indexer,col_indexer] = value instead\n",
      "\n",
      "See the caveats in the documentation: http://pandas.pydata.org/pandas-docs/stable/indexing.html#indexing-view-versus-copy\n",
      "  \n",
      "/home/santiago/anaconda3/lib/python3.7/site-packages/ipykernel_launcher.py:15: SettingWithCopyWarning: \n",
      "A value is trying to be set on a copy of a slice from a DataFrame.\n",
      "Try using .loc[row_indexer,col_indexer] = value instead\n",
      "\n",
      "See the caveats in the documentation: http://pandas.pydata.org/pandas-docs/stable/indexing.html#indexing-view-versus-copy\n",
      "  from ipykernel import kernelapp as app\n",
      "/home/santiago/anaconda3/lib/python3.7/site-packages/ipykernel_launcher.py:17: SettingWithCopyWarning: \n",
      "A value is trying to be set on a copy of a slice from a DataFrame.\n",
      "Try using .loc[row_indexer,col_indexer] = value instead\n",
      "\n",
      "See the caveats in the documentation: http://pandas.pydata.org/pandas-docs/stable/indexing.html#indexing-view-versus-copy\n",
      "/home/santiago/anaconda3/lib/python3.7/site-packages/ipykernel_launcher.py:18: SettingWithCopyWarning: \n",
      "A value is trying to be set on a copy of a slice from a DataFrame.\n",
      "Try using .loc[row_indexer,col_indexer] = value instead\n",
      "\n",
      "See the caveats in the documentation: http://pandas.pydata.org/pandas-docs/stable/indexing.html#indexing-view-versus-copy\n",
      "/home/santiago/anaconda3/lib/python3.7/site-packages/ipykernel_launcher.py:20: SettingWithCopyWarning: \n",
      "A value is trying to be set on a copy of a slice from a DataFrame.\n",
      "Try using .loc[row_indexer,col_indexer] = value instead\n",
      "\n",
      "See the caveats in the documentation: http://pandas.pydata.org/pandas-docs/stable/indexing.html#indexing-view-versus-copy\n",
      "/home/santiago/anaconda3/lib/python3.7/site-packages/ipykernel_launcher.py:21: SettingWithCopyWarning: \n",
      "A value is trying to be set on a copy of a slice from a DataFrame.\n",
      "Try using .loc[row_indexer,col_indexer] = value instead\n",
      "\n",
      "See the caveats in the documentation: http://pandas.pydata.org/pandas-docs/stable/indexing.html#indexing-view-versus-copy\n"
     ]
    }
   ],
   "source": [
    "# Agregamos variable a predecir a los dataframes\n",
    "installs18_20['base_time'] = datetime.datetime(2019, 4, 18)\n",
    "installs18_20['time_to_install'] = (installs18_20['timestamp_format'] - installs18_20['base_time']) / np.timedelta64(1, 's')\n",
    "\n",
    "installs19_21['base_time'] = datetime.datetime(2019, 4, 19)\n",
    "installs19_21['time_to_install'] = (installs19_21['timestamp_format'] - installs19_21['base_time']) / np.timedelta64(1, 's')\n",
    "\n",
    "installs20_22['base_time'] = datetime.datetime(2019, 4, 20)\n",
    "installs20_22['time_to_install'] = (installs20_22['timestamp_format'] - installs20_22['base_time']) / np.timedelta64(1, 's')\n",
    "\n",
    "installs21_23['base_time'] = datetime.datetime(2019, 4, 21)\n",
    "installs21_23['time_to_install'] = (installs21_23['timestamp_format'] - installs21_23['base_time']) / np.timedelta64(1, 's')\n",
    "\n",
    "installs22_24['base_time'] = datetime.datetime(2019, 4, 22)\n",
    "installs22_24['time_to_install'] = (installs22_24['timestamp_format'] - installs22_24['base_time']) / np.timedelta64(1, 's')\n",
    "\n",
    "installs23_25['base_time'] = datetime.datetime(2019, 4, 23)\n",
    "installs23_25['time_to_install'] = (installs23_25['timestamp_format'] - installs23_25['base_time']) / np.timedelta64(1, 's')\n",
    "\n",
    "installs24_26['base_time'] = datetime.datetime(2019, 4, 24)\n",
    "installs24_26['time_to_install'] = (installs24_26['timestamp_format'] - installs24_26['base_time']) / np.timedelta64(1, 's')"
   ]
  },
  {
   "cell_type": "markdown",
   "metadata": {},
   "source": [
    "# Feature Engineering"
   ]
  },
  {
   "cell_type": "markdown",
   "metadata": {},
   "source": [
    "## Cantidad de Instalaciones"
   ]
  },
  {
   "cell_type": "code",
   "execution_count": 251,
   "metadata": {},
   "outputs": [],
   "source": [
    "final = installs18_20.groupby('ref_hash')['created'].count().reset_index()\n",
    "final.columns = ['ref_hash', 'cant_installs']\n",
    "final2 = installs21_23.groupby('ref_hash')['created'].count().reset_index()\n",
    "final2.columns = ['ref_hash', 'cant_installs']"
   ]
  },
  {
   "cell_type": "markdown",
   "metadata": {},
   "source": [
    "## Marca de celular del user"
   ]
  },
  {
   "cell_type": "code",
   "execution_count": 252,
   "metadata": {},
   "outputs": [],
   "source": [
    "brand_user = installs18_20.groupby('ref_hash').agg({'device_brand': 'first'}).reset_index()\n",
    "brand_user.columns = ['ref_hash', 'device_brand']\n",
    "\n",
    "final = final.merge(brand_user, on='ref_hash', how='left')\n",
    "final['device_brand'].fillna(0, inplace= True)"
   ]
  },
  {
   "cell_type": "code",
   "execution_count": 253,
   "metadata": {},
   "outputs": [],
   "source": [
    "brand_user2 = installs21_23.groupby('ref_hash').agg({'device_brand': 'first'}).reset_index()\n",
    "brand_user2.columns = ['ref_hash', 'device_brand']\n",
    "\n",
    "final2 = final2.merge(brand_user2, on='ref_hash', how='left')\n",
    "final2['device_brand'].fillna(0, inplace= True)"
   ]
  },
  {
   "cell_type": "markdown",
   "metadata": {},
   "source": [
    "## Modelo de celular del user"
   ]
  },
  {
   "cell_type": "code",
   "execution_count": 254,
   "metadata": {},
   "outputs": [],
   "source": [
    "modelo_user = installs18_20.groupby('ref_hash').agg({'device_model': 'first'}).reset_index()\n",
    "modelo_user.columns = ['ref_hash', 'device_model']\n",
    "\n",
    "final = final.merge(modelo_user, on='ref_hash', how='left')\n",
    "final['device_model'].fillna(0, inplace= True)"
   ]
  },
  {
   "cell_type": "code",
   "execution_count": 255,
   "metadata": {},
   "outputs": [],
   "source": [
    "modelo_user2 = installs21_23.groupby('ref_hash').agg({'device_model': 'first'}).reset_index()\n",
    "modelo_user2.columns = ['ref_hash', 'device_model']\n",
    "\n",
    "final2 = final2.merge(modelo_user2, on='ref_hash', how='left')\n",
    "final2['device_model'].fillna(0, inplace= True)"
   ]
  },
  {
   "cell_type": "markdown",
   "metadata": {},
   "source": [
    "## Id de la aplicacion instalada"
   ]
  },
  {
   "cell_type": "code",
   "execution_count": 256,
   "metadata": {},
   "outputs": [],
   "source": [
    "app_id = installs18_20.groupby('ref_hash').agg({'application_id': 'last'}).reset_index()\n",
    "app_id.columns = ['ref_hash', 'application_id']\n",
    "\n",
    "final = final.merge(app_id, on='ref_hash', how='left')\n",
    "final['application_id'].fillna(0, inplace= True)"
   ]
  },
  {
   "cell_type": "code",
   "execution_count": 257,
   "metadata": {},
   "outputs": [],
   "source": [
    "app_id2 = installs21_23.groupby('ref_hash').agg({'application_id': 'last'}).reset_index()\n",
    "app_id2.columns = ['ref_hash', 'application_id']\n",
    "\n",
    "final2 = final2.merge(app_id2, on='ref_hash', how='left')\n",
    "final2['application_id'].fillna(0, inplace= True)"
   ]
  },
  {
   "cell_type": "markdown",
   "metadata": {},
   "source": [
    "## Cantidad de aplicaciones distintas instaladas por user"
   ]
  },
  {
   "cell_type": "code",
   "execution_count": 258,
   "metadata": {},
   "outputs": [],
   "source": [
    "cantidad_de_apps = installs18_20.groupby('ref_hash')['application_id'].nunique().reset_index()\n",
    "cantidad_de_apps.columns = ['ref_hash', 'cant_apps']\n",
    "\n",
    "final = final.merge(cantidad_de_apps, on='ref_hash', how='left')\n",
    "final['cant_apps'].fillna(0, inplace= True)"
   ]
  },
  {
   "cell_type": "code",
   "execution_count": 259,
   "metadata": {},
   "outputs": [],
   "source": [
    "cantidad_de_apps2 = installs21_23.groupby('ref_hash')['application_id'].nunique().reset_index()\n",
    "cantidad_de_apps2.columns = ['ref_hash', 'cant_apps']\n",
    "\n",
    "final2 = final2.merge(cantidad_de_apps2, on='ref_hash', how='left')\n",
    "final2['cant_apps'].fillna(0, inplace= True)"
   ]
  },
  {
   "cell_type": "markdown",
   "metadata": {},
   "source": [
    "## User agent"
   ]
  },
  {
   "cell_type": "code",
   "execution_count": 260,
   "metadata": {},
   "outputs": [],
   "source": [
    "user_agent = installs18_20.groupby('ref_hash').agg({'user_agent': 'last'}).reset_index()\n",
    "user_agent.columns = ['ref_hash', 'user_agent']\n",
    "\n",
    "final = final.merge(user_agent, on='ref_hash', how='left')"
   ]
  },
  {
   "cell_type": "code",
   "execution_count": 261,
   "metadata": {},
   "outputs": [],
   "source": [
    "user_agent2 = installs21_23.groupby('ref_hash').agg({'user_agent': 'last'}).reset_index()\n",
    "user_agent2.columns = ['ref_hash', 'user_agent']\n",
    "\n",
    "final2 = final2.merge(user_agent2, on='ref_hash', how='left')"
   ]
  },
  {
   "cell_type": "markdown",
   "metadata": {},
   "source": [
    "## Device Language"
   ]
  },
  {
   "cell_type": "code",
   "execution_count": 262,
   "metadata": {},
   "outputs": [],
   "source": [
    "device_language = installs18_20.groupby('ref_hash').agg({'device_language': 'last'}).reset_index()\n",
    "device_language.columns = ['ref_hash', 'device_language']\n",
    "\n",
    "final = final.merge(device_language, on='ref_hash', how='left')"
   ]
  },
  {
   "cell_type": "code",
   "execution_count": 263,
   "metadata": {},
   "outputs": [],
   "source": [
    "device_language2 = installs21_23.groupby('ref_hash').agg({'device_language': 'last'}).reset_index()\n",
    "device_language2.columns = ['ref_hash', 'device_language']\n",
    "\n",
    "final2 = final2.merge(device_language2, on='ref_hash', how='left')"
   ]
  },
  {
   "cell_type": "markdown",
   "metadata": {},
   "source": [
    "## Join de features de clicks"
   ]
  },
  {
   "cell_type": "code",
   "execution_count": 264,
   "metadata": {},
   "outputs": [],
   "source": [
    "clicks = pd.read_csv('features_clicks/clicks_18_20.csv')\n",
    "clicks2 = pd.read_csv('features_clicks/clicks_21_23.csv')"
   ]
  },
  {
   "cell_type": "code",
   "execution_count": 265,
   "metadata": {},
   "outputs": [
    {
     "name": "stdout",
     "output_type": "stream",
     "text": [
      "<class 'pandas.core.frame.DataFrame'>\n",
      "Int64Index: 132297 entries, 0 to 132296\n",
      "Data columns (total 14 columns):\n",
      "ref_hash               132297 non-null int64\n",
      "cant_installs          132297 non-null int64\n",
      "device_brand           132297 non-null float64\n",
      "device_model           132297 non-null float64\n",
      "application_id         132297 non-null int64\n",
      "cant_apps              132297 non-null int64\n",
      "user_agent             92537 non-null object\n",
      "device_language        126712 non-null float64\n",
      "cant_clicks            1731 non-null float64\n",
      "cant_wifi_clicks       1731 non-null float64\n",
      "mean_time_to_click     1731 non-null float64\n",
      "cant_sources_clicks    1731 non-null float64\n",
      "cant_advs_clicks       1731 non-null float64\n",
      "mean_location          1731 non-null object\n",
      "dtypes: float64(8), int64(4), object(2)\n",
      "memory usage: 15.1+ MB\n"
     ]
    }
   ],
   "source": [
    "final = final.merge(clicks, on='ref_hash', how='left')\n",
    "final.info()"
   ]
  },
  {
   "cell_type": "code",
   "execution_count": 266,
   "metadata": {},
   "outputs": [],
   "source": [
    "final2 = final2.merge(clicks2, on='ref_hash', how='left')"
   ]
  },
  {
   "cell_type": "markdown",
   "metadata": {},
   "source": [
    "## TimeToInstall -> variable a predecir"
   ]
  },
  {
   "cell_type": "code",
   "execution_count": 267,
   "metadata": {},
   "outputs": [],
   "source": [
    "time_to_install = installs18_20.groupby('ref_hash').agg({'time_to_install': 'mean'}).reset_index()\n",
    "time_to_install.columns = ['ref_hash', 'time_to_install']\n",
    "\n",
    "# 3 dias son 259200 segundos\n",
    "final = final.merge(time_to_install, on='ref_hash', how='left')\n",
    "final['time_to_install'].fillna(259200, inplace= True)"
   ]
  },
  {
   "cell_type": "code",
   "execution_count": 268,
   "metadata": {},
   "outputs": [],
   "source": [
    "time_to_install2 = installs21_23.groupby('ref_hash').agg({'time_to_install': 'mean'}).reset_index()\n",
    "time_to_install2.columns = ['ref_hash', 'time_to_install']\n",
    "\n",
    "# 3 dias son 259200 segundos\n",
    "final2 = final2.merge(time_to_install2, on='ref_hash', how='left')\n",
    "final2['time_to_install'].fillna(259200, inplace= True)"
   ]
  },
  {
   "cell_type": "code",
   "execution_count": 269,
   "metadata": {},
   "outputs": [],
   "source": [
    "# 3 dias son 259200 segundos\n",
    "final['time_to_install'] = final['time_to_install'].fillna(259200)\n",
    "final2['time_to_install'] = final2['time_to_install'].fillna(259200)"
   ]
  },
  {
   "cell_type": "code",
   "execution_count": 270,
   "metadata": {},
   "outputs": [],
   "source": [
    "final.to_csv('test_and_train_installs/data_18_20.csv', index=False)\n",
    "final2.to_csv('test_and_train_installs/data_21_23.csv', index=False)"
   ]
  },
  {
   "cell_type": "markdown",
   "metadata": {},
   "source": [
    "## Join de targets con features"
   ]
  },
  {
   "cell_type": "code",
   "execution_count": 141,
   "metadata": {},
   "outputs": [],
   "source": [
    "#targets = pd.read_csv('datos/target_competencia_ids.csv')"
   ]
  },
  {
   "cell_type": "code",
   "execution_count": 142,
   "metadata": {},
   "outputs": [],
   "source": [
    "#final['ref_hash'] = final['ref_hash'].astype(str) + '_sc'\n",
    "#final['ref_hash'] = final['ref_hash'].astype('object')\n",
    "\n",
    "#merged_18_20_targets = targets.merge(final, on='ref_hash', how='left').drop('obj', axis=1)\n",
    "#merged_18_20_targets = merged_18_20_targets.loc[merged_18_20_targets['ref_hash'].str.contains('_sc'), :]\n",
    "\n",
    "# 3 dias son 259200 segundos\n",
    "#merged_18_20_targets['time_to_install'] = merged_18_20_targets['time_to_install'].fillna(259200)"
   ]
  },
  {
   "cell_type": "code",
   "execution_count": 143,
   "metadata": {},
   "outputs": [],
   "source": [
    "#final2['ref_hash'] = final2['ref_hash'].astype(str) + '_sc'\n",
    "#final2['ref_hash'] = final2['ref_hash'].astype('object')\n",
    "\n",
    "#merged_21_23_targets = targets.merge(final2, on='ref_hash', how='left').drop('obj', axis=1)\n",
    "#merged_21_23_targets = merged_21_23_targets.loc[merged_21_23_targets['ref_hash'].str.contains('_sc'), :]\n",
    "\n",
    "# 3 dias son 259200 segundos\n",
    "#merged_21_23_targets['time_to_install'] = merged_21_23_targets['time_to_install'].fillna(259200)"
   ]
  },
  {
   "cell_type": "code",
   "execution_count": 146,
   "metadata": {},
   "outputs": [],
   "source": [
    "#merged_18_20_targets.to_csv('test_and_train_installs/data_18_20.csv', index=False)\n",
    "#merged_21_23_targets.to_csv('test_and_train_installs/data_21_23.csv', index=False)"
   ]
  },
  {
   "cell_type": "code",
   "execution_count": null,
   "metadata": {},
   "outputs": [],
   "source": []
  }
 ],
 "metadata": {
  "kernelspec": {
   "display_name": "Python 3",
   "language": "python",
   "name": "python3"
  },
  "language_info": {
   "codemirror_mode": {
    "name": "ipython",
    "version": 3
   },
   "file_extension": ".py",
   "mimetype": "text/x-python",
   "name": "python",
   "nbconvert_exporter": "python",
   "pygments_lexer": "ipython3",
   "version": "3.6.8"
  }
 },
 "nbformat": 4,
 "nbformat_minor": 2
}
