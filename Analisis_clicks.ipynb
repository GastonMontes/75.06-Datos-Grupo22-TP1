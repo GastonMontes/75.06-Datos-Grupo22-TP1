{
 "cells": [
  {
   "cell_type": "code",
   "execution_count": 1,
   "metadata": {},
   "outputs": [],
   "source": [
    "# imports de librerias\n",
    "import pandas as pd\n",
    "import numpy as np\n",
    "import matplotlib.pyplot as plt\n",
    "import seaborn as sns\n",
    "import datetime\n",
    "\n",
    "%matplotlib inline\n",
    "\n",
    "plt.style.use('default')\n",
    "sns.set(style=\"whitegrid\") # tipo de grid seaborn"
   ]
  },
  {
   "cell_type": "code",
   "execution_count": 2,
   "metadata": {},
   "outputs": [],
   "source": [
    "# leo la data proveniente de un csv \n",
    "path_clicks = 'clicks.csv.gzip'\n",
    "clicks = pd.read_csv(path_clicks, compression='gzip')"
   ]
  },
  {
   "cell_type": "code",
   "execution_count": 3,
   "metadata": {},
   "outputs": [
    {
     "data": {
      "text/plain": [
       "(26351, 20)"
      ]
     },
     "execution_count": 3,
     "metadata": {},
     "output_type": "execute_result"
    }
   ],
   "source": [
    "clicks.shape"
   ]
  },
  {
   "cell_type": "markdown",
   "metadata": {},
   "source": [
    "Hay 20 columnas y 26351 registros."
   ]
  },
  {
   "cell_type": "code",
   "execution_count": 4,
   "metadata": {},
   "outputs": [
    {
     "name": "stdout",
     "output_type": "stream",
     "text": [
      "<class 'pandas.core.frame.DataFrame'>\n",
      "RangeIndex: 26351 entries, 0 to 26350\n",
      "Data columns (total 20 columns):\n",
      "advertiser_id      26351 non-null int64\n",
      "action_id          0 non-null float64\n",
      "source_id          26351 non-null int64\n",
      "created            26351 non-null object\n",
      "country_code       26351 non-null int64\n",
      "latitude           26351 non-null float64\n",
      "longitude          26351 non-null float64\n",
      "wifi_connection    26351 non-null bool\n",
      "carrier_id         26340 non-null float64\n",
      "trans_id           26351 non-null object\n",
      "os_minor           26339 non-null float64\n",
      "agent_device       3243 non-null float64\n",
      "os_major           26339 non-null float64\n",
      "specs_brand        26351 non-null int64\n",
      "brand              6235 non-null float64\n",
      "timeToClick        22977 non-null float64\n",
      "touchX             23011 non-null float64\n",
      "touchY             23011 non-null float64\n",
      "ref_type           26351 non-null int64\n",
      "ref_hash           26351 non-null int64\n",
      "dtypes: bool(1), float64(11), int64(6), object(2)\n",
      "memory usage: 3.8+ MB\n"
     ]
    }
   ],
   "source": [
    "clicks.info()"
   ]
  },
  {
   "cell_type": "markdown",
   "metadata": {},
   "source": [
    "La columna created es la unica de tipo object y representa una fecha y hora. Conviene darle un formato apropiado para poder utilizarla."
   ]
  },
  {
   "cell_type": "code",
   "execution_count": 5,
   "metadata": {},
   "outputs": [
    {
     "data": {
      "text/html": [
       "<div>\n",
       "<style scoped>\n",
       "    .dataframe tbody tr th:only-of-type {\n",
       "        vertical-align: middle;\n",
       "    }\n",
       "\n",
       "    .dataframe tbody tr th {\n",
       "        vertical-align: top;\n",
       "    }\n",
       "\n",
       "    .dataframe thead th {\n",
       "        text-align: right;\n",
       "    }\n",
       "</style>\n",
       "<table border=\"1\" class=\"dataframe\">\n",
       "  <thead>\n",
       "    <tr style=\"text-align: right;\">\n",
       "      <th></th>\n",
       "      <th>advertiser_id</th>\n",
       "      <th>action_id</th>\n",
       "      <th>source_id</th>\n",
       "      <th>created</th>\n",
       "      <th>country_code</th>\n",
       "      <th>latitude</th>\n",
       "      <th>longitude</th>\n",
       "      <th>wifi_connection</th>\n",
       "      <th>carrier_id</th>\n",
       "      <th>trans_id</th>\n",
       "      <th>os_minor</th>\n",
       "      <th>agent_device</th>\n",
       "      <th>os_major</th>\n",
       "      <th>specs_brand</th>\n",
       "      <th>brand</th>\n",
       "      <th>timeToClick</th>\n",
       "      <th>touchX</th>\n",
       "      <th>touchY</th>\n",
       "      <th>ref_type</th>\n",
       "      <th>ref_hash</th>\n",
       "    </tr>\n",
       "  </thead>\n",
       "  <tbody>\n",
       "    <tr>\n",
       "      <th>0</th>\n",
       "      <td>2</td>\n",
       "      <td>NaN</td>\n",
       "      <td>4</td>\n",
       "      <td>2019-03-06T22:42:12.755Z</td>\n",
       "      <td>6333597102633388268</td>\n",
       "      <td>1.205689</td>\n",
       "      <td>1.070234</td>\n",
       "      <td>False</td>\n",
       "      <td>1.0</td>\n",
       "      <td>iGgClCM9exiHF4K31g94XmvHEBSLKIY</td>\n",
       "      <td>6.768137e+18</td>\n",
       "      <td>NaN</td>\n",
       "      <td>3.072849e+18</td>\n",
       "      <td>2733035977666442898</td>\n",
       "      <td>NaN</td>\n",
       "      <td>1.563</td>\n",
       "      <td>0.905</td>\n",
       "      <td>0.078</td>\n",
       "      <td>1891515180541284343</td>\n",
       "      <td>1904083516767779093</td>\n",
       "    </tr>\n",
       "    <tr>\n",
       "      <th>1</th>\n",
       "      <td>0</td>\n",
       "      <td>NaN</td>\n",
       "      <td>0</td>\n",
       "      <td>2019-03-08T10:24:30.641Z</td>\n",
       "      <td>6333597102633388268</td>\n",
       "      <td>1.218924</td>\n",
       "      <td>1.071209</td>\n",
       "      <td>False</td>\n",
       "      <td>4.0</td>\n",
       "      <td>MMHTOJ6qKAOeIH_Eywh1KIcCaxtO9oM</td>\n",
       "      <td>3.025219e+18</td>\n",
       "      <td>NaN</td>\n",
       "      <td>1.774085e+18</td>\n",
       "      <td>392184377613098015</td>\n",
       "      <td>NaN</td>\n",
       "      <td>NaN</td>\n",
       "      <td>NaN</td>\n",
       "      <td>NaN</td>\n",
       "      <td>1891515180541284343</td>\n",
       "      <td>3086509764961796666</td>\n",
       "    </tr>\n",
       "    <tr>\n",
       "      <th>2</th>\n",
       "      <td>0</td>\n",
       "      <td>NaN</td>\n",
       "      <td>0</td>\n",
       "      <td>2019-03-08T15:24:16.069Z</td>\n",
       "      <td>6333597102633388268</td>\n",
       "      <td>1.205689</td>\n",
       "      <td>1.070234</td>\n",
       "      <td>False</td>\n",
       "      <td>6.0</td>\n",
       "      <td>vIrEIdf9izUaWdAri6Ezk7T3nHFvNQU</td>\n",
       "      <td>5.975656e+18</td>\n",
       "      <td>NaN</td>\n",
       "      <td>3.072849e+18</td>\n",
       "      <td>392184377613098015</td>\n",
       "      <td>NaN</td>\n",
       "      <td>NaN</td>\n",
       "      <td>0.946</td>\n",
       "      <td>0.473</td>\n",
       "      <td>1891515180541284343</td>\n",
       "      <td>6958163894863846647</td>\n",
       "    </tr>\n",
       "    <tr>\n",
       "      <th>3</th>\n",
       "      <td>2</td>\n",
       "      <td>NaN</td>\n",
       "      <td>3</td>\n",
       "      <td>2019-03-06T03:08:51.543Z</td>\n",
       "      <td>6333597102633388268</td>\n",
       "      <td>1.205689</td>\n",
       "      <td>1.070234</td>\n",
       "      <td>False</td>\n",
       "      <td>45.0</td>\n",
       "      <td>YaKxxEAs2UmZhSpRfiCO9Zpa82B_AKM</td>\n",
       "      <td>6.768137e+18</td>\n",
       "      <td>NaN</td>\n",
       "      <td>3.072849e+18</td>\n",
       "      <td>2733035977666442898</td>\n",
       "      <td>NaN</td>\n",
       "      <td>19.013</td>\n",
       "      <td>0.035</td>\n",
       "      <td>0.431</td>\n",
       "      <td>1891515180541284343</td>\n",
       "      <td>4368617728156436525</td>\n",
       "    </tr>\n",
       "    <tr>\n",
       "      <th>4</th>\n",
       "      <td>2</td>\n",
       "      <td>NaN</td>\n",
       "      <td>3</td>\n",
       "      <td>2019-03-06T03:32:55.570Z</td>\n",
       "      <td>6333597102633388268</td>\n",
       "      <td>1.205689</td>\n",
       "      <td>1.070234</td>\n",
       "      <td>False</td>\n",
       "      <td>45.0</td>\n",
       "      <td>X5XTOcYQovkl6yadYdAD7xioVGU9jiY</td>\n",
       "      <td>6.768137e+18</td>\n",
       "      <td>NaN</td>\n",
       "      <td>3.072849e+18</td>\n",
       "      <td>2733035977666442898</td>\n",
       "      <td>NaN</td>\n",
       "      <td>28.110</td>\n",
       "      <td>0.054</td>\n",
       "      <td>0.423</td>\n",
       "      <td>1891515180541284343</td>\n",
       "      <td>4368617728156436525</td>\n",
       "    </tr>\n",
       "    <tr>\n",
       "      <th>5</th>\n",
       "      <td>5</td>\n",
       "      <td>NaN</td>\n",
       "      <td>4</td>\n",
       "      <td>2019-03-07T18:02:25.833Z</td>\n",
       "      <td>6333597102633388268</td>\n",
       "      <td>1.209638</td>\n",
       "      <td>1.064208</td>\n",
       "      <td>False</td>\n",
       "      <td>27.0</td>\n",
       "      <td>dhc5iaRvlrI9OgkXDWnMRrAY47xWozY</td>\n",
       "      <td>3.025219e+18</td>\n",
       "      <td>NaN</td>\n",
       "      <td>1.774085e+18</td>\n",
       "      <td>392184377613098015</td>\n",
       "      <td>1.0</td>\n",
       "      <td>NaN</td>\n",
       "      <td>0.606</td>\n",
       "      <td>0.459</td>\n",
       "      <td>1891515180541284343</td>\n",
       "      <td>7925959310979071406</td>\n",
       "    </tr>\n",
       "    <tr>\n",
       "      <th>6</th>\n",
       "      <td>3</td>\n",
       "      <td>NaN</td>\n",
       "      <td>1</td>\n",
       "      <td>2019-03-12T15:17:04.453Z</td>\n",
       "      <td>6333597102633388268</td>\n",
       "      <td>1.209638</td>\n",
       "      <td>1.064208</td>\n",
       "      <td>False</td>\n",
       "      <td>27.0</td>\n",
       "      <td>cOm-_s2_6NkoDWYNu_QaMk-v4sf34h4</td>\n",
       "      <td>3.378640e+18</td>\n",
       "      <td>3.032809e+17</td>\n",
       "      <td>4.566454e+18</td>\n",
       "      <td>2733035977666442898</td>\n",
       "      <td>1.0</td>\n",
       "      <td>NaN</td>\n",
       "      <td>NaN</td>\n",
       "      <td>NaN</td>\n",
       "      <td>1891515180541284343</td>\n",
       "      <td>1709687652740629839</td>\n",
       "    </tr>\n",
       "    <tr>\n",
       "      <th>7</th>\n",
       "      <td>1</td>\n",
       "      <td>NaN</td>\n",
       "      <td>2</td>\n",
       "      <td>2019-03-06T19:15:47.249Z</td>\n",
       "      <td>6333597102633388268</td>\n",
       "      <td>1.205393</td>\n",
       "      <td>1.077238</td>\n",
       "      <td>False</td>\n",
       "      <td>NaN</td>\n",
       "      <td>MbDYk_2nKmKtOQgAIRx-aDJ66VIGsrE</td>\n",
       "      <td>NaN</td>\n",
       "      <td>NaN</td>\n",
       "      <td>NaN</td>\n",
       "      <td>8930605132947907029</td>\n",
       "      <td>NaN</td>\n",
       "      <td>NaN</td>\n",
       "      <td>NaN</td>\n",
       "      <td>NaN</td>\n",
       "      <td>1891515180541284343</td>\n",
       "      <td>2127839020694198991</td>\n",
       "    </tr>\n",
       "    <tr>\n",
       "      <th>8</th>\n",
       "      <td>3</td>\n",
       "      <td>NaN</td>\n",
       "      <td>0</td>\n",
       "      <td>2019-03-07T23:11:01.934Z</td>\n",
       "      <td>6333597102633388268</td>\n",
       "      <td>1.205058</td>\n",
       "      <td>1.077332</td>\n",
       "      <td>False</td>\n",
       "      <td>19.0</td>\n",
       "      <td>1wsFgNNvk6PT1QSSIdmmwmqp0E3k7io</td>\n",
       "      <td>3.025219e+18</td>\n",
       "      <td>NaN</td>\n",
       "      <td>1.774085e+18</td>\n",
       "      <td>392184377613098015</td>\n",
       "      <td>NaN</td>\n",
       "      <td>3.129</td>\n",
       "      <td>0.889</td>\n",
       "      <td>0.977</td>\n",
       "      <td>1891515180541284343</td>\n",
       "      <td>5073558237453939035</td>\n",
       "    </tr>\n",
       "    <tr>\n",
       "      <th>9</th>\n",
       "      <td>3</td>\n",
       "      <td>NaN</td>\n",
       "      <td>1</td>\n",
       "      <td>2019-03-07T23:06:30.642Z</td>\n",
       "      <td>6333597102633388268</td>\n",
       "      <td>1.205689</td>\n",
       "      <td>1.070234</td>\n",
       "      <td>False</td>\n",
       "      <td>18.0</td>\n",
       "      <td>ZLZz1XHsA5Xkuq_TXNfT49j_H4mfTwg</td>\n",
       "      <td>3.378640e+18</td>\n",
       "      <td>NaN</td>\n",
       "      <td>4.566454e+18</td>\n",
       "      <td>2733035977666442898</td>\n",
       "      <td>1.0</td>\n",
       "      <td>1.707</td>\n",
       "      <td>0.466</td>\n",
       "      <td>0.985</td>\n",
       "      <td>1891515180541284343</td>\n",
       "      <td>70349377423764005</td>\n",
       "    </tr>\n",
       "  </tbody>\n",
       "</table>\n",
       "</div>"
      ],
      "text/plain": [
       "   advertiser_id  action_id  source_id                   created  \\\n",
       "0              2        NaN          4  2019-03-06T22:42:12.755Z   \n",
       "1              0        NaN          0  2019-03-08T10:24:30.641Z   \n",
       "2              0        NaN          0  2019-03-08T15:24:16.069Z   \n",
       "3              2        NaN          3  2019-03-06T03:08:51.543Z   \n",
       "4              2        NaN          3  2019-03-06T03:32:55.570Z   \n",
       "5              5        NaN          4  2019-03-07T18:02:25.833Z   \n",
       "6              3        NaN          1  2019-03-12T15:17:04.453Z   \n",
       "7              1        NaN          2  2019-03-06T19:15:47.249Z   \n",
       "8              3        NaN          0  2019-03-07T23:11:01.934Z   \n",
       "9              3        NaN          1  2019-03-07T23:06:30.642Z   \n",
       "\n",
       "          country_code  latitude  longitude  wifi_connection  carrier_id  \\\n",
       "0  6333597102633388268  1.205689   1.070234            False         1.0   \n",
       "1  6333597102633388268  1.218924   1.071209            False         4.0   \n",
       "2  6333597102633388268  1.205689   1.070234            False         6.0   \n",
       "3  6333597102633388268  1.205689   1.070234            False        45.0   \n",
       "4  6333597102633388268  1.205689   1.070234            False        45.0   \n",
       "5  6333597102633388268  1.209638   1.064208            False        27.0   \n",
       "6  6333597102633388268  1.209638   1.064208            False        27.0   \n",
       "7  6333597102633388268  1.205393   1.077238            False         NaN   \n",
       "8  6333597102633388268  1.205058   1.077332            False        19.0   \n",
       "9  6333597102633388268  1.205689   1.070234            False        18.0   \n",
       "\n",
       "                          trans_id      os_minor  agent_device      os_major  \\\n",
       "0  iGgClCM9exiHF4K31g94XmvHEBSLKIY  6.768137e+18           NaN  3.072849e+18   \n",
       "1  MMHTOJ6qKAOeIH_Eywh1KIcCaxtO9oM  3.025219e+18           NaN  1.774085e+18   \n",
       "2  vIrEIdf9izUaWdAri6Ezk7T3nHFvNQU  5.975656e+18           NaN  3.072849e+18   \n",
       "3  YaKxxEAs2UmZhSpRfiCO9Zpa82B_AKM  6.768137e+18           NaN  3.072849e+18   \n",
       "4  X5XTOcYQovkl6yadYdAD7xioVGU9jiY  6.768137e+18           NaN  3.072849e+18   \n",
       "5  dhc5iaRvlrI9OgkXDWnMRrAY47xWozY  3.025219e+18           NaN  1.774085e+18   \n",
       "6  cOm-_s2_6NkoDWYNu_QaMk-v4sf34h4  3.378640e+18  3.032809e+17  4.566454e+18   \n",
       "7  MbDYk_2nKmKtOQgAIRx-aDJ66VIGsrE           NaN           NaN           NaN   \n",
       "8  1wsFgNNvk6PT1QSSIdmmwmqp0E3k7io  3.025219e+18           NaN  1.774085e+18   \n",
       "9  ZLZz1XHsA5Xkuq_TXNfT49j_H4mfTwg  3.378640e+18           NaN  4.566454e+18   \n",
       "\n",
       "           specs_brand  brand  timeToClick  touchX  touchY  \\\n",
       "0  2733035977666442898    NaN        1.563   0.905   0.078   \n",
       "1   392184377613098015    NaN          NaN     NaN     NaN   \n",
       "2   392184377613098015    NaN          NaN   0.946   0.473   \n",
       "3  2733035977666442898    NaN       19.013   0.035   0.431   \n",
       "4  2733035977666442898    NaN       28.110   0.054   0.423   \n",
       "5   392184377613098015    1.0          NaN   0.606   0.459   \n",
       "6  2733035977666442898    1.0          NaN     NaN     NaN   \n",
       "7  8930605132947907029    NaN          NaN     NaN     NaN   \n",
       "8   392184377613098015    NaN        3.129   0.889   0.977   \n",
       "9  2733035977666442898    1.0        1.707   0.466   0.985   \n",
       "\n",
       "              ref_type             ref_hash  \n",
       "0  1891515180541284343  1904083516767779093  \n",
       "1  1891515180541284343  3086509764961796666  \n",
       "2  1891515180541284343  6958163894863846647  \n",
       "3  1891515180541284343  4368617728156436525  \n",
       "4  1891515180541284343  4368617728156436525  \n",
       "5  1891515180541284343  7925959310979071406  \n",
       "6  1891515180541284343  1709687652740629839  \n",
       "7  1891515180541284343  2127839020694198991  \n",
       "8  1891515180541284343  5073558237453939035  \n",
       "9  1891515180541284343    70349377423764005  "
      ]
     },
     "execution_count": 5,
     "metadata": {},
     "output_type": "execute_result"
    }
   ],
   "source": [
    "clicks.head(10)"
   ]
  },
  {
   "cell_type": "code",
   "execution_count": 6,
   "metadata": {},
   "outputs": [
    {
     "data": {
      "text/html": [
       "<div>\n",
       "<style scoped>\n",
       "    .dataframe tbody tr th:only-of-type {\n",
       "        vertical-align: middle;\n",
       "    }\n",
       "\n",
       "    .dataframe tbody tr th {\n",
       "        vertical-align: top;\n",
       "    }\n",
       "\n",
       "    .dataframe thead th {\n",
       "        text-align: right;\n",
       "    }\n",
       "</style>\n",
       "<table border=\"1\" class=\"dataframe\">\n",
       "  <thead>\n",
       "    <tr style=\"text-align: right;\">\n",
       "      <th></th>\n",
       "      <th>advertiser_id</th>\n",
       "      <th>action_id</th>\n",
       "      <th>source_id</th>\n",
       "      <th>country_code</th>\n",
       "      <th>latitude</th>\n",
       "      <th>longitude</th>\n",
       "      <th>carrier_id</th>\n",
       "      <th>os_minor</th>\n",
       "      <th>agent_device</th>\n",
       "      <th>os_major</th>\n",
       "      <th>specs_brand</th>\n",
       "      <th>brand</th>\n",
       "      <th>timeToClick</th>\n",
       "      <th>touchX</th>\n",
       "      <th>touchY</th>\n",
       "      <th>ref_type</th>\n",
       "      <th>ref_hash</th>\n",
       "    </tr>\n",
       "  </thead>\n",
       "  <tbody>\n",
       "    <tr>\n",
       "      <th>count</th>\n",
       "      <td>26351.000000</td>\n",
       "      <td>0.0</td>\n",
       "      <td>26351.000000</td>\n",
       "      <td>2.635100e+04</td>\n",
       "      <td>26351.000000</td>\n",
       "      <td>26351.000000</td>\n",
       "      <td>26340.000000</td>\n",
       "      <td>2.633900e+04</td>\n",
       "      <td>3.243000e+03</td>\n",
       "      <td>2.633900e+04</td>\n",
       "      <td>2.635100e+04</td>\n",
       "      <td>6235.000000</td>\n",
       "      <td>22977.000000</td>\n",
       "      <td>23011.000000</td>\n",
       "      <td>23011.000000</td>\n",
       "      <td>2.635100e+04</td>\n",
       "      <td>2.635100e+04</td>\n",
       "    </tr>\n",
       "    <tr>\n",
       "      <th>mean</th>\n",
       "      <td>2.991993</td>\n",
       "      <td>NaN</td>\n",
       "      <td>1.245266</td>\n",
       "      <td>6.333597e+18</td>\n",
       "      <td>1.206906</td>\n",
       "      <td>1.070233</td>\n",
       "      <td>7.743812</td>\n",
       "      <td>4.635375e+18</td>\n",
       "      <td>4.171028e+18</td>\n",
       "      <td>3.913451e+18</td>\n",
       "      <td>1.299055e+18</td>\n",
       "      <td>1.482277</td>\n",
       "      <td>230.403309</td>\n",
       "      <td>0.638784</td>\n",
       "      <td>1.478656</td>\n",
       "      <td>1.888100e+18</td>\n",
       "      <td>4.611581e+18</td>\n",
       "    </tr>\n",
       "    <tr>\n",
       "      <th>std</th>\n",
       "      <td>0.164070</td>\n",
       "      <td>NaN</td>\n",
       "      <td>2.188948</td>\n",
       "      <td>2.089000e+05</td>\n",
       "      <td>0.004484</td>\n",
       "      <td>0.001896</td>\n",
       "      <td>7.017027</td>\n",
       "      <td>1.642969e+18</td>\n",
       "      <td>2.460496e+18</td>\n",
       "      <td>1.885866e+18</td>\n",
       "      <td>1.149672e+18</td>\n",
       "      <td>1.583764</td>\n",
       "      <td>976.849149</td>\n",
       "      <td>0.301983</td>\n",
       "      <td>2.622727</td>\n",
       "      <td>1.721252e+17</td>\n",
       "      <td>2.673175e+18</td>\n",
       "    </tr>\n",
       "    <tr>\n",
       "      <th>min</th>\n",
       "      <td>0.000000</td>\n",
       "      <td>NaN</td>\n",
       "      <td>0.000000</td>\n",
       "      <td>6.333597e+18</td>\n",
       "      <td>1.205058</td>\n",
       "      <td>1.058204</td>\n",
       "      <td>0.000000</td>\n",
       "      <td>6.666626e+17</td>\n",
       "      <td>4.513618e+16</td>\n",
       "      <td>7.436481e+17</td>\n",
       "      <td>3.921844e+17</td>\n",
       "      <td>0.000000</td>\n",
       "      <td>0.017000</td>\n",
       "      <td>0.000000</td>\n",
       "      <td>0.000000</td>\n",
       "      <td>1.494519e+18</td>\n",
       "      <td>9.286192e+14</td>\n",
       "    </tr>\n",
       "    <tr>\n",
       "      <th>25%</th>\n",
       "      <td>3.000000</td>\n",
       "      <td>NaN</td>\n",
       "      <td>0.000000</td>\n",
       "      <td>6.333597e+18</td>\n",
       "      <td>1.205689</td>\n",
       "      <td>1.070234</td>\n",
       "      <td>3.000000</td>\n",
       "      <td>3.378640e+18</td>\n",
       "      <td>1.975183e+18</td>\n",
       "      <td>1.774085e+18</td>\n",
       "      <td>3.921844e+17</td>\n",
       "      <td>0.000000</td>\n",
       "      <td>2.915000</td>\n",
       "      <td>0.426000</td>\n",
       "      <td>0.183000</td>\n",
       "      <td>1.891515e+18</td>\n",
       "      <td>2.273798e+18</td>\n",
       "    </tr>\n",
       "    <tr>\n",
       "      <th>50%</th>\n",
       "      <td>3.000000</td>\n",
       "      <td>NaN</td>\n",
       "      <td>0.000000</td>\n",
       "      <td>6.333597e+18</td>\n",
       "      <td>1.205689</td>\n",
       "      <td>1.070234</td>\n",
       "      <td>6.000000</td>\n",
       "      <td>3.511538e+18</td>\n",
       "      <td>3.516812e+18</td>\n",
       "      <td>3.072849e+18</td>\n",
       "      <td>3.921844e+17</td>\n",
       "      <td>1.000000</td>\n",
       "      <td>10.588000</td>\n",
       "      <td>0.726000</td>\n",
       "      <td>0.645000</td>\n",
       "      <td>1.891515e+18</td>\n",
       "      <td>4.623721e+18</td>\n",
       "    </tr>\n",
       "    <tr>\n",
       "      <th>75%</th>\n",
       "      <td>3.000000</td>\n",
       "      <td>NaN</td>\n",
       "      <td>1.000000</td>\n",
       "      <td>6.333597e+18</td>\n",
       "      <td>1.205689</td>\n",
       "      <td>1.070234</td>\n",
       "      <td>13.000000</td>\n",
       "      <td>6.391567e+18</td>\n",
       "      <td>6.589622e+18</td>\n",
       "      <td>4.566454e+18</td>\n",
       "      <td>2.733036e+18</td>\n",
       "      <td>2.000000</td>\n",
       "      <td>71.703000</td>\n",
       "      <td>0.901000</td>\n",
       "      <td>0.991000</td>\n",
       "      <td>1.891515e+18</td>\n",
       "      <td>6.917850e+18</td>\n",
       "    </tr>\n",
       "    <tr>\n",
       "      <th>max</th>\n",
       "      <td>8.000000</td>\n",
       "      <td>NaN</td>\n",
       "      <td>10.000000</td>\n",
       "      <td>6.333597e+18</td>\n",
       "      <td>1.237861</td>\n",
       "      <td>1.085358</td>\n",
       "      <td>116.000000</td>\n",
       "      <td>9.081082e+18</td>\n",
       "      <td>9.221733e+18</td>\n",
       "      <td>7.499732e+18</td>\n",
       "      <td>8.930605e+18</td>\n",
       "      <td>13.000000</td>\n",
       "      <td>17616.188000</td>\n",
       "      <td>1.000000</td>\n",
       "      <td>16.600000</td>\n",
       "      <td>6.323872e+18</td>\n",
       "      <td>9.221118e+18</td>\n",
       "    </tr>\n",
       "  </tbody>\n",
       "</table>\n",
       "</div>"
      ],
      "text/plain": [
       "       advertiser_id  action_id     source_id  country_code      latitude  \\\n",
       "count   26351.000000        0.0  26351.000000  2.635100e+04  26351.000000   \n",
       "mean        2.991993        NaN      1.245266  6.333597e+18      1.206906   \n",
       "std         0.164070        NaN      2.188948  2.089000e+05      0.004484   \n",
       "min         0.000000        NaN      0.000000  6.333597e+18      1.205058   \n",
       "25%         3.000000        NaN      0.000000  6.333597e+18      1.205689   \n",
       "50%         3.000000        NaN      0.000000  6.333597e+18      1.205689   \n",
       "75%         3.000000        NaN      1.000000  6.333597e+18      1.205689   \n",
       "max         8.000000        NaN     10.000000  6.333597e+18      1.237861   \n",
       "\n",
       "          longitude    carrier_id      os_minor  agent_device      os_major  \\\n",
       "count  26351.000000  26340.000000  2.633900e+04  3.243000e+03  2.633900e+04   \n",
       "mean       1.070233      7.743812  4.635375e+18  4.171028e+18  3.913451e+18   \n",
       "std        0.001896      7.017027  1.642969e+18  2.460496e+18  1.885866e+18   \n",
       "min        1.058204      0.000000  6.666626e+17  4.513618e+16  7.436481e+17   \n",
       "25%        1.070234      3.000000  3.378640e+18  1.975183e+18  1.774085e+18   \n",
       "50%        1.070234      6.000000  3.511538e+18  3.516812e+18  3.072849e+18   \n",
       "75%        1.070234     13.000000  6.391567e+18  6.589622e+18  4.566454e+18   \n",
       "max        1.085358    116.000000  9.081082e+18  9.221733e+18  7.499732e+18   \n",
       "\n",
       "        specs_brand        brand   timeToClick        touchX        touchY  \\\n",
       "count  2.635100e+04  6235.000000  22977.000000  23011.000000  23011.000000   \n",
       "mean   1.299055e+18     1.482277    230.403309      0.638784      1.478656   \n",
       "std    1.149672e+18     1.583764    976.849149      0.301983      2.622727   \n",
       "min    3.921844e+17     0.000000      0.017000      0.000000      0.000000   \n",
       "25%    3.921844e+17     0.000000      2.915000      0.426000      0.183000   \n",
       "50%    3.921844e+17     1.000000     10.588000      0.726000      0.645000   \n",
       "75%    2.733036e+18     2.000000     71.703000      0.901000      0.991000   \n",
       "max    8.930605e+18    13.000000  17616.188000      1.000000     16.600000   \n",
       "\n",
       "           ref_type      ref_hash  \n",
       "count  2.635100e+04  2.635100e+04  \n",
       "mean   1.888100e+18  4.611581e+18  \n",
       "std    1.721252e+17  2.673175e+18  \n",
       "min    1.494519e+18  9.286192e+14  \n",
       "25%    1.891515e+18  2.273798e+18  \n",
       "50%    1.891515e+18  4.623721e+18  \n",
       "75%    1.891515e+18  6.917850e+18  \n",
       "max    6.323872e+18  9.221118e+18  "
      ]
     },
     "execution_count": 6,
     "metadata": {},
     "output_type": "execute_result"
    }
   ],
   "source": [
    "clicks.describe()"
   ]
  },
  {
   "cell_type": "markdown",
   "metadata": {},
   "source": [
    "action_id son todos NaN. La latitud y longitud tienen una variacion estandar minuscula que hace que no sirvan los datos."
   ]
  },
  {
   "cell_type": "code",
   "execution_count": 7,
   "metadata": {},
   "outputs": [],
   "source": [
    "# Damos formato a la fecha.\n",
    "clicks['timestamp_format'] = pd.to_datetime(clicks['created'])\n",
    "\n",
    "# Agrego columna fecha\n",
    "clicks['date'] = clicks['timestamp_format'].dt.date\n",
    "# Agrego columna de mes.\n",
    "clicks['month'] = clicks['timestamp_format'].dt.month\n",
    "# Agrego columna nombre dia.\n",
    "clicks['weekday_name'] = clicks['timestamp_format'].dt.weekday_name\n",
    "# Agrego columna numero dia.\n",
    "clicks['day'] = clicks['timestamp_format'].dt.day\n",
    "# Agrego columna de horas\n",
    "clicks['hour'] = clicks['timestamp_format'].dt.hour"
   ]
  },
  {
   "cell_type": "code",
   "execution_count": 8,
   "metadata": {},
   "outputs": [
    {
     "data": {
      "text/plain": [
       "Timestamp('2019-03-05 01:17:30.663000+0000', tz='UTC')"
      ]
     },
     "execution_count": 8,
     "metadata": {},
     "output_type": "execute_result"
    }
   ],
   "source": [
    "# fecha minima\n",
    "clicks['timestamp_format'].min()"
   ]
  },
  {
   "cell_type": "code",
   "execution_count": 9,
   "metadata": {},
   "outputs": [
    {
     "data": {
      "text/plain": [
       "Timestamp('2019-03-13 23:59:59.298000+0000', tz='UTC')"
      ]
     },
     "execution_count": 9,
     "metadata": {},
     "output_type": "execute_result"
    }
   ],
   "source": [
    "# fecha maxima\n",
    "clicks['timestamp_format'].max()"
   ]
  },
  {
   "cell_type": "markdown",
   "metadata": {},
   "source": [
    "Los primeros datos son del 5 de marzo de 2019 y el ultimo del 13 de marzo de 2019 (ambos dias limites estan incluidos en el rango de datos validos ya que parece haber data del dia completo)"
   ]
  },
  {
   "cell_type": "markdown",
   "metadata": {},
   "source": [
    "# Cuantas clicks se realizaron por dia?"
   ]
  },
  {
   "cell_type": "code",
   "execution_count": 12,
   "metadata": {},
   "outputs": [
    {
     "data": {
      "image/png": "[encoded data removed]",
      "text/plain": [
       "<Figure size 1332x756 with 1 Axes>"
      ]
     },
     "metadata": {
      "needs_background": "light"
     },
     "output_type": "display_data"
    }
   ],
   "source": [
    "# utilizo la columna 'advertiser_id' para contar xq tiene valor no nulo en todos los registros\n",
    "clicks_por_dia = clicks.groupby('date')['advertiser_id'].count()\n",
    "g = clicks_por_dia.plot()\n",
    "g.set_title(\"Cantidad de clicks por dia\", fontsize=22)\n",
    "g.set_xlabel(\"Dia\", fontsize=18)\n",
    "g.set_ylabel(\"Cantidad de Clicks\", fontsize=18)\n",
    "\n",
    "g.get_figure().set_size_inches(18.5, 10.5, forward=True)\n",
    "g.get_figure().savefig('img/cant_clicks_por_dia.png')"
   ]
  },
  {
   "cell_type": "markdown",
   "metadata": {},
   "source": [
    "# Cual es el promedio de tiempo que tarda un usuario en hacer click sobre la publicidad segun el dia y hora?"
   ]
  },
  {
   "cell_type": "code",
   "execution_count": 14,
   "metadata": {},
   "outputs": [
    {
     "data": {
      "image/png": "[encoded data removed]",
      "text/plain": [
       "<Figure size 1332x756 with 2 Axes>"
      ]
     },
     "metadata": {
      "needs_background": "light"
     },
     "output_type": "display_data"
    }
   ],
   "source": [
    "### Promedio de TimeToClick por combinacion de hora en el dia.\n",
    "# Filtro los dias 12 y 13 para que justo haya 1 semana de data\n",
    "tabla_semanal = clicks.loc[clicks['day'] < 12,:]\n",
    "\n",
    "tabla_semanal_menor_90 = tabla_semanal.loc[tabla_semanal['timeToClick'] < 90, :]\n",
    "for_heatmap_hr_day = tabla_semanal_menor_90.pivot_table(index='hour', columns='weekday_name', values='timeToClick', aggfunc='mean')\n",
    "\n",
    "g = sns.heatmap(for_heatmap_hr_day , linewidths=.5, cmap=\"YlGnBu\") # annot=True\n",
    "g.set_title(\"Promedio de TimeToClick(segundos) segun dia y hora\", fontsize=22)\n",
    "g.set_xlabel(\"Dia\",fontsize=18)\n",
    "g.set_ylabel(\"Hora\", fontsize=18)\n",
    "\n",
    "\n",
    "g.get_figure().set_size_inches(18.5, 10.5, forward=True)\n",
    "g.get_figure().savefig('img/timeToClick_hr_dia.png')"
   ]
  },
  {
   "cell_type": "markdown",
   "metadata": {},
   "source": [
    "# Top 10 Usuarios que mas clicks hicieron"
   ]
  },
  {
   "cell_type": "code",
   "execution_count": 15,
   "metadata": {},
   "outputs": [
    {
     "data": {
      "image/png": "[encoded data removed]",
      "text/plain": [
       "<Figure size 1332x756 with 1 Axes>"
      ]
     },
     "metadata": {
      "needs_background": "light"
     },
     "output_type": "display_data"
    }
   ],
   "source": [
    "# utilizo la columna 'advertiser_id' para contar xq tiene valor no nulo en todos los registros\n",
    "usuarios = clicks.groupby('ref_hash')['advertiser_id'].agg('count').sort_values(ascending=False)[:10]\n",
    "g = sns.barplot(x=usuarios.values, y=usuarios.index, palette='rainbow', orient='h')\n",
    "g.set_xlabel('Cantidad de clicks')\n",
    "g.set_ylabel('ID Usuario')\n",
    "g.set_title('Top 10 usuarios que mas clicks hicieron')\n",
    "\n",
    "\n",
    "g.get_figure().set_size_inches(18.5, 10.5, forward=True)\n",
    "g.get_figure().savefig('img/top_10_usuarios_clicks.png')"
   ]
  },
  {
   "cell_type": "markdown",
   "metadata": {},
   "source": [
    "# Top advertisers cuya publicidad fue clickeada"
   ]
  },
  {
   "cell_type": "code",
   "execution_count": 16,
   "metadata": {},
   "outputs": [
    {
     "data": {
      "text/plain": [
       "advertiser_id\n",
       "0       70\n",
       "1        2\n",
       "2       12\n",
       "3    26263\n",
       "5        1\n",
       "7        2\n",
       "8        1\n",
       "Name: advertiser_id, dtype: int64"
      ]
     },
     "execution_count": 16,
     "metadata": {},
     "output_type": "execute_result"
    }
   ],
   "source": [
    "# utilizo la columna 'advertiser_id' para contar xq tiene valor no nulo en todos los registros\n",
    "clicks.groupby('advertiser_id')['advertiser_id'].agg('count')"
   ]
  },
  {
   "cell_type": "markdown",
   "metadata": {},
   "source": [
    "El cliente de Jampp cuya publicidad fue la mas clickeada es el que esta identificado con el numero 3."
   ]
  },
  {
   "cell_type": "markdown",
   "metadata": {},
   "source": [
    "# Cantidad de clicks segun la conexion a internet del telefono"
   ]
  },
  {
   "cell_type": "code",
   "execution_count": 19,
   "metadata": {},
   "outputs": [
    {
     "data": {
      "text/plain": [
       "wifi_connection\n",
       "False    26351\n",
       "Name: advertiser_id, dtype: int64"
      ]
     },
     "execution_count": 19,
     "metadata": {},
     "output_type": "execute_result"
    }
   ],
   "source": [
    "clicks.groupby('wifi_connection')['advertiser_id'].agg('count')"
   ]
  },
  {
   "cell_type": "markdown",
   "metadata": {},
   "source": [
    "Todos los clicks sobre las distintas publicidades fueron realizados cuando el telefono no tenia conexion wifi."
   ]
  },
  {
   "cell_type": "markdown",
   "metadata": {},
   "source": [
    "# Cuantos clicks hay segun el advertising type?"
   ]
  },
  {
   "cell_type": "code",
   "execution_count": 20,
   "metadata": {},
   "outputs": [
    {
     "data": {
      "text/plain": [
       "ref_type\n",
       "1494519392962156891      739\n",
       "1891515180541284343    25549\n",
       "5016171802147987303       58\n",
       "6323871695571587575        5\n",
       "Name: advertiser_id, dtype: int64"
      ]
     },
     "execution_count": 20,
     "metadata": {},
     "output_type": "execute_result"
    }
   ],
   "source": [
    "clicks.groupby('ref_type')['advertiser_id'].agg('count')"
   ]
  },
  {
   "cell_type": "markdown",
   "metadata": {},
   "source": [
    "Hay un tipo de advertising id que sobresale, el 1891515180541284343."
   ]
  },
  {
   "cell_type": "markdown",
   "metadata": {},
   "source": [
    "# Distribucion de brands de telefonos sobre los distintos advertisers"
   ]
  },
  {
   "cell_type": "code",
   "execution_count": 21,
   "metadata": {},
   "outputs": [
    {
     "data": {
      "text/html": [
       "<div>\n",
       "<style scoped>\n",
       "    .dataframe tbody tr th:only-of-type {\n",
       "        vertical-align: middle;\n",
       "    }\n",
       "\n",
       "    .dataframe tbody tr th {\n",
       "        vertical-align: top;\n",
       "    }\n",
       "\n",
       "    .dataframe thead th {\n",
       "        text-align: right;\n",
       "    }\n",
       "</style>\n",
       "<table border=\"1\" class=\"dataframe\">\n",
       "  <thead>\n",
       "    <tr style=\"text-align: right;\">\n",
       "      <th></th>\n",
       "      <th>advertiser_id</th>\n",
       "      <th>brand</th>\n",
       "      <th>latitude</th>\n",
       "    </tr>\n",
       "  </thead>\n",
       "  <tbody>\n",
       "    <tr>\n",
       "      <th>0</th>\n",
       "      <td>0</td>\n",
       "      <td>0.0</td>\n",
       "      <td>1</td>\n",
       "    </tr>\n",
       "    <tr>\n",
       "      <th>1</th>\n",
       "      <td>0</td>\n",
       "      <td>1.0</td>\n",
       "      <td>2</td>\n",
       "    </tr>\n",
       "    <tr>\n",
       "      <th>2</th>\n",
       "      <td>0</td>\n",
       "      <td>2.0</td>\n",
       "      <td>7</td>\n",
       "    </tr>\n",
       "    <tr>\n",
       "      <th>3</th>\n",
       "      <td>2</td>\n",
       "      <td>0.0</td>\n",
       "      <td>1</td>\n",
       "    </tr>\n",
       "    <tr>\n",
       "      <th>4</th>\n",
       "      <td>2</td>\n",
       "      <td>1.0</td>\n",
       "      <td>1</td>\n",
       "    </tr>\n",
       "    <tr>\n",
       "      <th>5</th>\n",
       "      <td>3</td>\n",
       "      <td>0.0</td>\n",
       "      <td>1915</td>\n",
       "    </tr>\n",
       "    <tr>\n",
       "      <th>6</th>\n",
       "      <td>3</td>\n",
       "      <td>1.0</td>\n",
       "      <td>1517</td>\n",
       "    </tr>\n",
       "    <tr>\n",
       "      <th>7</th>\n",
       "      <td>3</td>\n",
       "      <td>2.0</td>\n",
       "      <td>2020</td>\n",
       "    </tr>\n",
       "    <tr>\n",
       "      <th>8</th>\n",
       "      <td>3</td>\n",
       "      <td>3.0</td>\n",
       "      <td>186</td>\n",
       "    </tr>\n",
       "    <tr>\n",
       "      <th>9</th>\n",
       "      <td>3</td>\n",
       "      <td>4.0</td>\n",
       "      <td>240</td>\n",
       "    </tr>\n",
       "    <tr>\n",
       "      <th>10</th>\n",
       "      <td>3</td>\n",
       "      <td>5.0</td>\n",
       "      <td>129</td>\n",
       "    </tr>\n",
       "    <tr>\n",
       "      <th>11</th>\n",
       "      <td>3</td>\n",
       "      <td>6.0</td>\n",
       "      <td>124</td>\n",
       "    </tr>\n",
       "    <tr>\n",
       "      <th>12</th>\n",
       "      <td>3</td>\n",
       "      <td>7.0</td>\n",
       "      <td>32</td>\n",
       "    </tr>\n",
       "    <tr>\n",
       "      <th>13</th>\n",
       "      <td>3</td>\n",
       "      <td>8.0</td>\n",
       "      <td>16</td>\n",
       "    </tr>\n",
       "    <tr>\n",
       "      <th>14</th>\n",
       "      <td>3</td>\n",
       "      <td>9.0</td>\n",
       "      <td>31</td>\n",
       "    </tr>\n",
       "    <tr>\n",
       "      <th>15</th>\n",
       "      <td>3</td>\n",
       "      <td>10.0</td>\n",
       "      <td>8</td>\n",
       "    </tr>\n",
       "    <tr>\n",
       "      <th>16</th>\n",
       "      <td>3</td>\n",
       "      <td>12.0</td>\n",
       "      <td>3</td>\n",
       "    </tr>\n",
       "    <tr>\n",
       "      <th>17</th>\n",
       "      <td>3</td>\n",
       "      <td>13.0</td>\n",
       "      <td>1</td>\n",
       "    </tr>\n",
       "    <tr>\n",
       "      <th>18</th>\n",
       "      <td>5</td>\n",
       "      <td>1.0</td>\n",
       "      <td>1</td>\n",
       "    </tr>\n",
       "  </tbody>\n",
       "</table>\n",
       "</div>"
      ],
      "text/plain": [
       "    advertiser_id  brand  latitude\n",
       "0               0    0.0         1\n",
       "1               0    1.0         2\n",
       "2               0    2.0         7\n",
       "3               2    0.0         1\n",
       "4               2    1.0         1\n",
       "5               3    0.0      1915\n",
       "6               3    1.0      1517\n",
       "7               3    2.0      2020\n",
       "8               3    3.0       186\n",
       "9               3    4.0       240\n",
       "10              3    5.0       129\n",
       "11              3    6.0       124\n",
       "12              3    7.0        32\n",
       "13              3    8.0        16\n",
       "14              3    9.0        31\n",
       "15              3   10.0         8\n",
       "16              3   12.0         3\n",
       "17              3   13.0         1\n",
       "18              5    1.0         1"
      ]
     },
     "execution_count": 21,
     "metadata": {},
     "output_type": "execute_result"
    }
   ],
   "source": [
    "tabla_counter = clicks.groupby(['advertiser_id', 'brand'], as_index=False)['latitude'].agg('count')\n",
    "tabla_counter"
   ]
  },
  {
   "cell_type": "code",
   "execution_count": 26,
   "metadata": {},
   "outputs": [
    {
     "data": {
      "image/png": "[encoded data removed]",
      "text/plain": [
       "<Figure size 1332x756 with 1 Axes>"
      ]
     },
     "metadata": {
      "needs_background": "light"
     },
     "output_type": "display_data"
    }
   ],
   "source": [
    "# Filtro datos\n",
    "tabla_counter = tabla_counter.loc[(tabla_counter['advertiser_id'] == 3) & (tabla_counter['latitude'] > 150)]\n",
    "\n",
    "pivoted = pd.pivot_table(tabla_counter,values='latitude',columns='brand', \\\n",
    "                         index='advertiser_id')\n",
    "\n",
    "f = plt.figure()\n",
    "plt.title('Cantidad de Clicks segun la brand', fontsize=22)\n",
    "ax = pivoted.plot(kind='bar', stacked=True, colormap='Spectral', figsize=(18.5, 10.5), ax=f.gca())\n",
    "ax.set_ylabel('Cantidad de clicks', fontsize=18);\n",
    "ax.set_xlabel('ID Advertiser', fontsize=18);\n",
    "plt.show()\n",
    "\n",
    "f.set_size_inches(18.5, 10.5, forward=True)\n",
    "f.savefig('img/distribucion_brands_sobre_advertisers.png')"
   ]
  },
  {
   "cell_type": "markdown",
   "metadata": {},
   "source": [
    "# Cuales son los Ad Exchange que generan mas clicks por hora?"
   ]
  },
  {
   "cell_type": "code",
   "execution_count": 27,
   "metadata": {},
   "outputs": [
    {
     "data": {
      "image/png": "[encoded data removed]",
      "text/plain": [
       "<Figure size 1332x756 with 1 Axes>"
      ]
     },
     "metadata": {
      "needs_background": "light"
     },
     "output_type": "display_data"
    }
   ],
   "source": [
    "# Eventos por hora (campaing source)\n",
    "source_por_hora = clicks.groupby(['hour', 'source_id'], as_index=False)['advertiser_id'].count()\n",
    "\n",
    "# Pivot table.\n",
    "pivotedHour = pd.pivot_table(source_por_hora,values='advertiser_id',columns='source_id', \\\n",
    "                         index='hour')\n",
    "# Plot\n",
    "f = plt.figure()\n",
    "plt.title('Cantidad de clicks por hora segun el Ad Exchange', fontsize=22)\n",
    "ax = pivotedHour.plot(kind='bar', stacked=True, colormap='Spectral', figsize=(18.5,10.5), ax=f.gca())\n",
    "ax.set_ylabel('Cantidad de clicks', fontsize=18);\n",
    "ax.set_xlabel('Hora', fontsize=18);\n",
    "plt.show()\n",
    "\n",
    "\n",
    "f.set_size_inches(18.5, 10.5, forward=True)\n",
    "f.savefig('img/clicks_por_hora_ad_exchange.png')"
   ]
  },
  {
   "cell_type": "markdown",
   "metadata": {},
   "source": [
    "# Cuales son los paises con mas clicks?"
   ]
  },
  {
   "cell_type": "code",
   "execution_count": 23,
   "metadata": {},
   "outputs": [
    {
     "data": {
      "text/plain": [
       "country_code\n",
       "6333597102633388268    26351\n",
       "Name: country_code, dtype: int64"
      ]
     },
     "execution_count": 23,
     "metadata": {},
     "output_type": "execute_result"
    }
   ],
   "source": [
    "clicks.groupby('country_code')['country_code'].count()"
   ]
  },
  {
   "cell_type": "markdown",
   "metadata": {},
   "source": [
    "La data disponible proviene de un solo pais. El codigo coincide con el del pais en auctions.csv. El representante de Jampp aclaro que los datos provienen de Uruguay."
   ]
  }
 ],
 "metadata": {
  "kernelspec": {
   "display_name": "Python 3",
   "language": "python",
   "name": "python3"
  },
  "language_info": {
   "codemirror_mode": {
    "name": "ipython",
    "version": 3
   },
   "file_extension": ".py",
   "mimetype": "text/x-python",
   "name": "python",
   "nbconvert_exporter": "python",
   "pygments_lexer": "ipython3",
   "version": "3.7.3"
  }
 },
 "nbformat": 4,
 "nbformat_minor": 2
}
